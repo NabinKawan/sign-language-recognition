{
 "cells": [
  {
   "cell_type": "code",
   "execution_count": 2,
   "id": "6c526e65",
   "metadata": {},
   "outputs": [],
   "source": [
    "import cv2\n",
    "import mediapipe as mp\n",
    "import numpy as np\n",
    "import os"
   ]
  },
  {
   "cell_type": "code",
   "execution_count": 3,
   "id": "e6eb3efe",
   "metadata": {},
   "outputs": [],
   "source": [
    "mpHolistic=mp.solutions.holistic\n",
    "mpDraw=mp.solutions.drawing_utils"
   ]
  },
  {
   "cell_type": "code",
   "execution_count": 3,
   "id": "86374235",
   "metadata": {},
   "outputs": [],
   "source": [
    "#draw landmarks in image\n",
    "def drawLandmarks():\n",
    "    mpDraw.draw_landmarks(img,results.face_landmarks,mpHolistic.FACEMESH_CONTOURS,mpDraw.DrawingSpec(color=(80, 110, 10), thickness=1, circle_radius=1),mpDraw.DrawingSpec(color=(80, 256, 121), thickness=2, circle_radius=2))\n",
    "    mpDraw.draw_landmarks(img,results.pose_landmarks,mpHolistic.POSE_CONNECTIONS,mpDraw.DrawingSpec(color=(80, 22, 10), thickness=1, circle_radius=1),mpDraw.DrawingSpec(color=(80, 44, 121), thickness=2, circle_radius=2))\n",
    "    mpDraw.draw_landmarks(img,results.left_hand_landmarks,mpHolistic.HAND_CONNECTIONS,mpDraw.DrawingSpec(color=(121, 22, 90), thickness=1, circle_radius=1),mpDraw.DrawingSpec(color=(255, 100, 112), thickness=2, circle_radius=2))\n",
    "    mpDraw.draw_landmarks(img,results.right_hand_landmarks,mpHolistic.HAND_CONNECTIONS,mpDraw.DrawingSpec(color=(250, 80, 10), thickness=1, circle_radius=1),mpDraw.DrawingSpec(color=(200, 50, 250), thickness=2, circle_radius=2))"
   ]
  },
  {
   "cell_type": "code",
   "execution_count": 4,
   "id": "2c123af4",
   "metadata": {},
   "outputs": [],
   "source": [
    "# extract keypoints of the features in image\n",
    "def extractKeypoints():\n",
    "    face=np.array([[res.x,res.y,res.z] for res in results.face_landmarks.landmark]).flatten()if results.face_landmarks else np.zeros(468*3)\n",
    "    leftHand=np.array([[res.x,res.y,res.z] for res in results.left_hand_landmarks.landmark]).flatten()if results.left_hand_landmarks else np.zeros(21*3)\n",
    "    rightHand=np.array([[res.x,res.y,res.z] for res in results.right_hand_landmarks.landmark]).flatten()if results.right_hand_landmarks else np.zeros(21*3)\n",
    "    pose=np.array([[res.x,res.y,res.z,res.visibility] for res in results.pose_landmarks.landmark]).flatten()if results.pose_landmarks else np.zeros(33*4)\n",
    "    return np.concatenate([face,leftHand,rightHand,pose])"
   ]
  },
  {
   "cell_type": "code",
   "execution_count": 6,
   "id": "b2539ec9",
   "metadata": {},
   "outputs": [
    {
     "data": {
      "text/plain": [
       "'Sign_Images'"
      ]
     },
     "execution_count": 6,
     "metadata": {},
     "output_type": "execute_result"
    }
   ],
   "source": [
    "os.path.join(\"Sign_Images\")"
   ]
  },
  {
   "cell_type": "code",
   "execution_count": 3,
   "id": "7deb8aec",
   "metadata": {},
   "outputs": [],
   "source": [
    "#path for flatten datas\n",
    "dataPath = os.path.join('Sign_Data')\n",
    "\n",
    "#path for images\n",
    "imgPath= os.path.join('Sign_Image')\n",
    "\n",
    "signs=np.array([\"Hello\",\"Thank You\", \"Hungry\", \"Food\", \"Hospital\", \"Washroom\"])\n",
    "\n",
    "#30 video of each sign\n",
    "numSequences=30\n",
    "\n",
    "#length of each video\n",
    "sequenceLength=30"
   ]
  },
  {
   "cell_type": "code",
   "execution_count": 7,
   "id": "fb43e464",
   "metadata": {},
   "outputs": [],
   "source": [
    "for sign in signs:\n",
    "    for sequence in range(numSequences):\n",
    "            try:\n",
    "                os.makedirs(os.path.join(dataPath,sign,str(sequence)))\n",
    "                os.makedirs(os.path.join(imgPath,sign,str(sequence)))\n",
    "            except:\n",
    "                pass\n",
    "# if not os.path.exists(\"Sign_Data\"):\n",
    "#     os.mkdir(\"Sign_Data\")\n",
    "# else:\n",
    "#     print(\"already exist\")\n"
   ]
  },
  {
   "cell_type": "code",
   "execution_count": 5,
   "id": "ac010925",
   "metadata": {},
   "outputs": [],
   "source": [
    "os.path??"
   ]
  },
  {
   "cell_type": "code",
   "execution_count": 9,
   "id": "bf83f17b",
   "metadata": {},
   "outputs": [],
   "source": [
    "# while True:\n",
    "#     inpt=input(print(\"Select which data are you collecting:\\n0: Hello \\n1: Thank you\"))\n",
    "#     if inpt == '0' or inpt == '1':\n",
    "#         choice=signs[int(inpt)]\n",
    "#         break\n",
    "#     else:\n",
    "#         print(\"Invalid input, please select again!!\")\n",
    "# choice   "
   ]
  },
  {
   "cell_type": "code",
   "execution_count": 10,
   "id": "77bbca9f",
   "metadata": {},
   "outputs": [],
   "source": [
    "vid=cv2.VideoCapture(0)\n",
    "with mpHolistic.Holistic() as holistic:\n",
    "\n",
    "    #taking label input \n",
    "     while True:\n",
    "        blankImg = np.zeros(shape=[512, 512, 3], dtype=np.uint8)\n",
    "        cv2.putText(blankImg,\"Select label: \", (10,50),cv2.FONT_HERSHEY_SIMPLEX, 0.8, (255, 0, 0), 1, cv2.LINE_AA)\n",
    "        cv2.putText(blankImg,\"0: Hello , 1: Thank You\", (10,100),cv2.FONT_HERSHEY_SIMPLEX, 0.5, (0, 255, 0), 1, cv2.LINE_AA)\n",
    "        cv2.putText(blankImg,\"2: Hungry , 3: Food\", (10,150),cv2.FONT_HERSHEY_SIMPLEX, 0.5, (0, 255, 0), 1, cv2.LINE_AA)\n",
    "        cv2.putText(blankImg,\"4: Hospital , 5: Washroom\", (10,200),cv2.FONT_HERSHEY_SIMPLEX, 0.5, (0, 255, 0), 1, cv2.LINE_AA)\n",
    "        cv2.putText(blankImg,\"'ESC' to escape\", (10,250),cv2.FONT_HERSHEY_SIMPLEX, 0.5, (0, 0, 255), 1, cv2.LINE_AA)\n",
    "        cv2.imshow('Select label',blankImg)\n",
    "        inpt=cv2.waitKey(0)\n",
    "        if inpt == 48 or inpt == 49 or inpt == 50 or inpt == 51 or inpt == 52 or inpt == 53:\n",
    "            choice=signs[inpt-48]\n",
    "            cv2.destroyWindow('Select label')\n",
    "            break\n",
    "        else:\n",
    "            if inpt==27:\n",
    "                break\n",
    "            \n",
    "    #checking camera is opened or not and taking data    \n",
    "     while vid.isOpened() and inpt!=27 :\n",
    "        for sequence in range(numSequences):\n",
    "            for frameNum in range(sequenceLength+1):\n",
    "                #checks for user input to close the windows                \n",
    "                key=cv2.waitKey(1)                  \n",
    "                success,img=vid.read()\n",
    "                \n",
    "                #checking if data is accessed or not from camera\n",
    "                if not success:\n",
    "                    break  \n",
    "                img=cv2.cvtColor(img,cv2.COLOR_BGR2RGB)\n",
    "                # img.flags.writeable=False\n",
    "                results=holistic.process(img) \n",
    "                # img.flags.writeable=True     \n",
    "                img=cv2.cvtColor(img,cv2.COLOR_RGB2BGR)\n",
    "                \n",
    "                #draws landmarks\n",
    "                drawLandmarks()\n",
    "                \n",
    "                #show feed for collecting datas and delays for 2 sec\n",
    "                if frameNum == 0: \n",
    "                    cv2.putText(img, \"Press 'ESC' to escape\", (10,20),cv2.FONT_HERSHEY_SIMPLEX, 0.5, (0, 0, 255), 1, cv2.LINE_AA) \n",
    "                    cv2.putText(img, 'press any key to conitnue', (10,60), \n",
    "                               cv2.FONT_HERSHEY_SIMPLEX, 0.6, (255,0, 0), 1, cv2.LINE_AA)\n",
    "                    cv2.imshow('Collecting Datas', img)\n",
    "                    key= cv2.waitKey(0)\n",
    "                    cv2.waitKey(1000)\n",
    "                    \n",
    "                #starts collecting datas    \n",
    "                else: \n",
    "                    cv2.putText(img, f\"Collecting Data for '{choice}' Video Number {sequence}\", (15,20),cv2.FONT_HERSHEY_SIMPLEX, 0.5, (0, 0, 255), 1, cv2.LINE_AA) \n",
    "                    cv2.imshow('Collecting Datas', img)\n",
    "                    keypoints=extractKeypoints()  \n",
    "                    \n",
    "                    #saving flatten array to datapath\n",
    "                    np.save(os.path.join(dataPath,choice,str(sequence),str(frameNum-1)),keypoints)\n",
    "                    \n",
    "                    #saving image to image path\n",
    "                    jpgPath=os.path.join(imgPath,choice,str(sequence),str(frameNum-1))\n",
    "                    cv2.imwrite(f\"{jpgPath}.jpg\",img)\n",
    "                    key=2 #giving default value for key to avoid esc while taking data\n",
    "                \n",
    "                if key == 27 : #press esc to close the window\n",
    "                    break     \n",
    "\n",
    "            if key == 27 : #press esc to close the window\n",
    "                break        \n",
    "        if key == 27 : #press esc to close the window\n",
    "            break             \n",
    "            \n",
    "#releasing the port            \n",
    "vid.release() \n",
    "\n",
    "#destroying all opened windows using opencv\n",
    "cv2.destroyAllWindows()            "
   ]
  },
  {
   "cell_type": "markdown",
   "id": "4edce1ee",
   "metadata": {},
   "source": [
    "# Preprocess Data and Create Labels and Features"
   ]
  },
  {
   "cell_type": "code",
   "execution_count": 8,
   "id": "b53f2250",
   "metadata": {},
   "outputs": [],
   "source": [
    "from sklearn.model_selection import train_test_split\n",
    "from tensorflow.keras.utils import to_categorical"
   ]
  },
  {
   "cell_type": "code",
   "execution_count": 9,
   "id": "b58714ed",
   "metadata": {},
   "outputs": [],
   "source": [
    "label_map = {label:num for num, label in enumerate(signs)}"
   ]
  },
  {
   "cell_type": "code",
   "execution_count": null,
   "id": "aa789dee",
   "metadata": {},
   "outputs": [
    {
     "data": {
      "text/plain": [
       "{'Hello': 0,\n",
       " 'Thank You': 1,\n",
       " 'Hungry': 2,\n",
       " 'Food': 3,\n",
       " 'Hospital': 4,\n",
       " 'Washroom': 5}"
      ]
     },
     "execution_count": 13,
     "metadata": {},
     "output_type": "execute_result"
    }
   ],
   "source": [
    "label_map"
   ]
  },
  {
   "cell_type": "code",
   "execution_count": 11,
   "id": "4d9bcea2",
   "metadata": {},
   "outputs": [
    {
     "data": {
      "text/plain": [
       "5"
      ]
     },
     "execution_count": 11,
     "metadata": {},
     "output_type": "execute_result"
    }
   ],
   "source": [
    "label_map[sign]"
   ]
  },
  {
   "cell_type": "code",
   "execution_count": 10,
   "id": "1af8e33d",
   "metadata": {},
   "outputs": [],
   "source": [
    "sequences, labels = [], []\n",
    "for sign in signs:\n",
    "    for sequence in range(numSequences):\n",
    "        window = []\n",
    "        for frameNum in range(sequenceLength):\n",
    "            res = np.load(os.path.join(dataPath, sign, str(sequence), \"{}.npy\".format(frameNum)))\n",
    "            window.append(res)\n",
    "        sequences.append(window)\n",
    "        labels.append(label_map[sign])"
   ]
  },
  {
   "cell_type": "code",
   "execution_count": null,
   "id": "6aa381c4",
   "metadata": {},
   "outputs": [],
   "source": [
    "labels"
   ]
  },
  {
   "cell_type": "code",
   "execution_count": 13,
   "id": "8088e81b",
   "metadata": {},
   "outputs": [
    {
     "data": {
      "text/plain": [
       "(180,)"
      ]
     },
     "execution_count": 13,
     "metadata": {},
     "output_type": "execute_result"
    }
   ],
   "source": [
    "np.array(labels).shape"
   ]
  },
  {
   "cell_type": "code",
   "execution_count": null,
   "id": "ec0c5771",
   "metadata": {},
   "outputs": [
    {
     "data": {
      "text/plain": [
       "(180, 30, 1662)"
      ]
     },
     "execution_count": 16,
     "metadata": {},
     "output_type": "execute_result"
    }
   ],
   "source": [
    "np.array(sequences).shape"
   ]
  },
  {
   "cell_type": "code",
   "execution_count": 17,
   "id": "90d56a3e",
   "metadata": {},
   "outputs": [],
   "source": [
    "arr=np.array([[[1,2],[3,4],[5,6]],\n",
    "                 [[1,2],[3,4],[5,6]]])"
   ]
  },
  {
   "cell_type": "code",
   "execution_count": 18,
   "id": "3e5ea6d1",
   "metadata": {},
   "outputs": [
    {
     "data": {
      "text/plain": [
       "(2, 3, 2)"
      ]
     },
     "execution_count": 18,
     "metadata": {},
     "output_type": "execute_result"
    }
   ],
   "source": [
    "arr.shape"
   ]
  },
  {
   "cell_type": "code",
   "execution_count": 11,
   "id": "4b00c22c",
   "metadata": {},
   "outputs": [],
   "source": [
    "X = np.array(sequences)"
   ]
  },
  {
   "cell_type": "code",
   "execution_count": null,
   "id": "4a1eb1ce",
   "metadata": {},
   "outputs": [
    {
     "data": {
      "text/plain": [
       "(180, 30, 1662)"
      ]
     },
     "execution_count": 20,
     "metadata": {},
     "output_type": "execute_result"
    }
   ],
   "source": [
    "X.shape"
   ]
  },
  {
   "cell_type": "code",
   "execution_count": 12,
   "id": "37b12529",
   "metadata": {},
   "outputs": [],
   "source": [
    "y = to_categorical(labels).astype(int)"
   ]
  },
  {
   "cell_type": "code",
   "execution_count": null,
   "id": "1f2c8e9c",
   "metadata": {},
   "outputs": [
    {
     "data": {
      "text/plain": [
       "(180, 6)"
      ]
     },
     "execution_count": 22,
     "metadata": {},
     "output_type": "execute_result"
    }
   ],
   "source": [
    "y.shape"
   ]
  },
  {
   "cell_type": "code",
   "execution_count": null,
   "id": "4a7a24e3",
   "metadata": {},
   "outputs": [
    {
     "data": {
      "text/plain": [
       "array([[1, 0, 0, 0, 0, 0],\n",
       "       [1, 0, 0, 0, 0, 0],\n",
       "       [1, 0, 0, 0, 0, 0],\n",
       "       ...,\n",
       "       [0, 0, 0, 0, 0, 1],\n",
       "       [0, 0, 0, 0, 0, 1],\n",
       "       [0, 0, 0, 0, 0, 1]])"
      ]
     },
     "execution_count": 23,
     "metadata": {},
     "output_type": "execute_result"
    }
   ],
   "source": [
    "y"
   ]
  },
  {
   "cell_type": "code",
   "execution_count": 13,
   "id": "4553ce7e",
   "metadata": {},
   "outputs": [],
   "source": [
    "X_train, X_test, y_train, y_test = train_test_split(X, y, test_size=0.05)"
   ]
  },
  {
   "cell_type": "code",
   "execution_count": 25,
   "id": "f9fe2fed",
   "metadata": {},
   "outputs": [
    {
     "data": {
      "text/plain": [
       "(9, 6)"
      ]
     },
     "execution_count": 25,
     "metadata": {},
     "output_type": "execute_result"
    }
   ],
   "source": [
    "y_test.shape"
   ]
  },
  {
   "cell_type": "markdown",
   "id": "e16e463d",
   "metadata": {},
   "source": [
    "# Save test datas and signs"
   ]
  },
  {
   "cell_type": "code",
   "execution_count": 14,
   "id": "5d8a8450",
   "metadata": {},
   "outputs": [],
   "source": [
    "testDatasPath=os.path.join(\"Test_Datas\")\n",
    "signsPath=os.path.join(\"Signs\")\n",
    "try:\n",
    "    os.makedirs(os.path.join(testDatasPath))\n",
    "    os.makedirs(os.path.join(signsPath))\n",
    "except:\n",
    "    pass\n",
    "np.save(os.path.join(testDatasPath,'x_test.npy'),X_test)\n",
    "np.save(os.path.join(testDatasPath,'y_test.npy'),y_test)\n",
    "np.save(os.path.join(signsPath,'signs.npy'),signs)"
   ]
  },
  {
   "cell_type": "markdown",
   "id": "76d27352",
   "metadata": {},
   "source": [
    "# Build and Train LSTM Neural Network"
   ]
  },
  {
   "cell_type": "code",
   "execution_count": 15,
   "id": "2e5b49ee",
   "metadata": {},
   "outputs": [],
   "source": [
    "from tensorflow.keras.models import Sequential\n",
    "from tensorflow.keras.layers import LSTM, Dense\n",
    "from tensorflow.keras.callbacks import TensorBoard"
   ]
  },
  {
   "cell_type": "markdown",
   "id": "6d696a66",
   "metadata": {},
   "source": [
    "Build and Train model"
   ]
  },
  {
   "cell_type": "code",
   "execution_count": 16,
   "id": "0dbaaefc",
   "metadata": {},
   "outputs": [],
   "source": [
    "model = Sequential()\n",
    "model.add(LSTM(256, return_sequences=True, activation='relu', input_shape=(30,1662)))\n",
    "model.add(LSTM(128, return_sequences=True, activation='relu'))\n",
    "model.add(LSTM(64, return_sequences=False, activation='relu'))\n",
    "model.add(Dense(64, activation='relu'))\n",
    "model.add(Dense(32, activation='relu'))\n",
    "model.add(Dense(signs.shape[0], activation='softmax'))\n"
   ]
  },
  {
   "cell_type": "code",
   "execution_count": 7,
   "id": "847c3913",
   "metadata": {},
   "outputs": [
    {
     "data": {
      "text/plain": [
       "6"
      ]
     },
     "execution_count": 7,
     "metadata": {},
     "output_type": "execute_result"
    }
   ],
   "source": [
    "signs.shape[0]"
   ]
  },
  {
   "cell_type": "code",
   "execution_count": null,
   "id": "b1c22a3a",
   "metadata": {},
   "outputs": [],
   "source": [
    "res = [.7, 0.2, 0.1]"
   ]
  },
  {
   "cell_type": "code",
   "execution_count": null,
   "id": "e48c007e",
   "metadata": {},
   "outputs": [
    {
     "data": {
      "text/plain": [
       "'Hello'"
      ]
     },
     "execution_count": 31,
     "metadata": {},
     "output_type": "execute_result"
    }
   ],
   "source": [
    "signs[np.argmax(res)]"
   ]
  },
  {
   "cell_type": "code",
   "execution_count": 17,
   "id": "d353295f",
   "metadata": {},
   "outputs": [],
   "source": [
    "model.compile(optimizer='Adam', loss='categorical_crossentropy', metrics=['categorical_accuracy'])"
   ]
  },
  {
   "cell_type": "code",
   "execution_count": 18,
   "id": "ff92e43b",
   "metadata": {},
   "outputs": [],
   "source": [
    "log_dir = os.path.join('Logs')\n",
    "tb_callback = TensorBoard(log_dir=log_dir)"
   ]
  },
  {
   "cell_type": "code",
   "execution_count": 19,
   "id": "ead1063c",
   "metadata": {},
   "outputs": [
    {
     "name": "stdout",
     "output_type": "stream",
     "text": [
      "Epoch 1/2000\n",
      "6/6 [==============================] - 9s 363ms/step - loss: 20.6326 - categorical_accuracy: 0.1637\n",
      "Epoch 2/2000\n",
      "6/6 [==============================] - 2s 372ms/step - loss: 71.8506 - categorical_accuracy: 0.1988\n",
      "Epoch 3/2000\n",
      "6/6 [==============================] - 2s 358ms/step - loss: 108.5349 - categorical_accuracy: 0.2164\n",
      "Epoch 4/2000\n",
      "6/6 [==============================] - 2s 355ms/step - loss: 163.8445 - categorical_accuracy: 0.1813\n",
      "Epoch 5/2000\n",
      "6/6 [==============================] - 2s 349ms/step - loss: 107.1591 - categorical_accuracy: 0.1228\n",
      "Epoch 6/2000\n",
      "6/6 [==============================] - 2s 348ms/step - loss: 57.7937 - categorical_accuracy: 0.1170\n",
      "Epoch 7/2000\n",
      "6/6 [==============================] - 2s 359ms/step - loss: 59.4696 - categorical_accuracy: 0.1287\n",
      "Epoch 8/2000\n",
      "6/6 [==============================] - 2s 329ms/step - loss: 46.6790 - categorical_accuracy: 0.1871\n",
      "Epoch 9/2000\n",
      "6/6 [==============================] - 2s 343ms/step - loss: 31.3910 - categorical_accuracy: 0.1696\n",
      "Epoch 10/2000\n",
      "6/6 [==============================] - 2s 367ms/step - loss: 27.4690 - categorical_accuracy: 0.1696\n",
      "Epoch 11/2000\n",
      "6/6 [==============================] - 2s 326ms/step - loss: 17.8973 - categorical_accuracy: 0.1170\n",
      "Epoch 12/2000\n",
      "6/6 [==============================] - 2s 325ms/step - loss: 17.9031 - categorical_accuracy: 0.1637\n",
      "Epoch 13/2000\n",
      "6/6 [==============================] - 2s 335ms/step - loss: 10.5894 - categorical_accuracy: 0.1988\n",
      "Epoch 14/2000\n",
      "6/6 [==============================] - 2s 346ms/step - loss: 6.1852 - categorical_accuracy: 0.1637\n",
      "Epoch 15/2000\n",
      "6/6 [==============================] - 2s 340ms/step - loss: 6.2452 - categorical_accuracy: 0.2164\n",
      "Epoch 16/2000\n",
      "6/6 [==============================] - 2s 318ms/step - loss: 4.3637 - categorical_accuracy: 0.2398\n",
      "Epoch 17/2000\n",
      "6/6 [==============================] - 2s 313ms/step - loss: 3.2025 - categorical_accuracy: 0.2164\n",
      "Epoch 18/2000\n",
      "6/6 [==============================] - 2s 317ms/step - loss: 2.6407 - categorical_accuracy: 0.2105\n",
      "Epoch 19/2000\n",
      "6/6 [==============================] - 2s 316ms/step - loss: 2.4219 - categorical_accuracy: 0.1988\n",
      "Epoch 20/2000\n",
      "6/6 [==============================] - 2s 334ms/step - loss: 2.3030 - categorical_accuracy: 0.2164\n",
      "Epoch 21/2000\n",
      "6/6 [==============================] - 2s 324ms/step - loss: 2.1587 - categorical_accuracy: 0.2398\n",
      "Epoch 22/2000\n",
      "6/6 [==============================] - 2s 315ms/step - loss: 2.7200 - categorical_accuracy: 0.1988\n",
      "Epoch 23/2000\n",
      "6/6 [==============================] - 2s 321ms/step - loss: 2.2151 - categorical_accuracy: 0.2047\n",
      "Epoch 24/2000\n",
      "6/6 [==============================] - 2s 325ms/step - loss: 2.6092 - categorical_accuracy: 0.2164\n",
      "Epoch 25/2000\n",
      "6/6 [==============================] - 2s 344ms/step - loss: 2.3189 - categorical_accuracy: 0.1579\n",
      "Epoch 26/2000\n",
      "6/6 [==============================] - 2s 320ms/step - loss: 2.3719 - categorical_accuracy: 0.1930\n",
      "Epoch 27/2000\n",
      "6/6 [==============================] - 2s 319ms/step - loss: 2.2378 - categorical_accuracy: 0.1696\n",
      "Epoch 28/2000\n",
      "6/6 [==============================] - 2s 316ms/step - loss: 1.9781 - categorical_accuracy: 0.1579\n",
      "Epoch 29/2000\n",
      "6/6 [==============================] - 2s 322ms/step - loss: 2.2152 - categorical_accuracy: 0.2339\n",
      "Epoch 30/2000\n",
      "6/6 [==============================] - 2s 320ms/step - loss: 2.0166 - categorical_accuracy: 0.2222\n",
      "Epoch 31/2000\n",
      "6/6 [==============================] - 2s 324ms/step - loss: 1.9848 - categorical_accuracy: 0.2807\n",
      "Epoch 32/2000\n",
      "6/6 [==============================] - 2s 321ms/step - loss: 1.9538 - categorical_accuracy: 0.2690\n",
      "Epoch 33/2000\n",
      "6/6 [==============================] - 2s 318ms/step - loss: 2.6234 - categorical_accuracy: 0.2105\n",
      "Epoch 34/2000\n",
      "6/6 [==============================] - 2s 321ms/step - loss: 2.7186 - categorical_accuracy: 0.2339\n",
      "Epoch 35/2000\n",
      "6/6 [==============================] - 2s 319ms/step - loss: 2.0848 - categorical_accuracy: 0.2456\n",
      "Epoch 36/2000\n",
      "6/6 [==============================] - 2s 316ms/step - loss: 1.9577 - categorical_accuracy: 0.2807\n",
      "Epoch 37/2000\n",
      "6/6 [==============================] - 2s 322ms/step - loss: 1.9761 - categorical_accuracy: 0.2865\n",
      "Epoch 38/2000\n",
      "6/6 [==============================] - 2s 327ms/step - loss: 1.9773 - categorical_accuracy: 0.1637\n",
      "Epoch 39/2000\n",
      "6/6 [==============================] - 2s 324ms/step - loss: 1.8614 - categorical_accuracy: 0.2924\n",
      "Epoch 40/2000\n",
      "6/6 [==============================] - 2s 319ms/step - loss: 2.2388 - categorical_accuracy: 0.2749\n",
      "Epoch 41/2000\n",
      "6/6 [==============================] - 2s 321ms/step - loss: 2.1671 - categorical_accuracy: 0.1930\n",
      "Epoch 42/2000\n",
      "6/6 [==============================] - 2s 319ms/step - loss: 2.0090 - categorical_accuracy: 0.3041\n",
      "Epoch 43/2000\n",
      "6/6 [==============================] - 2s 320ms/step - loss: 2.2677 - categorical_accuracy: 0.2047\n",
      "Epoch 44/2000\n",
      "6/6 [==============================] - 2s 326ms/step - loss: 1.9177 - categorical_accuracy: 0.2865\n",
      "Epoch 45/2000\n",
      "6/6 [==============================] - 2s 328ms/step - loss: 1.7221 - categorical_accuracy: 0.2690\n",
      "Epoch 46/2000\n",
      "6/6 [==============================] - 2s 316ms/step - loss: 1.9834 - categorical_accuracy: 0.2573\n",
      "Epoch 47/2000\n",
      "6/6 [==============================] - 2s 308ms/step - loss: 1.6523 - categorical_accuracy: 0.2749\n",
      "Epoch 48/2000\n",
      "6/6 [==============================] - 2s 328ms/step - loss: 1.6839 - categorical_accuracy: 0.3158\n",
      "Epoch 49/2000\n",
      "6/6 [==============================] - 2s 324ms/step - loss: 1.6794 - categorical_accuracy: 0.2865\n",
      "Epoch 50/2000\n",
      "6/6 [==============================] - 2s 317ms/step - loss: 1.7319 - categorical_accuracy: 0.3041\n",
      "Epoch 51/2000\n",
      "6/6 [==============================] - 2s 324ms/step - loss: 1.7242 - categorical_accuracy: 0.3450\n",
      "Epoch 52/2000\n",
      "6/6 [==============================] - 2s 321ms/step - loss: 1.4738 - categorical_accuracy: 0.3333\n",
      "Epoch 53/2000\n",
      "6/6 [==============================] - 2s 305ms/step - loss: 1.4643 - categorical_accuracy: 0.3801\n",
      "Epoch 54/2000\n",
      "6/6 [==============================] - 2s 319ms/step - loss: 1.2710 - categorical_accuracy: 0.4386\n",
      "Epoch 55/2000\n",
      "6/6 [==============================] - 2s 325ms/step - loss: 1.1945 - categorical_accuracy: 0.4035\n",
      "Epoch 56/2000\n",
      "6/6 [==============================] - 2s 322ms/step - loss: 1.3023 - categorical_accuracy: 0.4503\n",
      "Epoch 57/2000\n",
      "6/6 [==============================] - 2s 332ms/step - loss: 1.2553 - categorical_accuracy: 0.4737\n",
      "Epoch 58/2000\n",
      "6/6 [==============================] - 2s 330ms/step - loss: 1.3035 - categorical_accuracy: 0.4678\n",
      "Epoch 59/2000\n",
      "6/6 [==============================] - 2s 326ms/step - loss: 1.0239 - categorical_accuracy: 0.5673\n",
      "Epoch 60/2000\n",
      "6/6 [==============================] - 2s 351ms/step - loss: 1.0597 - categorical_accuracy: 0.4912\n",
      "Epoch 61/2000\n",
      "6/6 [==============================] - 2s 342ms/step - loss: 1.1356 - categorical_accuracy: 0.4561\n",
      "Epoch 62/2000\n",
      "6/6 [==============================] - 2s 355ms/step - loss: 1.3365 - categorical_accuracy: 0.4503\n",
      "Epoch 63/2000\n",
      "6/6 [==============================] - 2s 328ms/step - loss: 1.2753 - categorical_accuracy: 0.4269\n",
      "Epoch 64/2000\n",
      "6/6 [==============================] - 2s 351ms/step - loss: 1.1756 - categorical_accuracy: 0.4620\n",
      "Epoch 65/2000\n",
      "6/6 [==============================] - 2s 361ms/step - loss: 1.0693 - categorical_accuracy: 0.4971\n",
      "Epoch 66/2000\n",
      "6/6 [==============================] - 2s 348ms/step - loss: 1.4227 - categorical_accuracy: 0.5789\n",
      "Epoch 67/2000\n",
      "6/6 [==============================] - 2s 337ms/step - loss: 1.7494 - categorical_accuracy: 0.4094\n",
      "Epoch 68/2000\n",
      "6/6 [==============================] - 2s 353ms/step - loss: 1.5648 - categorical_accuracy: 0.6433\n",
      "Epoch 69/2000\n",
      "6/6 [==============================] - 2s 351ms/step - loss: 1.6227 - categorical_accuracy: 0.4737\n",
      "Epoch 70/2000\n",
      "6/6 [==============================] - 2s 334ms/step - loss: 4.1617 - categorical_accuracy: 0.4094\n",
      "Epoch 71/2000\n",
      "6/6 [==============================] - 2s 334ms/step - loss: 19.5703 - categorical_accuracy: 0.3041\n",
      "Epoch 72/2000\n",
      "6/6 [==============================] - 2s 343ms/step - loss: 12.7828 - categorical_accuracy: 0.1696\n",
      "Epoch 73/2000\n",
      "6/6 [==============================] - 2s 341ms/step - loss: 11.1399 - categorical_accuracy: 0.2105\n",
      "Epoch 74/2000\n",
      "6/6 [==============================] - 2s 321ms/step - loss: 10.3679 - categorical_accuracy: 0.1637\n",
      "Epoch 75/2000\n",
      "6/6 [==============================] - 2s 320ms/step - loss: 8.1992 - categorical_accuracy: 0.2164\n",
      "Epoch 76/2000\n",
      "6/6 [==============================] - 2s 320ms/step - loss: 7.0705 - categorical_accuracy: 0.1637\n",
      "Epoch 77/2000\n",
      "6/6 [==============================] - 2s 315ms/step - loss: 3.6442 - categorical_accuracy: 0.2339\n",
      "Epoch 78/2000\n",
      "6/6 [==============================] - 2s 332ms/step - loss: 3.2159 - categorical_accuracy: 0.1696\n",
      "Epoch 79/2000\n",
      "6/6 [==============================] - 2s 329ms/step - loss: 2.4885 - categorical_accuracy: 0.2573\n",
      "Epoch 80/2000\n",
      "6/6 [==============================] - 2s 323ms/step - loss: 2.1798 - categorical_accuracy: 0.2632\n",
      "Epoch 81/2000\n",
      "6/6 [==============================] - 2s 325ms/step - loss: 2.5026 - categorical_accuracy: 0.1754\n",
      "Epoch 82/2000\n",
      "6/6 [==============================] - 2s 310ms/step - loss: 2.2838 - categorical_accuracy: 0.2749\n",
      "Epoch 83/2000\n",
      "6/6 [==============================] - 2s 324ms/step - loss: 2.5573 - categorical_accuracy: 0.3333\n",
      "Epoch 84/2000\n",
      "6/6 [==============================] - 2s 319ms/step - loss: 2.3567 - categorical_accuracy: 0.2515\n",
      "Epoch 85/2000\n",
      "6/6 [==============================] - 2s 343ms/step - loss: 1.8896 - categorical_accuracy: 0.2807\n",
      "Epoch 86/2000\n",
      "6/6 [==============================] - 2s 326ms/step - loss: 1.7545 - categorical_accuracy: 0.2924\n",
      "Epoch 87/2000\n",
      "6/6 [==============================] - 2s 340ms/step - loss: 1.6574 - categorical_accuracy: 0.3158\n",
      "Epoch 88/2000\n",
      "6/6 [==============================] - 2s 353ms/step - loss: 1.5934 - categorical_accuracy: 0.3450\n",
      "Epoch 89/2000\n",
      "6/6 [==============================] - 2s 333ms/step - loss: 1.5974 - categorical_accuracy: 0.2456\n",
      "Epoch 90/2000\n",
      "6/6 [==============================] - 2s 362ms/step - loss: 1.4920 - categorical_accuracy: 0.3626\n",
      "Epoch 91/2000\n",
      "6/6 [==============================] - 2s 318ms/step - loss: 1.5525 - categorical_accuracy: 0.3801\n",
      "Epoch 92/2000\n",
      "6/6 [==============================] - 2s 334ms/step - loss: 1.4713 - categorical_accuracy: 0.3216\n",
      "Epoch 93/2000\n",
      "6/6 [==============================] - 2s 331ms/step - loss: 1.5016 - categorical_accuracy: 0.3509\n",
      "Epoch 94/2000\n",
      "6/6 [==============================] - 2s 316ms/step - loss: 1.6332 - categorical_accuracy: 0.3216\n",
      "Epoch 95/2000\n",
      "6/6 [==============================] - 2s 347ms/step - loss: 1.6256 - categorical_accuracy: 0.3392\n",
      "Epoch 96/2000\n",
      "6/6 [==============================] - 2s 320ms/step - loss: 1.5778 - categorical_accuracy: 0.3392\n",
      "Epoch 97/2000\n",
      "6/6 [==============================] - 2s 300ms/step - loss: 1.6245 - categorical_accuracy: 0.3275\n",
      "Epoch 98/2000\n",
      "6/6 [==============================] - 2s 325ms/step - loss: 1.5985 - categorical_accuracy: 0.3626\n",
      "Epoch 99/2000\n",
      "6/6 [==============================] - 2s 318ms/step - loss: 1.6215 - categorical_accuracy: 0.3567\n",
      "Epoch 100/2000\n",
      "6/6 [==============================] - 2s 316ms/step - loss: 1.4013 - categorical_accuracy: 0.4269\n",
      "Epoch 101/2000\n",
      "6/6 [==============================] - 2s 315ms/step - loss: 1.4800 - categorical_accuracy: 0.3392\n",
      "Epoch 102/2000\n",
      "6/6 [==============================] - 2s 324ms/step - loss: 1.5328 - categorical_accuracy: 0.3684\n",
      "Epoch 103/2000\n",
      "6/6 [==============================] - 2s 307ms/step - loss: 1.5177 - categorical_accuracy: 0.3918\n",
      "Epoch 104/2000\n",
      "6/6 [==============================] - 2s 304ms/step - loss: 1.4811 - categorical_accuracy: 0.3860\n",
      "Epoch 105/2000\n",
      "6/6 [==============================] - 2s 305ms/step - loss: 1.5702 - categorical_accuracy: 0.2982\n",
      "Epoch 106/2000\n",
      "6/6 [==============================] - 2s 303ms/step - loss: 1.5861 - categorical_accuracy: 0.3918\n",
      "Epoch 107/2000\n",
      "6/6 [==============================] - 2s 332ms/step - loss: 1.8923 - categorical_accuracy: 0.3275\n",
      "Epoch 108/2000\n",
      "6/6 [==============================] - 2s 313ms/step - loss: 1.9818 - categorical_accuracy: 0.3626\n",
      "Epoch 109/2000\n",
      "6/6 [==============================] - 2s 328ms/step - loss: 1.8172 - categorical_accuracy: 0.2164\n",
      "Epoch 110/2000\n",
      "6/6 [==============================] - 2s 324ms/step - loss: 1.6903 - categorical_accuracy: 0.3333\n",
      "Epoch 111/2000\n",
      "6/6 [==============================] - 2s 311ms/step - loss: 1.8544 - categorical_accuracy: 0.3158\n",
      "Epoch 112/2000\n",
      "6/6 [==============================] - 2s 306ms/step - loss: 1.8287 - categorical_accuracy: 0.2982\n",
      "Epoch 113/2000\n",
      "6/6 [==============================] - 2s 302ms/step - loss: 1.6823 - categorical_accuracy: 0.2982\n",
      "Epoch 114/2000\n",
      "6/6 [==============================] - 2s 308ms/step - loss: 1.6124 - categorical_accuracy: 0.3216\n",
      "Epoch 115/2000\n",
      "6/6 [==============================] - 2s 337ms/step - loss: 1.5367 - categorical_accuracy: 0.3977\n",
      "Epoch 116/2000\n",
      "6/6 [==============================] - 2s 306ms/step - loss: 1.7805 - categorical_accuracy: 0.3275\n",
      "Epoch 117/2000\n",
      "6/6 [==============================] - 2s 301ms/step - loss: 1.7160 - categorical_accuracy: 0.3567\n",
      "Epoch 118/2000\n",
      "6/6 [==============================] - 2s 319ms/step - loss: 1.3822 - categorical_accuracy: 0.4035\n",
      "Epoch 119/2000\n",
      "6/6 [==============================] - 2s 307ms/step - loss: 1.3051 - categorical_accuracy: 0.4620\n",
      "Epoch 120/2000\n",
      "6/6 [==============================] - 2s 347ms/step - loss: 1.2604 - categorical_accuracy: 0.4035\n",
      "Epoch 121/2000\n",
      "6/6 [==============================] - 2s 360ms/step - loss: 1.2681 - categorical_accuracy: 0.4678\n",
      "Epoch 122/2000\n",
      "6/6 [==============================] - 2s 360ms/step - loss: 1.2719 - categorical_accuracy: 0.4386\n",
      "Epoch 123/2000\n",
      "6/6 [==============================] - 2s 375ms/step - loss: 1.7169 - categorical_accuracy: 0.3626\n",
      "Epoch 124/2000\n",
      "6/6 [==============================] - 2s 380ms/step - loss: 1.6896 - categorical_accuracy: 0.3801\n",
      "Epoch 125/2000\n",
      "6/6 [==============================] - 2s 355ms/step - loss: 1.3471 - categorical_accuracy: 0.4678\n",
      "Epoch 126/2000\n",
      "6/6 [==============================] - 2s 350ms/step - loss: 1.3748 - categorical_accuracy: 0.4737\n",
      "Epoch 127/2000\n",
      "6/6 [==============================] - 2s 357ms/step - loss: 1.2799 - categorical_accuracy: 0.4737\n",
      "Epoch 128/2000\n",
      "6/6 [==============================] - 2s 368ms/step - loss: 1.3625 - categorical_accuracy: 0.4327\n",
      "Epoch 129/2000\n",
      "6/6 [==============================] - 2s 362ms/step - loss: 1.1435 - categorical_accuracy: 0.5205\n",
      "Epoch 130/2000\n",
      "6/6 [==============================] - 2s 355ms/step - loss: 1.4984 - categorical_accuracy: 0.4094\n",
      "Epoch 131/2000\n",
      "6/6 [==============================] - 2s 332ms/step - loss: 1.5222 - categorical_accuracy: 0.4211\n",
      "Epoch 132/2000\n",
      "6/6 [==============================] - 2s 346ms/step - loss: 1.6780 - categorical_accuracy: 0.3041\n",
      "Epoch 133/2000\n",
      "6/6 [==============================] - 2s 330ms/step - loss: 1.6108 - categorical_accuracy: 0.3860\n",
      "Epoch 134/2000\n",
      "6/6 [==============================] - 2s 335ms/step - loss: 1.6747 - categorical_accuracy: 0.4035\n",
      "Epoch 135/2000\n",
      "6/6 [==============================] - 2s 326ms/step - loss: 1.3679 - categorical_accuracy: 0.3567\n",
      "Epoch 136/2000\n",
      "6/6 [==============================] - 2s 310ms/step - loss: 1.3554 - categorical_accuracy: 0.3684\n",
      "Epoch 137/2000\n",
      "6/6 [==============================] - 2s 306ms/step - loss: 1.4422 - categorical_accuracy: 0.3977\n",
      "Epoch 138/2000\n",
      "6/6 [==============================] - 2s 311ms/step - loss: 1.2505 - categorical_accuracy: 0.4444\n",
      "Epoch 139/2000\n",
      "6/6 [==============================] - 2s 321ms/step - loss: 1.4616 - categorical_accuracy: 0.4620\n",
      "Epoch 140/2000\n",
      "6/6 [==============================] - 2s 307ms/step - loss: 1.1593 - categorical_accuracy: 0.4737\n",
      "Epoch 141/2000\n",
      "6/6 [==============================] - 2s 311ms/step - loss: 2.9916 - categorical_accuracy: 0.3041\n",
      "Epoch 142/2000\n",
      "6/6 [==============================] - 2s 316ms/step - loss: 2.5452 - categorical_accuracy: 0.2690\n",
      "Epoch 143/2000\n",
      "6/6 [==============================] - 2s 323ms/step - loss: 1.9113 - categorical_accuracy: 0.3977\n",
      "Epoch 144/2000\n",
      "6/6 [==============================] - 2s 326ms/step - loss: 2.1408 - categorical_accuracy: 0.2222\n",
      "Epoch 145/2000\n"
     ]
    },
    {
     "name": "stdout",
     "output_type": "stream",
     "text": [
      "6/6 [==============================] - 2s 315ms/step - loss: 1.5970 - categorical_accuracy: 0.3158\n",
      "Epoch 146/2000\n",
      "6/6 [==============================] - 2s 322ms/step - loss: 1.4408 - categorical_accuracy: 0.3977\n",
      "Epoch 147/2000\n",
      "6/6 [==============================] - 2s 325ms/step - loss: 1.4436 - categorical_accuracy: 0.4327\n",
      "Epoch 148/2000\n",
      "6/6 [==============================] - 2s 338ms/step - loss: 1.4835 - categorical_accuracy: 0.3918\n",
      "Epoch 149/2000\n",
      "6/6 [==============================] - 2s 310ms/step - loss: 1.6459 - categorical_accuracy: 0.3567\n",
      "Epoch 150/2000\n",
      "6/6 [==============================] - 2s 253ms/step - loss: 1.7554 - categorical_accuracy: 0.4269\n",
      "Epoch 151/2000\n",
      "6/6 [==============================] - 2s 273ms/step - loss: 1.7051 - categorical_accuracy: 0.4152\n",
      "Epoch 152/2000\n",
      "6/6 [==============================] - 1s 232ms/step - loss: 1.2801 - categorical_accuracy: 0.4912\n",
      "Epoch 153/2000\n",
      "6/6 [==============================] - 2s 259ms/step - loss: 1.2180 - categorical_accuracy: 0.4854\n",
      "Epoch 154/2000\n",
      "6/6 [==============================] - 2s 290ms/step - loss: 1.4284 - categorical_accuracy: 0.3860\n",
      "Epoch 155/2000\n",
      "6/6 [==============================] - 2s 317ms/step - loss: 1.6747 - categorical_accuracy: 0.4211\n",
      "Epoch 156/2000\n",
      "6/6 [==============================] - 2s 305ms/step - loss: 1.3077 - categorical_accuracy: 0.3743\n",
      "Epoch 157/2000\n",
      "6/6 [==============================] - 2s 324ms/step - loss: 1.2075 - categorical_accuracy: 0.5029\n",
      "Epoch 158/2000\n",
      "6/6 [==============================] - 2s 317ms/step - loss: 1.2624 - categorical_accuracy: 0.4795\n",
      "Epoch 159/2000\n",
      "6/6 [==============================] - 2s 337ms/step - loss: 1.3273 - categorical_accuracy: 0.4737\n",
      "Epoch 160/2000\n",
      "6/6 [==============================] - 2s 308ms/step - loss: 1.1348 - categorical_accuracy: 0.4678\n",
      "Epoch 161/2000\n",
      "6/6 [==============================] - 2s 317ms/step - loss: 1.1657 - categorical_accuracy: 0.4503\n",
      "Epoch 162/2000\n",
      "6/6 [==============================] - 2s 347ms/step - loss: 1.2086 - categorical_accuracy: 0.4678\n",
      "Epoch 163/2000\n",
      "6/6 [==============================] - 2s 321ms/step - loss: 1.3625 - categorical_accuracy: 0.4269\n",
      "Epoch 164/2000\n",
      "6/6 [==============================] - 2s 322ms/step - loss: 1.3860 - categorical_accuracy: 0.5322\n",
      "Epoch 165/2000\n",
      "6/6 [==============================] - 2s 320ms/step - loss: 1.1994 - categorical_accuracy: 0.4561\n",
      "Epoch 166/2000\n",
      "6/6 [==============================] - 2s 306ms/step - loss: 1.3035 - categorical_accuracy: 0.5439\n",
      "Epoch 167/2000\n",
      "6/6 [==============================] - 2s 309ms/step - loss: 1.4503 - categorical_accuracy: 0.4327\n",
      "Epoch 168/2000\n",
      "6/6 [==============================] - 2s 324ms/step - loss: 1.3656 - categorical_accuracy: 0.3977\n",
      "Epoch 169/2000\n",
      "6/6 [==============================] - 2s 317ms/step - loss: 1.3932 - categorical_accuracy: 0.3275\n",
      "Epoch 170/2000\n",
      "6/6 [==============================] - 2s 296ms/step - loss: 1.4159 - categorical_accuracy: 0.4503\n",
      "Epoch 171/2000\n",
      "6/6 [==============================] - 2s 315ms/step - loss: 1.3854 - categorical_accuracy: 0.4678\n",
      "Epoch 172/2000\n",
      "6/6 [==============================] - 2s 303ms/step - loss: 1.1808 - categorical_accuracy: 0.5439\n",
      "Epoch 173/2000\n",
      "6/6 [==============================] - 2s 306ms/step - loss: 1.1757 - categorical_accuracy: 0.4737\n",
      "Epoch 174/2000\n",
      "6/6 [==============================] - 2s 319ms/step - loss: 1.1228 - categorical_accuracy: 0.5614\n",
      "Epoch 175/2000\n",
      "6/6 [==============================] - 2s 325ms/step - loss: 1.1205 - categorical_accuracy: 0.4561\n",
      "Epoch 176/2000\n",
      "6/6 [==============================] - 2s 311ms/step - loss: 1.0383 - categorical_accuracy: 0.5497\n",
      "Epoch 177/2000\n",
      "6/6 [==============================] - 2s 314ms/step - loss: 1.2536 - categorical_accuracy: 0.4444\n",
      "Epoch 178/2000\n",
      "6/6 [==============================] - 2s 335ms/step - loss: 1.3438 - categorical_accuracy: 0.4912\n",
      "Epoch 179/2000\n",
      "6/6 [==============================] - 2s 332ms/step - loss: 1.4867 - categorical_accuracy: 0.4386\n",
      "Epoch 180/2000\n",
      "6/6 [==============================] - 2s 350ms/step - loss: 1.4552 - categorical_accuracy: 0.4269\n",
      "Epoch 181/2000\n",
      "6/6 [==============================] - 2s 344ms/step - loss: 1.4337 - categorical_accuracy: 0.3860\n",
      "Epoch 182/2000\n",
      "6/6 [==============================] - 2s 360ms/step - loss: 1.4627 - categorical_accuracy: 0.4211\n",
      "Epoch 183/2000\n",
      "6/6 [==============================] - 2s 357ms/step - loss: 1.6566 - categorical_accuracy: 0.4327\n",
      "Epoch 184/2000\n",
      "6/6 [==============================] - 2s 370ms/step - loss: 1.6843 - categorical_accuracy: 0.3626\n",
      "Epoch 185/2000\n",
      "6/6 [==============================] - 2s 361ms/step - loss: 1.3444 - categorical_accuracy: 0.4386\n",
      "Epoch 186/2000\n",
      "6/6 [==============================] - 2s 363ms/step - loss: 1.5217 - categorical_accuracy: 0.4854\n",
      "Epoch 187/2000\n",
      "6/6 [==============================] - 2s 374ms/step - loss: 1.4694 - categorical_accuracy: 0.4503\n",
      "Epoch 188/2000\n",
      "6/6 [==============================] - 2s 353ms/step - loss: 1.4044 - categorical_accuracy: 0.4854\n",
      "Epoch 189/2000\n",
      "6/6 [==============================] - 2s 366ms/step - loss: 1.3429 - categorical_accuracy: 0.5205\n",
      "Epoch 190/2000\n",
      "6/6 [==============================] - 2s 367ms/step - loss: 1.4444 - categorical_accuracy: 0.4678\n",
      "Epoch 191/2000\n",
      "6/6 [==============================] - 2s 357ms/step - loss: 1.0282 - categorical_accuracy: 0.5673\n",
      "Epoch 192/2000\n",
      "6/6 [==============================] - 2s 348ms/step - loss: 1.0385 - categorical_accuracy: 0.5556\n",
      "Epoch 193/2000\n",
      "6/6 [==============================] - 2s 345ms/step - loss: 1.1896 - categorical_accuracy: 0.4152\n",
      "Epoch 194/2000\n",
      "6/6 [==============================] - 2s 342ms/step - loss: 1.0627 - categorical_accuracy: 0.5088\n",
      "Epoch 195/2000\n",
      "6/6 [==============================] - 2s 342ms/step - loss: 0.9934 - categorical_accuracy: 0.5439\n",
      "Epoch 196/2000\n",
      "6/6 [==============================] - 2s 318ms/step - loss: 0.9803 - categorical_accuracy: 0.6082\n",
      "Epoch 197/2000\n",
      "6/6 [==============================] - 2s 322ms/step - loss: 1.2621 - categorical_accuracy: 0.5614\n",
      "Epoch 198/2000\n",
      "6/6 [==============================] - 2s 312ms/step - loss: 1.1371 - categorical_accuracy: 0.5439\n",
      "Epoch 199/2000\n",
      "6/6 [==============================] - 2s 322ms/step - loss: 1.1527 - categorical_accuracy: 0.4912\n",
      "Epoch 200/2000\n",
      "6/6 [==============================] - 2s 316ms/step - loss: 1.3258 - categorical_accuracy: 0.5322\n",
      "Epoch 201/2000\n",
      "6/6 [==============================] - 2s 321ms/step - loss: 1.5328 - categorical_accuracy: 0.4211\n",
      "Epoch 202/2000\n",
      "6/6 [==============================] - 2s 314ms/step - loss: 1.2594 - categorical_accuracy: 0.4971\n",
      "Epoch 203/2000\n",
      "6/6 [==============================] - 2s 341ms/step - loss: 1.0188 - categorical_accuracy: 0.5556\n",
      "Epoch 204/2000\n",
      "6/6 [==============================] - 2s 341ms/step - loss: 0.9015 - categorical_accuracy: 0.6491\n",
      "Epoch 205/2000\n",
      "6/6 [==============================] - 2s 329ms/step - loss: 1.2765 - categorical_accuracy: 0.5497\n",
      "Epoch 206/2000\n",
      "6/6 [==============================] - 2s 328ms/step - loss: 1.0603 - categorical_accuracy: 0.5088\n",
      "Epoch 207/2000\n",
      "6/6 [==============================] - 2s 330ms/step - loss: 1.0346 - categorical_accuracy: 0.6023\n",
      "Epoch 208/2000\n",
      "6/6 [==============================] - 2s 312ms/step - loss: 1.2152 - categorical_accuracy: 0.4620\n",
      "Epoch 209/2000\n",
      "6/6 [==============================] - 2s 325ms/step - loss: 1.2041 - categorical_accuracy: 0.5906\n",
      "Epoch 210/2000\n",
      "6/6 [==============================] - 2s 304ms/step - loss: 1.1412 - categorical_accuracy: 0.4854\n",
      "Epoch 211/2000\n",
      "6/6 [==============================] - 2s 303ms/step - loss: 1.3018 - categorical_accuracy: 0.4269\n",
      "Epoch 212/2000\n",
      "6/6 [==============================] - 2s 310ms/step - loss: 1.1233 - categorical_accuracy: 0.5848\n",
      "Epoch 213/2000\n",
      "6/6 [==============================] - 2s 316ms/step - loss: 1.2446 - categorical_accuracy: 0.5322\n",
      "Epoch 214/2000\n",
      "6/6 [==============================] - 2s 325ms/step - loss: 1.3429 - categorical_accuracy: 0.4912\n",
      "Epoch 215/2000\n",
      "6/6 [==============================] - 2s 310ms/step - loss: 0.9568 - categorical_accuracy: 0.5731\n",
      "Epoch 216/2000\n",
      "6/6 [==============================] - 2s 324ms/step - loss: 1.0686 - categorical_accuracy: 0.6433\n"
     ]
    },
    {
     "name": "stdout",
     "output_type": "stream",
     "text": [
      "Epoch 217/2000\n",
      "6/6 [==============================] - 2s 320ms/step - loss: 1.3206 - categorical_accuracy: 0.5380\n",
      "Epoch 218/2000\n",
      "6/6 [==============================] - 2s 313ms/step - loss: 1.2036 - categorical_accuracy: 0.5497\n",
      "Epoch 219/2000\n",
      "6/6 [==============================] - 2s 326ms/step - loss: 1.0859 - categorical_accuracy: 0.5848\n",
      "Epoch 220/2000\n",
      "6/6 [==============================] - 2s 326ms/step - loss: 0.7821 - categorical_accuracy: 0.6433\n",
      "Epoch 221/2000\n",
      "6/6 [==============================] - 2s 318ms/step - loss: 0.9497 - categorical_accuracy: 0.6023\n",
      "Epoch 222/2000\n",
      "6/6 [==============================] - 2s 335ms/step - loss: 1.0054 - categorical_accuracy: 0.5731\n",
      "Epoch 223/2000\n",
      "6/6 [==============================] - 2s 330ms/step - loss: 0.9491 - categorical_accuracy: 0.5906\n",
      "Epoch 224/2000\n",
      "6/6 [==============================] - 2s 323ms/step - loss: 0.6781 - categorical_accuracy: 0.7193\n",
      "Epoch 225/2000\n",
      "6/6 [==============================] - 2s 323ms/step - loss: 0.6490 - categorical_accuracy: 0.6901\n",
      "Epoch 226/2000\n",
      "6/6 [==============================] - 2s 328ms/step - loss: 1.0412 - categorical_accuracy: 0.5673\n",
      "Epoch 227/2000\n",
      "6/6 [==============================] - 2s 324ms/step - loss: 0.7392 - categorical_accuracy: 0.7193\n",
      "Epoch 228/2000\n",
      "6/6 [==============================] - 2s 347ms/step - loss: 0.7922 - categorical_accuracy: 0.6842\n",
      "Epoch 229/2000\n",
      "6/6 [==============================] - 2s 318ms/step - loss: 0.8276 - categorical_accuracy: 0.6667\n",
      "Epoch 230/2000\n",
      "6/6 [==============================] - 2s 328ms/step - loss: 0.7379 - categorical_accuracy: 0.6725\n",
      "Epoch 231/2000\n",
      "6/6 [==============================] - 2s 334ms/step - loss: 1.2638 - categorical_accuracy: 0.5556\n",
      "Epoch 232/2000\n",
      "6/6 [==============================] - 2s 337ms/step - loss: 1.2724 - categorical_accuracy: 0.5029\n",
      "Epoch 233/2000\n",
      "6/6 [==============================] - 2s 328ms/step - loss: 1.2909 - categorical_accuracy: 0.5263\n",
      "Epoch 234/2000\n",
      "6/6 [==============================] - 2s 351ms/step - loss: 1.0774 - categorical_accuracy: 0.5497\n",
      "Epoch 235/2000\n",
      "6/6 [==============================] - 2s 321ms/step - loss: 1.1943 - categorical_accuracy: 0.6550\n",
      "Epoch 236/2000\n",
      "6/6 [==============================] - 2s 318ms/step - loss: 0.8728 - categorical_accuracy: 0.6374\n",
      "Epoch 237/2000\n",
      "6/6 [==============================] - 2s 324ms/step - loss: 0.8359 - categorical_accuracy: 0.6725\n",
      "Epoch 238/2000\n",
      "6/6 [==============================] - 2s 329ms/step - loss: 0.7772 - categorical_accuracy: 0.6725\n",
      "Epoch 239/2000\n",
      "6/6 [==============================] - 2s 318ms/step - loss: 0.9702 - categorical_accuracy: 0.6667\n",
      "Epoch 240/2000\n",
      "6/6 [==============================] - 2s 305ms/step - loss: 1.1180 - categorical_accuracy: 0.5789\n",
      "Epoch 241/2000\n",
      "6/6 [==============================] - 2s 343ms/step - loss: 0.9257 - categorical_accuracy: 0.6199\n",
      "Epoch 242/2000\n",
      "6/6 [==============================] - 2s 339ms/step - loss: 0.8578 - categorical_accuracy: 0.5965\n",
      "Epoch 243/2000\n",
      "6/6 [==============================] - 2s 344ms/step - loss: 0.6643 - categorical_accuracy: 0.7193\n",
      "Epoch 244/2000\n",
      "6/6 [==============================] - 2s 360ms/step - loss: 0.7258 - categorical_accuracy: 0.6550\n",
      "Epoch 245/2000\n",
      "6/6 [==============================] - 2s 355ms/step - loss: 0.6589 - categorical_accuracy: 0.6316\n",
      "Epoch 246/2000\n",
      "6/6 [==============================] - 2s 367ms/step - loss: 0.6681 - categorical_accuracy: 0.6959\n",
      "Epoch 247/2000\n",
      "6/6 [==============================] - 2s 378ms/step - loss: 0.5810 - categorical_accuracy: 0.7427\n",
      "Epoch 248/2000\n",
      "6/6 [==============================] - 2s 345ms/step - loss: 0.7907 - categorical_accuracy: 0.6199\n",
      "Epoch 249/2000\n",
      "6/6 [==============================] - 2s 339ms/step - loss: 1.0502 - categorical_accuracy: 0.7018\n",
      "Epoch 250/2000\n",
      "6/6 [==============================] - 2s 335ms/step - loss: 0.9632 - categorical_accuracy: 0.6667\n",
      "Epoch 251/2000\n",
      "6/6 [==============================] - 2s 336ms/step - loss: 1.4557 - categorical_accuracy: 0.5439\n",
      "Epoch 252/2000\n",
      "6/6 [==============================] - 2s 324ms/step - loss: 0.8679 - categorical_accuracy: 0.6550\n",
      "Epoch 253/2000\n",
      "6/6 [==============================] - 2s 325ms/step - loss: 1.2129 - categorical_accuracy: 0.5965\n",
      "Epoch 254/2000\n",
      "6/6 [==============================] - 2s 318ms/step - loss: 0.6976 - categorical_accuracy: 0.7076\n",
      "Epoch 255/2000\n",
      "6/6 [==============================] - 2s 322ms/step - loss: 0.6944 - categorical_accuracy: 0.6550\n",
      "Epoch 256/2000\n",
      "6/6 [==============================] - 2s 319ms/step - loss: 0.6230 - categorical_accuracy: 0.7135\n",
      "Epoch 257/2000\n",
      "6/6 [==============================] - 2s 323ms/step - loss: 0.8267 - categorical_accuracy: 0.6725\n",
      "Epoch 258/2000\n",
      "6/6 [==============================] - 2s 315ms/step - loss: 1.0825 - categorical_accuracy: 0.5731\n",
      "Epoch 259/2000\n",
      "6/6 [==============================] - 2s 288ms/step - loss: 1.0936 - categorical_accuracy: 0.6550\n",
      "Epoch 260/2000\n",
      "6/6 [==============================] - 2s 318ms/step - loss: 1.2689 - categorical_accuracy: 0.5673\n",
      "Epoch 261/2000\n",
      "6/6 [==============================] - 2s 317ms/step - loss: 1.3257 - categorical_accuracy: 0.5029\n",
      "Epoch 262/2000\n",
      "6/6 [==============================] - 2s 331ms/step - loss: 1.6737 - categorical_accuracy: 0.5789\n",
      "Epoch 263/2000\n",
      "6/6 [==============================] - 2s 320ms/step - loss: 2.9392 - categorical_accuracy: 0.3743\n",
      "Epoch 264/2000\n",
      "6/6 [==============================] - 2s 319ms/step - loss: 1.6647 - categorical_accuracy: 0.3860\n",
      "Epoch 265/2000\n",
      "6/6 [==============================] - 2s 316ms/step - loss: 2.1050 - categorical_accuracy: 0.4678\n",
      "Epoch 266/2000\n",
      "6/6 [==============================] - 2s 317ms/step - loss: 1.3226 - categorical_accuracy: 0.5906\n",
      "Epoch 267/2000\n",
      "6/6 [==============================] - 2s 314ms/step - loss: 1.0834 - categorical_accuracy: 0.6082\n",
      "Epoch 268/2000\n",
      "6/6 [==============================] - 2s 319ms/step - loss: 0.8735 - categorical_accuracy: 0.6491\n",
      "Epoch 269/2000\n",
      "6/6 [==============================] - 2s 314ms/step - loss: 1.0312 - categorical_accuracy: 0.5673\n",
      "Epoch 270/2000\n",
      "6/6 [==============================] - 2s 321ms/step - loss: 3.1885 - categorical_accuracy: 0.5556\n",
      "Epoch 271/2000\n",
      "6/6 [==============================] - 2s 316ms/step - loss: 2.2880 - categorical_accuracy: 0.5614\n",
      "Epoch 272/2000\n",
      "6/6 [==============================] - 2s 320ms/step - loss: 1.5290 - categorical_accuracy: 0.5556\n",
      "Epoch 273/2000\n",
      "6/6 [==============================] - 2s 319ms/step - loss: 1.2172 - categorical_accuracy: 0.5029\n",
      "Epoch 274/2000\n",
      "6/6 [==============================] - 2s 284ms/step - loss: 0.9157 - categorical_accuracy: 0.6140\n",
      "Epoch 275/2000\n",
      "6/6 [==============================] - 2s 323ms/step - loss: 1.1698 - categorical_accuracy: 0.5789\n",
      "Epoch 276/2000\n",
      "6/6 [==============================] - 2s 324ms/step - loss: 1.1102 - categorical_accuracy: 0.5848\n",
      "Epoch 277/2000\n",
      "6/6 [==============================] - 2s 317ms/step - loss: 1.1250 - categorical_accuracy: 0.5965\n",
      "Epoch 278/2000\n",
      "6/6 [==============================] - 2s 311ms/step - loss: 1.1324 - categorical_accuracy: 0.5965\n",
      "Epoch 279/2000\n",
      "6/6 [==============================] - 2s 322ms/step - loss: 1.3478 - categorical_accuracy: 0.6199\n",
      "Epoch 280/2000\n",
      "6/6 [==============================] - 2s 316ms/step - loss: 1.1128 - categorical_accuracy: 0.6316\n",
      "Epoch 281/2000\n",
      "6/6 [==============================] - 2s 313ms/step - loss: 0.9006 - categorical_accuracy: 0.6257\n",
      "Epoch 282/2000\n",
      "6/6 [==============================] - 2s 355ms/step - loss: 0.9026 - categorical_accuracy: 0.6257\n",
      "Epoch 283/2000\n",
      "6/6 [==============================] - 2s 349ms/step - loss: 0.8273 - categorical_accuracy: 0.6725\n",
      "Epoch 284/2000\n",
      "6/6 [==============================] - 2s 341ms/step - loss: 0.8308 - categorical_accuracy: 0.6082\n",
      "Epoch 285/2000\n",
      "6/6 [==============================] - 2s 329ms/step - loss: 0.8801 - categorical_accuracy: 0.6257\n",
      "Epoch 286/2000\n",
      "6/6 [==============================] - 2s 335ms/step - loss: 0.9365 - categorical_accuracy: 0.5614\n",
      "Epoch 287/2000\n",
      "6/6 [==============================] - 2s 310ms/step - loss: 0.7771 - categorical_accuracy: 0.7135\n",
      "Epoch 288/2000\n",
      "6/6 [==============================] - 2s 308ms/step - loss: 0.7320 - categorical_accuracy: 0.6608\n",
      "Epoch 289/2000\n",
      "6/6 [==============================] - 2s 311ms/step - loss: 0.7032 - categorical_accuracy: 0.7251\n",
      "Epoch 290/2000\n",
      "6/6 [==============================] - 2s 311ms/step - loss: 0.8382 - categorical_accuracy: 0.6842\n",
      "Epoch 291/2000\n",
      "6/6 [==============================] - 2s 306ms/step - loss: 0.8125 - categorical_accuracy: 0.5965\n",
      "Epoch 292/2000\n",
      "6/6 [==============================] - 2s 306ms/step - loss: 0.7097 - categorical_accuracy: 0.6784\n",
      "Epoch 293/2000\n",
      "6/6 [==============================] - 2s 312ms/step - loss: 0.8602 - categorical_accuracy: 0.6140\n",
      "Epoch 294/2000\n",
      "6/6 [==============================] - 2s 314ms/step - loss: 0.7629 - categorical_accuracy: 0.6667\n",
      "Epoch 295/2000\n",
      "6/6 [==============================] - 2s 322ms/step - loss: 0.6930 - categorical_accuracy: 0.7251\n",
      "Epoch 296/2000\n",
      "6/6 [==============================] - 2s 314ms/step - loss: 0.8484 - categorical_accuracy: 0.6725\n",
      "Epoch 297/2000\n",
      "6/6 [==============================] - 2s 310ms/step - loss: 0.8270 - categorical_accuracy: 0.6433\n",
      "Epoch 298/2000\n",
      "6/6 [==============================] - 2s 310ms/step - loss: 0.8816 - categorical_accuracy: 0.6257\n",
      "Epoch 299/2000\n",
      "6/6 [==============================] - 2s 318ms/step - loss: 0.7884 - categorical_accuracy: 0.6491\n",
      "Epoch 300/2000\n",
      "6/6 [==============================] - 2s 333ms/step - loss: 0.6040 - categorical_accuracy: 0.7310\n",
      "Epoch 301/2000\n",
      "6/6 [==============================] - 2s 315ms/step - loss: 0.6820 - categorical_accuracy: 0.7135\n",
      "Epoch 302/2000\n",
      "6/6 [==============================] - 2s 342ms/step - loss: 0.7876 - categorical_accuracy: 0.6667\n",
      "Epoch 303/2000\n",
      "6/6 [==============================] - 2s 348ms/step - loss: 0.7210 - categorical_accuracy: 0.6901\n",
      "Epoch 304/2000\n",
      "6/6 [==============================] - 2s 364ms/step - loss: 0.7838 - categorical_accuracy: 0.6784\n",
      "Epoch 305/2000\n",
      "6/6 [==============================] - 2s 328ms/step - loss: 0.7031 - categorical_accuracy: 0.6316\n",
      "Epoch 306/2000\n",
      "6/6 [==============================] - 2s 358ms/step - loss: 0.5687 - categorical_accuracy: 0.7427\n",
      "Epoch 307/2000\n",
      "6/6 [==============================] - 2s 355ms/step - loss: 0.5614 - categorical_accuracy: 0.7953\n",
      "Epoch 308/2000\n",
      "6/6 [==============================] - 2s 351ms/step - loss: 0.5801 - categorical_accuracy: 0.7251\n",
      "Epoch 309/2000\n",
      "6/6 [==============================] - 2s 350ms/step - loss: 0.5998 - categorical_accuracy: 0.7135\n",
      "Epoch 310/2000\n",
      "6/6 [==============================] - 2s 352ms/step - loss: 0.6903 - categorical_accuracy: 0.7251\n",
      "Epoch 311/2000\n",
      "6/6 [==============================] - 2s 347ms/step - loss: 0.8108 - categorical_accuracy: 0.6608\n",
      "Epoch 312/2000\n",
      "6/6 [==============================] - 2s 367ms/step - loss: 1.0906 - categorical_accuracy: 0.6199\n",
      "Epoch 313/2000\n",
      "6/6 [==============================] - 2s 335ms/step - loss: 1.0659 - categorical_accuracy: 0.5906\n",
      "Epoch 314/2000\n",
      "6/6 [==============================] - 2s 336ms/step - loss: 0.8006 - categorical_accuracy: 0.6667\n",
      "Epoch 315/2000\n",
      "6/6 [==============================] - 2s 339ms/step - loss: 0.7007 - categorical_accuracy: 0.6667\n",
      "Epoch 316/2000\n",
      "6/6 [==============================] - 2s 349ms/step - loss: 0.6428 - categorical_accuracy: 0.7018\n",
      "Epoch 317/2000\n",
      "6/6 [==============================] - 2s 324ms/step - loss: 0.5682 - categorical_accuracy: 0.7368\n",
      "Epoch 318/2000\n",
      "6/6 [==============================] - 2s 296ms/step - loss: 0.6483 - categorical_accuracy: 0.6959\n",
      "Epoch 319/2000\n",
      "6/6 [==============================] - 2s 307ms/step - loss: 0.6680 - categorical_accuracy: 0.7135\n",
      "Epoch 320/2000\n",
      "6/6 [==============================] - 2s 304ms/step - loss: 0.5087 - categorical_accuracy: 0.7953\n",
      "Epoch 321/2000\n",
      "6/6 [==============================] - 2s 327ms/step - loss: 0.5264 - categorical_accuracy: 0.7485\n",
      "Epoch 322/2000\n",
      "6/6 [==============================] - 2s 329ms/step - loss: 0.6258 - categorical_accuracy: 0.6784\n",
      "Epoch 323/2000\n",
      "6/6 [==============================] - 2s 350ms/step - loss: 0.5118 - categorical_accuracy: 0.7778\n",
      "Epoch 324/2000\n",
      "6/6 [==============================] - 2s 381ms/step - loss: 0.5572 - categorical_accuracy: 0.7485\n",
      "Epoch 325/2000\n",
      "6/6 [==============================] - 2s 339ms/step - loss: 0.4809 - categorical_accuracy: 0.7778\n",
      "Epoch 326/2000\n",
      "6/6 [==============================] - 2s 331ms/step - loss: 0.4171 - categorical_accuracy: 0.8187\n",
      "Epoch 327/2000\n",
      "6/6 [==============================] - 2s 332ms/step - loss: 0.6277 - categorical_accuracy: 0.7661\n",
      "Epoch 328/2000\n",
      "6/6 [==============================] - 2s 341ms/step - loss: 0.4470 - categorical_accuracy: 0.7719\n",
      "Epoch 329/2000\n",
      "6/6 [==============================] - 2s 333ms/step - loss: 0.4746 - categorical_accuracy: 0.8304\n",
      "Epoch 330/2000\n",
      "6/6 [==============================] - 2s 370ms/step - loss: 0.4884 - categorical_accuracy: 0.7602\n",
      "Epoch 331/2000\n",
      "6/6 [==============================] - 2s 352ms/step - loss: 0.5859 - categorical_accuracy: 0.7251\n",
      "Epoch 332/2000\n",
      "6/6 [==============================] - 2s 323ms/step - loss: 0.5600 - categorical_accuracy: 0.7602\n",
      "Epoch 333/2000\n",
      "6/6 [==============================] - 2s 313ms/step - loss: 0.4994 - categorical_accuracy: 0.8070\n",
      "Epoch 334/2000\n",
      "6/6 [==============================] - 2s 316ms/step - loss: 0.4665 - categorical_accuracy: 0.8129\n",
      "Epoch 335/2000\n",
      "6/6 [==============================] - 2s 337ms/step - loss: 0.3855 - categorical_accuracy: 0.8304\n",
      "Epoch 336/2000\n",
      "6/6 [==============================] - 2s 351ms/step - loss: 0.3233 - categorical_accuracy: 0.8889\n",
      "Epoch 337/2000\n",
      "6/6 [==============================] - 2s 325ms/step - loss: 0.3670 - categorical_accuracy: 0.8480\n",
      "Epoch 338/2000\n",
      "6/6 [==============================] - 2s 332ms/step - loss: 0.2803 - categorical_accuracy: 0.9064\n",
      "Epoch 339/2000\n",
      "6/6 [==============================] - 2s 308ms/step - loss: 0.7061 - categorical_accuracy: 0.6725\n",
      "Epoch 340/2000\n",
      "6/6 [==============================] - 2s 328ms/step - loss: 0.6621 - categorical_accuracy: 0.7544\n",
      "Epoch 341/2000\n",
      "6/6 [==============================] - 2s 324ms/step - loss: 0.8458 - categorical_accuracy: 0.6959\n",
      "Epoch 342/2000\n",
      "6/6 [==============================] - 2s 319ms/step - loss: 0.7483 - categorical_accuracy: 0.6433\n",
      "Epoch 343/2000\n",
      "6/6 [==============================] - 2s 313ms/step - loss: 0.6201 - categorical_accuracy: 0.7661\n",
      "Epoch 344/2000\n",
      "6/6 [==============================] - 2s 310ms/step - loss: 0.6033 - categorical_accuracy: 0.7953\n",
      "Epoch 345/2000\n",
      "6/6 [==============================] - 2s 319ms/step - loss: 0.5465 - categorical_accuracy: 0.7544\n",
      "Epoch 346/2000\n",
      "6/6 [==============================] - 2s 313ms/step - loss: 0.7655 - categorical_accuracy: 0.7135\n",
      "Epoch 347/2000\n",
      "6/6 [==============================] - 2s 313ms/step - loss: 0.7593 - categorical_accuracy: 0.7193\n",
      "Epoch 348/2000\n",
      "6/6 [==============================] - 2s 318ms/step - loss: 0.8703 - categorical_accuracy: 0.7135\n",
      "Epoch 349/2000\n",
      "6/6 [==============================] - 2s 321ms/step - loss: 0.7354 - categorical_accuracy: 0.6725\n",
      "Epoch 350/2000\n",
      "6/6 [==============================] - 2s 318ms/step - loss: 0.8580 - categorical_accuracy: 0.6842\n",
      "Epoch 351/2000\n",
      "6/6 [==============================] - 2s 317ms/step - loss: 0.8312 - categorical_accuracy: 0.7135\n",
      "Epoch 352/2000\n",
      "6/6 [==============================] - 2s 314ms/step - loss: 0.9584 - categorical_accuracy: 0.6082\n",
      "Epoch 353/2000\n",
      "6/6 [==============================] - 2s 320ms/step - loss: 0.6078 - categorical_accuracy: 0.7427\n",
      "Epoch 354/2000\n",
      "6/6 [==============================] - 2s 313ms/step - loss: 0.5321 - categorical_accuracy: 0.7895\n",
      "Epoch 355/2000\n",
      "6/6 [==============================] - 2s 311ms/step - loss: 0.4830 - categorical_accuracy: 0.7719\n",
      "Epoch 356/2000\n",
      "6/6 [==============================] - 2s 319ms/step - loss: 0.3133 - categorical_accuracy: 0.8713\n",
      "Epoch 357/2000\n",
      "6/6 [==============================] - 2s 317ms/step - loss: 0.3425 - categorical_accuracy: 0.8070\n",
      "Epoch 358/2000\n",
      "6/6 [==============================] - 2s 314ms/step - loss: 0.3512 - categorical_accuracy: 0.8596\n",
      "Epoch 359/2000\n",
      "6/6 [==============================] - 2s 320ms/step - loss: 0.4396 - categorical_accuracy: 0.7778\n"
     ]
    },
    {
     "name": "stdout",
     "output_type": "stream",
     "text": [
      "Epoch 360/2000\n",
      "6/6 [==============================] - 2s 311ms/step - loss: 0.7522 - categorical_accuracy: 0.7602\n",
      "Epoch 361/2000\n",
      "6/6 [==============================] - 2s 314ms/step - loss: 0.4028 - categorical_accuracy: 0.7836\n",
      "Epoch 362/2000\n",
      "6/6 [==============================] - 2s 342ms/step - loss: 0.3322 - categorical_accuracy: 0.8830\n",
      "Epoch 363/2000\n",
      "6/6 [==============================] - 2s 344ms/step - loss: 0.2647 - categorical_accuracy: 0.9240\n",
      "Epoch 364/2000\n",
      "6/6 [==============================] - 2s 333ms/step - loss: 0.2182 - categorical_accuracy: 0.9357\n",
      "Epoch 365/2000\n",
      "6/6 [==============================] - 2s 333ms/step - loss: 0.1956 - categorical_accuracy: 0.9357\n",
      "Epoch 366/2000\n",
      "6/6 [==============================] - 2s 363ms/step - loss: 0.3211 - categorical_accuracy: 0.8889\n",
      "Epoch 367/2000\n",
      "6/6 [==============================] - 2s 348ms/step - loss: 0.2450 - categorical_accuracy: 0.8713\n",
      "Epoch 368/2000\n",
      "6/6 [==============================] - 2s 346ms/step - loss: 0.7607 - categorical_accuracy: 0.7135\n",
      "Epoch 369/2000\n",
      "6/6 [==============================] - 2s 360ms/step - loss: 1.9990 - categorical_accuracy: 0.5263\n",
      "Epoch 370/2000\n",
      "6/6 [==============================] - 2s 350ms/step - loss: 2.0990 - categorical_accuracy: 0.4503\n",
      "Epoch 371/2000\n",
      "6/6 [==============================] - 2s 336ms/step - loss: 1.3091 - categorical_accuracy: 0.5088\n",
      "Epoch 372/2000\n",
      "6/6 [==============================] - 2s 333ms/step - loss: 0.7757 - categorical_accuracy: 0.6199\n",
      "Epoch 373/2000\n",
      "6/6 [==============================] - 2s 345ms/step - loss: 0.5892 - categorical_accuracy: 0.7778\n",
      "Epoch 374/2000\n",
      "6/6 [==============================] - 2s 325ms/step - loss: 0.5831 - categorical_accuracy: 0.7251\n",
      "Epoch 375/2000\n",
      "6/6 [==============================] - 2s 328ms/step - loss: 0.4006 - categorical_accuracy: 0.8363\n",
      "Epoch 376/2000\n",
      "6/6 [==============================] - 2s 317ms/step - loss: 0.3928 - categorical_accuracy: 0.8187\n",
      "Epoch 377/2000\n",
      "6/6 [==============================] - 2s 313ms/step - loss: 0.2998 - categorical_accuracy: 0.8947\n",
      "Epoch 378/2000\n",
      "6/6 [==============================] - 2s 313ms/step - loss: 0.4638 - categorical_accuracy: 0.8129\n",
      "Epoch 379/2000\n",
      "6/6 [==============================] - 2s 314ms/step - loss: 0.3568 - categorical_accuracy: 0.8421\n",
      "Epoch 380/2000\n",
      "6/6 [==============================] - 2s 329ms/step - loss: 0.2340 - categorical_accuracy: 0.9123\n",
      "Epoch 381/2000\n",
      "6/6 [==============================] - 2s 318ms/step - loss: 0.2349 - categorical_accuracy: 0.9123\n",
      "Epoch 382/2000\n",
      "6/6 [==============================] - 2s 305ms/step - loss: 0.1653 - categorical_accuracy: 0.9591\n",
      "Epoch 383/2000\n",
      "6/6 [==============================] - 2s 308ms/step - loss: 0.2460 - categorical_accuracy: 0.9240\n",
      "Epoch 384/2000\n",
      "6/6 [==============================] - 2s 329ms/step - loss: 0.2901 - categorical_accuracy: 0.8713\n",
      "Epoch 385/2000\n",
      "6/6 [==============================] - 2s 320ms/step - loss: 0.4376 - categorical_accuracy: 0.8655\n",
      "Epoch 386/2000\n",
      "6/6 [==============================] - 2s 329ms/step - loss: 1.1902 - categorical_accuracy: 0.6608\n",
      "Epoch 387/2000\n",
      "6/6 [==============================] - 2s 318ms/step - loss: 1.0224 - categorical_accuracy: 0.5789\n",
      "Epoch 388/2000\n",
      "6/6 [==============================] - 2s 328ms/step - loss: 0.9262 - categorical_accuracy: 0.6374\n",
      "Epoch 389/2000\n",
      "6/6 [==============================] - 2s 333ms/step - loss: 0.9574 - categorical_accuracy: 0.6082\n",
      "Epoch 390/2000\n",
      "6/6 [==============================] - 2s 320ms/step - loss: 0.4468 - categorical_accuracy: 0.8187\n",
      "Epoch 391/2000\n",
      "6/6 [==============================] - 2s 322ms/step - loss: 0.4357 - categorical_accuracy: 0.8713\n",
      "Epoch 392/2000\n",
      "6/6 [==============================] - 2s 318ms/step - loss: 0.3479 - categorical_accuracy: 0.8713\n",
      "Epoch 393/2000\n",
      "6/6 [==============================] - 2s 308ms/step - loss: 0.2978 - categorical_accuracy: 0.8713\n",
      "Epoch 394/2000\n",
      "6/6 [==============================] - 2s 319ms/step - loss: 0.2778 - categorical_accuracy: 0.8947\n",
      "Epoch 395/2000\n",
      "6/6 [==============================] - 2s 307ms/step - loss: 0.3010 - categorical_accuracy: 0.8713\n",
      "Epoch 396/2000\n",
      "6/6 [==============================] - 2s 308ms/step - loss: 0.2224 - categorical_accuracy: 0.8772\n",
      "Epoch 397/2000\n",
      "6/6 [==============================] - 2s 312ms/step - loss: 0.2154 - categorical_accuracy: 0.9240\n",
      "Epoch 398/2000\n",
      "6/6 [==============================] - 2s 308ms/step - loss: 0.2660 - categorical_accuracy: 0.8655\n",
      "Epoch 399/2000\n",
      "6/6 [==============================] - 2s 306ms/step - loss: 0.2040 - categorical_accuracy: 0.9415\n",
      "Epoch 400/2000\n",
      "6/6 [==============================] - 2s 309ms/step - loss: 0.2398 - categorical_accuracy: 0.8889\n",
      "Epoch 401/2000\n",
      "6/6 [==============================] - 2s 312ms/step - loss: 0.1744 - categorical_accuracy: 0.9415\n",
      "Epoch 402/2000\n",
      "6/6 [==============================] - 2s 306ms/step - loss: 0.1579 - categorical_accuracy: 0.9474\n",
      "Epoch 403/2000\n",
      "6/6 [==============================] - 2s 306ms/step - loss: 0.1312 - categorical_accuracy: 0.9474\n",
      "Epoch 404/2000\n",
      "6/6 [==============================] - 2s 337ms/step - loss: 0.1412 - categorical_accuracy: 0.9474\n",
      "Epoch 405/2000\n",
      "6/6 [==============================] - 2s 312ms/step - loss: 0.1507 - categorical_accuracy: 0.9298\n",
      "Epoch 406/2000\n",
      "6/6 [==============================] - 2s 308ms/step - loss: 0.3153 - categorical_accuracy: 0.8655\n",
      "Epoch 407/2000\n",
      "6/6 [==============================] - 2s 319ms/step - loss: 0.2210 - categorical_accuracy: 0.9123\n",
      "Epoch 408/2000\n",
      "6/6 [==============================] - 2s 334ms/step - loss: 0.1690 - categorical_accuracy: 0.9474\n",
      "Epoch 409/2000\n",
      "6/6 [==============================] - 2s 312ms/step - loss: 0.1617 - categorical_accuracy: 0.9240\n",
      "Epoch 410/2000\n",
      "6/6 [==============================] - 2s 312ms/step - loss: 0.2117 - categorical_accuracy: 0.9064\n",
      "Epoch 411/2000\n",
      "6/6 [==============================] - 2s 318ms/step - loss: 0.6986 - categorical_accuracy: 0.7368\n",
      "Epoch 412/2000\n",
      "6/6 [==============================] - 2s 309ms/step - loss: 0.7669 - categorical_accuracy: 0.7544\n",
      "Epoch 413/2000\n",
      "6/6 [==============================] - 2s 325ms/step - loss: 1.4054 - categorical_accuracy: 0.5380\n",
      "Epoch 414/2000\n",
      "6/6 [==============================] - 2s 294ms/step - loss: 3.2673 - categorical_accuracy: 0.4444\n",
      "Epoch 415/2000\n",
      "6/6 [==============================] - 2s 313ms/step - loss: 1.4360 - categorical_accuracy: 0.5497\n",
      "Epoch 416/2000\n",
      "6/6 [==============================] - 2s 309ms/step - loss: 2.0451 - categorical_accuracy: 0.6374\n",
      "Epoch 417/2000\n",
      "6/6 [==============================] - 2s 324ms/step - loss: 0.8815 - categorical_accuracy: 0.7076\n",
      "Epoch 418/2000\n",
      "6/6 [==============================] - 2s 311ms/step - loss: 1.1782 - categorical_accuracy: 0.6667\n",
      "Epoch 419/2000\n",
      "6/6 [==============================] - 2s 315ms/step - loss: 0.7366 - categorical_accuracy: 0.7485\n",
      "Epoch 420/2000\n",
      "6/6 [==============================] - 2s 309ms/step - loss: 0.6121 - categorical_accuracy: 0.7836\n",
      "Epoch 421/2000\n",
      "6/6 [==============================] - 2s 318ms/step - loss: 0.5189 - categorical_accuracy: 0.7836\n",
      "Epoch 422/2000\n",
      "6/6 [==============================] - 2s 328ms/step - loss: 0.2908 - categorical_accuracy: 0.8889\n",
      "Epoch 423/2000\n",
      "6/6 [==============================] - 2s 344ms/step - loss: 0.3103 - categorical_accuracy: 0.8889\n",
      "Epoch 424/2000\n",
      "6/6 [==============================] - 2s 373ms/step - loss: 0.2067 - categorical_accuracy: 0.9181\n",
      "Epoch 425/2000\n",
      "6/6 [==============================] - 2s 359ms/step - loss: 0.1829 - categorical_accuracy: 0.9649\n",
      "Epoch 426/2000\n",
      "6/6 [==============================] - 2s 381ms/step - loss: 0.1643 - categorical_accuracy: 0.9415\n",
      "Epoch 427/2000\n",
      "6/6 [==============================] - 2s 344ms/step - loss: 0.1867 - categorical_accuracy: 0.9298\n",
      "Epoch 428/2000\n",
      "6/6 [==============================] - 2s 346ms/step - loss: 0.1669 - categorical_accuracy: 0.9415\n",
      "Epoch 429/2000\n",
      "6/6 [==============================] - 2s 362ms/step - loss: 0.2743 - categorical_accuracy: 0.8830\n",
      "Epoch 430/2000\n",
      "6/6 [==============================] - 2s 350ms/step - loss: 0.4118 - categorical_accuracy: 0.8480\n",
      "Epoch 431/2000\n",
      "6/6 [==============================] - 2s 352ms/step - loss: 0.4336 - categorical_accuracy: 0.8538\n",
      "Epoch 432/2000\n",
      "6/6 [==============================] - 2s 344ms/step - loss: 0.8697 - categorical_accuracy: 0.7719\n",
      "Epoch 433/2000\n",
      "6/6 [==============================] - 2s 344ms/step - loss: 0.6889 - categorical_accuracy: 0.6901\n",
      "Epoch 434/2000\n",
      "6/6 [==============================] - 2s 337ms/step - loss: 0.5720 - categorical_accuracy: 0.7485\n",
      "Epoch 435/2000\n",
      "6/6 [==============================] - 2s 332ms/step - loss: 0.4383 - categorical_accuracy: 0.8596\n",
      "Epoch 436/2000\n",
      "6/6 [==============================] - 2s 342ms/step - loss: 0.4145 - categorical_accuracy: 0.8187\n",
      "Epoch 437/2000\n",
      "6/6 [==============================] - 2s 313ms/step - loss: 0.2978 - categorical_accuracy: 0.8947\n",
      "Epoch 438/2000\n",
      "6/6 [==============================] - 2s 320ms/step - loss: 0.1967 - categorical_accuracy: 0.9415\n",
      "Epoch 439/2000\n",
      "6/6 [==============================] - 2s 320ms/step - loss: 0.1830 - categorical_accuracy: 0.9474\n",
      "Epoch 440/2000\n",
      "6/6 [==============================] - 2s 315ms/step - loss: 0.1992 - categorical_accuracy: 0.9415\n",
      "Epoch 441/2000\n",
      "6/6 [==============================] - 2s 310ms/step - loss: 0.2313 - categorical_accuracy: 0.8947\n",
      "Epoch 442/2000\n",
      "6/6 [==============================] - 2s 321ms/step - loss: 0.1780 - categorical_accuracy: 0.9474\n",
      "Epoch 443/2000\n",
      "6/6 [==============================] - 2s 324ms/step - loss: 0.2249 - categorical_accuracy: 0.9064\n",
      "Epoch 444/2000\n",
      "6/6 [==============================] - 2s 323ms/step - loss: 0.1981 - categorical_accuracy: 0.9064\n",
      "Epoch 445/2000\n",
      "6/6 [==============================] - 2s 321ms/step - loss: 0.1772 - categorical_accuracy: 0.9415\n",
      "Epoch 446/2000\n",
      "6/6 [==============================] - 2s 319ms/step - loss: 0.1221 - categorical_accuracy: 0.9649\n",
      "Epoch 447/2000\n",
      "6/6 [==============================] - 2s 323ms/step - loss: 0.1257 - categorical_accuracy: 0.9591\n",
      "Epoch 448/2000\n",
      "6/6 [==============================] - 2s 323ms/step - loss: 0.1283 - categorical_accuracy: 0.9532\n",
      "Epoch 449/2000\n",
      "6/6 [==============================] - 2s 324ms/step - loss: 0.1299 - categorical_accuracy: 0.9591\n",
      "Epoch 450/2000\n",
      "6/6 [==============================] - 2s 324ms/step - loss: 0.1112 - categorical_accuracy: 0.9532\n",
      "Epoch 451/2000\n",
      "6/6 [==============================] - 2s 311ms/step - loss: 0.1241 - categorical_accuracy: 0.9591\n",
      "Epoch 452/2000\n",
      "6/6 [==============================] - 2s 320ms/step - loss: 0.1576 - categorical_accuracy: 0.9357\n",
      "Epoch 453/2000\n",
      "6/6 [==============================] - 2s 327ms/step - loss: 0.1168 - categorical_accuracy: 0.9591\n",
      "Epoch 454/2000\n",
      "6/6 [==============================] - 2s 321ms/step - loss: 0.1504 - categorical_accuracy: 0.9474\n",
      "Epoch 455/2000\n",
      "6/6 [==============================] - 2s 317ms/step - loss: 0.1352 - categorical_accuracy: 0.9474\n",
      "Epoch 456/2000\n",
      "6/6 [==============================] - 2s 312ms/step - loss: 0.2045 - categorical_accuracy: 0.8947\n",
      "Epoch 457/2000\n",
      "6/6 [==============================] - 2s 317ms/step - loss: 0.2072 - categorical_accuracy: 0.9298\n",
      "Epoch 458/2000\n",
      "6/6 [==============================] - 2s 321ms/step - loss: 0.1238 - categorical_accuracy: 0.9415\n",
      "Epoch 459/2000\n",
      "6/6 [==============================] - 2s 316ms/step - loss: 0.2153 - categorical_accuracy: 0.9064\n",
      "Epoch 460/2000\n",
      "6/6 [==============================] - 2s 320ms/step - loss: 0.2413 - categorical_accuracy: 0.9006\n",
      "Epoch 461/2000\n",
      "6/6 [==============================] - 2s 319ms/step - loss: 0.2195 - categorical_accuracy: 0.9298\n",
      "Epoch 462/2000\n",
      "6/6 [==============================] - 2s 298ms/step - loss: 0.1767 - categorical_accuracy: 0.9298\n",
      "Epoch 463/2000\n",
      "6/6 [==============================] - 2s 311ms/step - loss: 0.1561 - categorical_accuracy: 0.9357\n",
      "Epoch 464/2000\n",
      "6/6 [==============================] - 2s 323ms/step - loss: 0.1926 - categorical_accuracy: 0.9357\n",
      "Epoch 465/2000\n",
      "6/6 [==============================] - 2s 326ms/step - loss: 0.3119 - categorical_accuracy: 0.8889\n",
      "Epoch 466/2000\n",
      "6/6 [==============================] - 2s 319ms/step - loss: 0.9604 - categorical_accuracy: 0.7076\n",
      "Epoch 467/2000\n",
      "6/6 [==============================] - 2s 312ms/step - loss: 1.5706 - categorical_accuracy: 0.6550\n",
      "Epoch 468/2000\n",
      "6/6 [==============================] - 2s 318ms/step - loss: 0.9498 - categorical_accuracy: 0.7076\n",
      "Epoch 469/2000\n",
      "6/6 [==============================] - 2s 317ms/step - loss: 0.6145 - categorical_accuracy: 0.7719\n",
      "Epoch 470/2000\n",
      "6/6 [==============================] - 2s 312ms/step - loss: 0.2947 - categorical_accuracy: 0.9064\n",
      "Epoch 471/2000\n",
      "6/6 [==============================] - 2s 319ms/step - loss: 0.3389 - categorical_accuracy: 0.8596\n",
      "Epoch 472/2000\n",
      "6/6 [==============================] - 2s 316ms/step - loss: 0.2457 - categorical_accuracy: 0.9064\n",
      "Epoch 473/2000\n",
      "6/6 [==============================] - 2s 308ms/step - loss: 0.2066 - categorical_accuracy: 0.9357\n",
      "Epoch 474/2000\n",
      "6/6 [==============================] - 2s 323ms/step - loss: 0.2008 - categorical_accuracy: 0.9298\n",
      "Epoch 475/2000\n",
      "6/6 [==============================] - 2s 309ms/step - loss: 0.2202 - categorical_accuracy: 0.9240\n",
      "Epoch 476/2000\n",
      "6/6 [==============================] - 2s 309ms/step - loss: 0.2515 - categorical_accuracy: 0.9064\n",
      "Epoch 477/2000\n",
      "6/6 [==============================] - 2s 321ms/step - loss: 0.3978 - categorical_accuracy: 0.8363\n",
      "Epoch 478/2000\n",
      "6/6 [==============================] - 2s 322ms/step - loss: 0.5980 - categorical_accuracy: 0.8012\n",
      "Epoch 479/2000\n",
      "6/6 [==============================] - 2s 312ms/step - loss: 0.6841 - categorical_accuracy: 0.8187\n",
      "Epoch 480/2000\n",
      "6/6 [==============================] - 2s 315ms/step - loss: 0.5850 - categorical_accuracy: 0.7661\n",
      "Epoch 481/2000\n",
      "6/6 [==============================] - 2s 330ms/step - loss: 0.3849 - categorical_accuracy: 0.8538\n",
      "Epoch 482/2000\n",
      "6/6 [==============================] - 2s 315ms/step - loss: 0.2628 - categorical_accuracy: 0.8889\n",
      "Epoch 483/2000\n",
      "6/6 [==============================] - 2s 319ms/step - loss: 0.2469 - categorical_accuracy: 0.9064\n",
      "Epoch 484/2000\n",
      "6/6 [==============================] - 2s 311ms/step - loss: 0.1859 - categorical_accuracy: 0.9357\n",
      "Epoch 485/2000\n",
      "6/6 [==============================] - 2s 353ms/step - loss: 0.2230 - categorical_accuracy: 0.9123\n",
      "Epoch 486/2000\n",
      "6/6 [==============================] - 2s 342ms/step - loss: 0.2048 - categorical_accuracy: 0.8947\n",
      "Epoch 487/2000\n",
      "6/6 [==============================] - 2s 354ms/step - loss: 0.4279 - categorical_accuracy: 0.8363\n",
      "Epoch 488/2000\n",
      "6/6 [==============================] - 2s 361ms/step - loss: 0.5507 - categorical_accuracy: 0.7719\n",
      "Epoch 489/2000\n",
      "6/6 [==============================] - 2s 350ms/step - loss: 0.4655 - categorical_accuracy: 0.7778\n",
      "Epoch 490/2000\n",
      "6/6 [==============================] - 2s 349ms/step - loss: 0.4020 - categorical_accuracy: 0.8480\n",
      "Epoch 491/2000\n",
      "6/6 [==============================] - 2s 350ms/step - loss: 0.2571 - categorical_accuracy: 0.9064\n",
      "Epoch 492/2000\n",
      "6/6 [==============================] - 2s 346ms/step - loss: 0.2453 - categorical_accuracy: 0.9006\n",
      "Epoch 493/2000\n",
      "6/6 [==============================] - 2s 332ms/step - loss: 0.2810 - categorical_accuracy: 0.8830\n",
      "Epoch 494/2000\n",
      "6/6 [==============================] - 2s 341ms/step - loss: 0.2386 - categorical_accuracy: 0.9240\n",
      "Epoch 495/2000\n",
      "6/6 [==============================] - 2s 341ms/step - loss: 0.1899 - categorical_accuracy: 0.9240\n",
      "Epoch 496/2000\n",
      "6/6 [==============================] - 2s 317ms/step - loss: 0.2939 - categorical_accuracy: 0.8830\n",
      "Epoch 497/2000\n",
      "6/6 [==============================] - 2s 310ms/step - loss: 0.1734 - categorical_accuracy: 0.9123\n",
      "Epoch 498/2000\n",
      "6/6 [==============================] - 2s 314ms/step - loss: 0.2051 - categorical_accuracy: 0.9123\n",
      "Epoch 499/2000\n",
      "6/6 [==============================] - 2s 320ms/step - loss: 0.1619 - categorical_accuracy: 0.9474\n",
      "Epoch 500/2000\n",
      "6/6 [==============================] - 2s 313ms/step - loss: 0.1344 - categorical_accuracy: 0.9298\n",
      "Epoch 501/2000\n",
      "6/6 [==============================] - 2s 312ms/step - loss: 0.1831 - categorical_accuracy: 0.9357\n",
      "Epoch 502/2000\n",
      "6/6 [==============================] - 2s 319ms/step - loss: 0.1602 - categorical_accuracy: 0.9357\n"
     ]
    },
    {
     "name": "stdout",
     "output_type": "stream",
     "text": [
      "Epoch 503/2000\n",
      "6/6 [==============================] - 2s 323ms/step - loss: 0.5070 - categorical_accuracy: 0.8596\n",
      "Epoch 504/2000\n",
      "6/6 [==============================] - 2s 315ms/step - loss: 1.3603 - categorical_accuracy: 0.6959\n",
      "Epoch 505/2000\n",
      "6/6 [==============================] - 2s 308ms/step - loss: 0.5868 - categorical_accuracy: 0.8304\n",
      "Epoch 506/2000\n",
      "6/6 [==============================] - 2s 339ms/step - loss: 0.3352 - categorical_accuracy: 0.9006\n",
      "Epoch 507/2000\n",
      "6/6 [==============================] - 2s 324ms/step - loss: 0.3147 - categorical_accuracy: 0.8830\n",
      "Epoch 508/2000\n",
      "6/6 [==============================] - 2s 331ms/step - loss: 0.5217 - categorical_accuracy: 0.8363\n",
      "Epoch 509/2000\n",
      "6/6 [==============================] - 2s 327ms/step - loss: 1.0623 - categorical_accuracy: 0.6784\n",
      "Epoch 510/2000\n",
      "6/6 [==============================] - 2s 318ms/step - loss: 0.9534 - categorical_accuracy: 0.7018\n",
      "Epoch 511/2000\n",
      "6/6 [==============================] - 2s 316ms/step - loss: 0.5544 - categorical_accuracy: 0.8363\n",
      "Epoch 512/2000\n",
      "6/6 [==============================] - 2s 331ms/step - loss: 0.4583 - categorical_accuracy: 0.8070\n",
      "Epoch 513/2000\n",
      "6/6 [==============================] - 2s 306ms/step - loss: 0.1957 - categorical_accuracy: 0.9357\n",
      "Epoch 514/2000\n",
      "6/6 [==============================] - 2s 351ms/step - loss: 0.1607 - categorical_accuracy: 0.9474\n",
      "Epoch 515/2000\n",
      "6/6 [==============================] - 2s 314ms/step - loss: 0.1478 - categorical_accuracy: 0.9649\n",
      "Epoch 516/2000\n",
      "1/6 [====>.........................] - ETA: 1s - loss: 0.1653 - categorical_accuracy: 0.9375"
     ]
    },
    {
     "ename": "KeyboardInterrupt",
     "evalue": "",
     "output_type": "error",
     "traceback": [
      "\u001b[1;31m---------------------------------------------------------------------------\u001b[0m",
      "\u001b[1;31mKeyboardInterrupt\u001b[0m                         Traceback (most recent call last)",
      "Input \u001b[1;32mIn [19]\u001b[0m, in \u001b[0;36m<module>\u001b[1;34m\u001b[0m\n\u001b[1;32m----> 1\u001b[0m \u001b[43mmodel\u001b[49m\u001b[38;5;241;43m.\u001b[39;49m\u001b[43mfit\u001b[49m\u001b[43m(\u001b[49m\u001b[43mX_train\u001b[49m\u001b[43m,\u001b[49m\u001b[43m \u001b[49m\u001b[43my_train\u001b[49m\u001b[43m,\u001b[49m\u001b[43m \u001b[49m\u001b[43mepochs\u001b[49m\u001b[38;5;241;43m=\u001b[39;49m\u001b[38;5;241;43m2000\u001b[39;49m\u001b[43m,\u001b[49m\u001b[43m \u001b[49m\u001b[43mcallbacks\u001b[49m\u001b[38;5;241;43m=\u001b[39;49m\u001b[43m[\u001b[49m\u001b[43mtb_callback\u001b[49m\u001b[43m]\u001b[49m\u001b[43m)\u001b[49m\n",
      "File \u001b[1;32m~\\AppData\\Local\\Programs\\Python\\Python310\\lib\\site-packages\\keras\\utils\\traceback_utils.py:64\u001b[0m, in \u001b[0;36mfilter_traceback.<locals>.error_handler\u001b[1;34m(*args, **kwargs)\u001b[0m\n\u001b[0;32m     62\u001b[0m filtered_tb \u001b[38;5;241m=\u001b[39m \u001b[38;5;28;01mNone\u001b[39;00m\n\u001b[0;32m     63\u001b[0m \u001b[38;5;28;01mtry\u001b[39;00m:\n\u001b[1;32m---> 64\u001b[0m   \u001b[38;5;28;01mreturn\u001b[39;00m fn(\u001b[38;5;241m*\u001b[39margs, \u001b[38;5;241m*\u001b[39m\u001b[38;5;241m*\u001b[39mkwargs)\n\u001b[0;32m     65\u001b[0m \u001b[38;5;28;01mexcept\u001b[39;00m \u001b[38;5;167;01mException\u001b[39;00m \u001b[38;5;28;01mas\u001b[39;00m e:  \u001b[38;5;66;03m# pylint: disable=broad-except\u001b[39;00m\n\u001b[0;32m     66\u001b[0m   filtered_tb \u001b[38;5;241m=\u001b[39m _process_traceback_frames(e\u001b[38;5;241m.\u001b[39m__traceback__)\n",
      "File \u001b[1;32m~\\AppData\\Local\\Programs\\Python\\Python310\\lib\\site-packages\\keras\\engine\\training.py:1384\u001b[0m, in \u001b[0;36mModel.fit\u001b[1;34m(self, x, y, batch_size, epochs, verbose, callbacks, validation_split, validation_data, shuffle, class_weight, sample_weight, initial_epoch, steps_per_epoch, validation_steps, validation_batch_size, validation_freq, max_queue_size, workers, use_multiprocessing)\u001b[0m\n\u001b[0;32m   1377\u001b[0m \u001b[38;5;28;01mwith\u001b[39;00m tf\u001b[38;5;241m.\u001b[39mprofiler\u001b[38;5;241m.\u001b[39mexperimental\u001b[38;5;241m.\u001b[39mTrace(\n\u001b[0;32m   1378\u001b[0m     \u001b[38;5;124m'\u001b[39m\u001b[38;5;124mtrain\u001b[39m\u001b[38;5;124m'\u001b[39m,\n\u001b[0;32m   1379\u001b[0m     epoch_num\u001b[38;5;241m=\u001b[39mepoch,\n\u001b[0;32m   1380\u001b[0m     step_num\u001b[38;5;241m=\u001b[39mstep,\n\u001b[0;32m   1381\u001b[0m     batch_size\u001b[38;5;241m=\u001b[39mbatch_size,\n\u001b[0;32m   1382\u001b[0m     _r\u001b[38;5;241m=\u001b[39m\u001b[38;5;241m1\u001b[39m):\n\u001b[0;32m   1383\u001b[0m   callbacks\u001b[38;5;241m.\u001b[39mon_train_batch_begin(step)\n\u001b[1;32m-> 1384\u001b[0m   tmp_logs \u001b[38;5;241m=\u001b[39m \u001b[38;5;28;43mself\u001b[39;49m\u001b[38;5;241;43m.\u001b[39;49m\u001b[43mtrain_function\u001b[49m\u001b[43m(\u001b[49m\u001b[43miterator\u001b[49m\u001b[43m)\u001b[49m\n\u001b[0;32m   1385\u001b[0m   \u001b[38;5;28;01mif\u001b[39;00m data_handler\u001b[38;5;241m.\u001b[39mshould_sync:\n\u001b[0;32m   1386\u001b[0m     context\u001b[38;5;241m.\u001b[39masync_wait()\n",
      "File \u001b[1;32m~\\AppData\\Local\\Programs\\Python\\Python310\\lib\\site-packages\\tensorflow\\python\\util\\traceback_utils.py:150\u001b[0m, in \u001b[0;36mfilter_traceback.<locals>.error_handler\u001b[1;34m(*args, **kwargs)\u001b[0m\n\u001b[0;32m    148\u001b[0m filtered_tb \u001b[38;5;241m=\u001b[39m \u001b[38;5;28;01mNone\u001b[39;00m\n\u001b[0;32m    149\u001b[0m \u001b[38;5;28;01mtry\u001b[39;00m:\n\u001b[1;32m--> 150\u001b[0m   \u001b[38;5;28;01mreturn\u001b[39;00m fn(\u001b[38;5;241m*\u001b[39margs, \u001b[38;5;241m*\u001b[39m\u001b[38;5;241m*\u001b[39mkwargs)\n\u001b[0;32m    151\u001b[0m \u001b[38;5;28;01mexcept\u001b[39;00m \u001b[38;5;167;01mException\u001b[39;00m \u001b[38;5;28;01mas\u001b[39;00m e:\n\u001b[0;32m    152\u001b[0m   filtered_tb \u001b[38;5;241m=\u001b[39m _process_traceback_frames(e\u001b[38;5;241m.\u001b[39m__traceback__)\n",
      "File \u001b[1;32m~\\AppData\\Local\\Programs\\Python\\Python310\\lib\\site-packages\\tensorflow\\python\\eager\\def_function.py:915\u001b[0m, in \u001b[0;36mFunction.__call__\u001b[1;34m(self, *args, **kwds)\u001b[0m\n\u001b[0;32m    912\u001b[0m compiler \u001b[38;5;241m=\u001b[39m \u001b[38;5;124m\"\u001b[39m\u001b[38;5;124mxla\u001b[39m\u001b[38;5;124m\"\u001b[39m \u001b[38;5;28;01mif\u001b[39;00m \u001b[38;5;28mself\u001b[39m\u001b[38;5;241m.\u001b[39m_jit_compile \u001b[38;5;28;01melse\u001b[39;00m \u001b[38;5;124m\"\u001b[39m\u001b[38;5;124mnonXla\u001b[39m\u001b[38;5;124m\"\u001b[39m\n\u001b[0;32m    914\u001b[0m \u001b[38;5;28;01mwith\u001b[39;00m OptionalXlaContext(\u001b[38;5;28mself\u001b[39m\u001b[38;5;241m.\u001b[39m_jit_compile):\n\u001b[1;32m--> 915\u001b[0m   result \u001b[38;5;241m=\u001b[39m \u001b[38;5;28mself\u001b[39m\u001b[38;5;241m.\u001b[39m_call(\u001b[38;5;241m*\u001b[39margs, \u001b[38;5;241m*\u001b[39m\u001b[38;5;241m*\u001b[39mkwds)\n\u001b[0;32m    917\u001b[0m new_tracing_count \u001b[38;5;241m=\u001b[39m \u001b[38;5;28mself\u001b[39m\u001b[38;5;241m.\u001b[39mexperimental_get_tracing_count()\n\u001b[0;32m    918\u001b[0m without_tracing \u001b[38;5;241m=\u001b[39m (tracing_count \u001b[38;5;241m==\u001b[39m new_tracing_count)\n",
      "File \u001b[1;32m~\\AppData\\Local\\Programs\\Python\\Python310\\lib\\site-packages\\tensorflow\\python\\eager\\def_function.py:947\u001b[0m, in \u001b[0;36mFunction._call\u001b[1;34m(self, *args, **kwds)\u001b[0m\n\u001b[0;32m    944\u001b[0m   \u001b[38;5;28mself\u001b[39m\u001b[38;5;241m.\u001b[39m_lock\u001b[38;5;241m.\u001b[39mrelease()\n\u001b[0;32m    945\u001b[0m   \u001b[38;5;66;03m# In this case we have created variables on the first call, so we run the\u001b[39;00m\n\u001b[0;32m    946\u001b[0m   \u001b[38;5;66;03m# defunned version which is guaranteed to never create variables.\u001b[39;00m\n\u001b[1;32m--> 947\u001b[0m   \u001b[38;5;28;01mreturn\u001b[39;00m \u001b[38;5;28mself\u001b[39m\u001b[38;5;241m.\u001b[39m_stateless_fn(\u001b[38;5;241m*\u001b[39margs, \u001b[38;5;241m*\u001b[39m\u001b[38;5;241m*\u001b[39mkwds)  \u001b[38;5;66;03m# pylint: disable=not-callable\u001b[39;00m\n\u001b[0;32m    948\u001b[0m \u001b[38;5;28;01melif\u001b[39;00m \u001b[38;5;28mself\u001b[39m\u001b[38;5;241m.\u001b[39m_stateful_fn \u001b[38;5;129;01mis\u001b[39;00m \u001b[38;5;129;01mnot\u001b[39;00m \u001b[38;5;28;01mNone\u001b[39;00m:\n\u001b[0;32m    949\u001b[0m   \u001b[38;5;66;03m# Release the lock early so that multiple threads can perform the call\u001b[39;00m\n\u001b[0;32m    950\u001b[0m   \u001b[38;5;66;03m# in parallel.\u001b[39;00m\n\u001b[0;32m    951\u001b[0m   \u001b[38;5;28mself\u001b[39m\u001b[38;5;241m.\u001b[39m_lock\u001b[38;5;241m.\u001b[39mrelease()\n",
      "File \u001b[1;32m~\\AppData\\Local\\Programs\\Python\\Python310\\lib\\site-packages\\tensorflow\\python\\eager\\function.py:2956\u001b[0m, in \u001b[0;36mFunction.__call__\u001b[1;34m(self, *args, **kwargs)\u001b[0m\n\u001b[0;32m   2953\u001b[0m \u001b[38;5;28;01mwith\u001b[39;00m \u001b[38;5;28mself\u001b[39m\u001b[38;5;241m.\u001b[39m_lock:\n\u001b[0;32m   2954\u001b[0m   (graph_function,\n\u001b[0;32m   2955\u001b[0m    filtered_flat_args) \u001b[38;5;241m=\u001b[39m \u001b[38;5;28mself\u001b[39m\u001b[38;5;241m.\u001b[39m_maybe_define_function(args, kwargs)\n\u001b[1;32m-> 2956\u001b[0m \u001b[38;5;28;01mreturn\u001b[39;00m \u001b[43mgraph_function\u001b[49m\u001b[38;5;241;43m.\u001b[39;49m\u001b[43m_call_flat\u001b[49m\u001b[43m(\u001b[49m\n\u001b[0;32m   2957\u001b[0m \u001b[43m    \u001b[49m\u001b[43mfiltered_flat_args\u001b[49m\u001b[43m,\u001b[49m\u001b[43m \u001b[49m\u001b[43mcaptured_inputs\u001b[49m\u001b[38;5;241;43m=\u001b[39;49m\u001b[43mgraph_function\u001b[49m\u001b[38;5;241;43m.\u001b[39;49m\u001b[43mcaptured_inputs\u001b[49m\u001b[43m)\u001b[49m\n",
      "File \u001b[1;32m~\\AppData\\Local\\Programs\\Python\\Python310\\lib\\site-packages\\tensorflow\\python\\eager\\function.py:1853\u001b[0m, in \u001b[0;36mConcreteFunction._call_flat\u001b[1;34m(self, args, captured_inputs, cancellation_manager)\u001b[0m\n\u001b[0;32m   1849\u001b[0m possible_gradient_type \u001b[38;5;241m=\u001b[39m gradients_util\u001b[38;5;241m.\u001b[39mPossibleTapeGradientTypes(args)\n\u001b[0;32m   1850\u001b[0m \u001b[38;5;28;01mif\u001b[39;00m (possible_gradient_type \u001b[38;5;241m==\u001b[39m gradients_util\u001b[38;5;241m.\u001b[39mPOSSIBLE_GRADIENT_TYPES_NONE\n\u001b[0;32m   1851\u001b[0m     \u001b[38;5;129;01mand\u001b[39;00m executing_eagerly):\n\u001b[0;32m   1852\u001b[0m   \u001b[38;5;66;03m# No tape is watching; skip to running the function.\u001b[39;00m\n\u001b[1;32m-> 1853\u001b[0m   \u001b[38;5;28;01mreturn\u001b[39;00m \u001b[38;5;28mself\u001b[39m\u001b[38;5;241m.\u001b[39m_build_call_outputs(\u001b[38;5;28;43mself\u001b[39;49m\u001b[38;5;241;43m.\u001b[39;49m\u001b[43m_inference_function\u001b[49m\u001b[38;5;241;43m.\u001b[39;49m\u001b[43mcall\u001b[49m\u001b[43m(\u001b[49m\n\u001b[0;32m   1854\u001b[0m \u001b[43m      \u001b[49m\u001b[43mctx\u001b[49m\u001b[43m,\u001b[49m\u001b[43m \u001b[49m\u001b[43margs\u001b[49m\u001b[43m,\u001b[49m\u001b[43m \u001b[49m\u001b[43mcancellation_manager\u001b[49m\u001b[38;5;241;43m=\u001b[39;49m\u001b[43mcancellation_manager\u001b[49m\u001b[43m)\u001b[49m)\n\u001b[0;32m   1855\u001b[0m forward_backward \u001b[38;5;241m=\u001b[39m \u001b[38;5;28mself\u001b[39m\u001b[38;5;241m.\u001b[39m_select_forward_and_backward_functions(\n\u001b[0;32m   1856\u001b[0m     args,\n\u001b[0;32m   1857\u001b[0m     possible_gradient_type,\n\u001b[0;32m   1858\u001b[0m     executing_eagerly)\n\u001b[0;32m   1859\u001b[0m forward_function, args_with_tangents \u001b[38;5;241m=\u001b[39m forward_backward\u001b[38;5;241m.\u001b[39mforward()\n",
      "File \u001b[1;32m~\\AppData\\Local\\Programs\\Python\\Python310\\lib\\site-packages\\tensorflow\\python\\eager\\function.py:499\u001b[0m, in \u001b[0;36m_EagerDefinedFunction.call\u001b[1;34m(self, ctx, args, cancellation_manager)\u001b[0m\n\u001b[0;32m    497\u001b[0m \u001b[38;5;28;01mwith\u001b[39;00m _InterpolateFunctionError(\u001b[38;5;28mself\u001b[39m):\n\u001b[0;32m    498\u001b[0m   \u001b[38;5;28;01mif\u001b[39;00m cancellation_manager \u001b[38;5;129;01mis\u001b[39;00m \u001b[38;5;28;01mNone\u001b[39;00m:\n\u001b[1;32m--> 499\u001b[0m     outputs \u001b[38;5;241m=\u001b[39m \u001b[43mexecute\u001b[49m\u001b[38;5;241;43m.\u001b[39;49m\u001b[43mexecute\u001b[49m\u001b[43m(\u001b[49m\n\u001b[0;32m    500\u001b[0m \u001b[43m        \u001b[49m\u001b[38;5;28;43mstr\u001b[39;49m\u001b[43m(\u001b[49m\u001b[38;5;28;43mself\u001b[39;49m\u001b[38;5;241;43m.\u001b[39;49m\u001b[43msignature\u001b[49m\u001b[38;5;241;43m.\u001b[39;49m\u001b[43mname\u001b[49m\u001b[43m)\u001b[49m\u001b[43m,\u001b[49m\n\u001b[0;32m    501\u001b[0m \u001b[43m        \u001b[49m\u001b[43mnum_outputs\u001b[49m\u001b[38;5;241;43m=\u001b[39;49m\u001b[38;5;28;43mself\u001b[39;49m\u001b[38;5;241;43m.\u001b[39;49m\u001b[43m_num_outputs\u001b[49m\u001b[43m,\u001b[49m\n\u001b[0;32m    502\u001b[0m \u001b[43m        \u001b[49m\u001b[43minputs\u001b[49m\u001b[38;5;241;43m=\u001b[39;49m\u001b[43margs\u001b[49m\u001b[43m,\u001b[49m\n\u001b[0;32m    503\u001b[0m \u001b[43m        \u001b[49m\u001b[43mattrs\u001b[49m\u001b[38;5;241;43m=\u001b[39;49m\u001b[43mattrs\u001b[49m\u001b[43m,\u001b[49m\n\u001b[0;32m    504\u001b[0m \u001b[43m        \u001b[49m\u001b[43mctx\u001b[49m\u001b[38;5;241;43m=\u001b[39;49m\u001b[43mctx\u001b[49m\u001b[43m)\u001b[49m\n\u001b[0;32m    505\u001b[0m   \u001b[38;5;28;01melse\u001b[39;00m:\n\u001b[0;32m    506\u001b[0m     outputs \u001b[38;5;241m=\u001b[39m execute\u001b[38;5;241m.\u001b[39mexecute_with_cancellation(\n\u001b[0;32m    507\u001b[0m         \u001b[38;5;28mstr\u001b[39m(\u001b[38;5;28mself\u001b[39m\u001b[38;5;241m.\u001b[39msignature\u001b[38;5;241m.\u001b[39mname),\n\u001b[0;32m    508\u001b[0m         num_outputs\u001b[38;5;241m=\u001b[39m\u001b[38;5;28mself\u001b[39m\u001b[38;5;241m.\u001b[39m_num_outputs,\n\u001b[1;32m   (...)\u001b[0m\n\u001b[0;32m    511\u001b[0m         ctx\u001b[38;5;241m=\u001b[39mctx,\n\u001b[0;32m    512\u001b[0m         cancellation_manager\u001b[38;5;241m=\u001b[39mcancellation_manager)\n",
      "File \u001b[1;32m~\\AppData\\Local\\Programs\\Python\\Python310\\lib\\site-packages\\tensorflow\\python\\eager\\execute.py:54\u001b[0m, in \u001b[0;36mquick_execute\u001b[1;34m(op_name, num_outputs, inputs, attrs, ctx, name)\u001b[0m\n\u001b[0;32m     52\u001b[0m \u001b[38;5;28;01mtry\u001b[39;00m:\n\u001b[0;32m     53\u001b[0m   ctx\u001b[38;5;241m.\u001b[39mensure_initialized()\n\u001b[1;32m---> 54\u001b[0m   tensors \u001b[38;5;241m=\u001b[39m \u001b[43mpywrap_tfe\u001b[49m\u001b[38;5;241;43m.\u001b[39;49m\u001b[43mTFE_Py_Execute\u001b[49m\u001b[43m(\u001b[49m\u001b[43mctx\u001b[49m\u001b[38;5;241;43m.\u001b[39;49m\u001b[43m_handle\u001b[49m\u001b[43m,\u001b[49m\u001b[43m \u001b[49m\u001b[43mdevice_name\u001b[49m\u001b[43m,\u001b[49m\u001b[43m \u001b[49m\u001b[43mop_name\u001b[49m\u001b[43m,\u001b[49m\n\u001b[0;32m     55\u001b[0m \u001b[43m                                      \u001b[49m\u001b[43minputs\u001b[49m\u001b[43m,\u001b[49m\u001b[43m \u001b[49m\u001b[43mattrs\u001b[49m\u001b[43m,\u001b[49m\u001b[43m \u001b[49m\u001b[43mnum_outputs\u001b[49m\u001b[43m)\u001b[49m\n\u001b[0;32m     56\u001b[0m \u001b[38;5;28;01mexcept\u001b[39;00m core\u001b[38;5;241m.\u001b[39m_NotOkStatusException \u001b[38;5;28;01mas\u001b[39;00m e:\n\u001b[0;32m     57\u001b[0m   \u001b[38;5;28;01mif\u001b[39;00m name \u001b[38;5;129;01mis\u001b[39;00m \u001b[38;5;129;01mnot\u001b[39;00m \u001b[38;5;28;01mNone\u001b[39;00m:\n",
      "\u001b[1;31mKeyboardInterrupt\u001b[0m: "
     ]
    }
   ],
   "source": [
    "model.fit(X_train, y_train, epochs=2000, callbacks=[tb_callback])"
   ]
  },
  {
   "cell_type": "code",
   "execution_count": null,
   "id": "4dd98f19",
   "metadata": {},
   "outputs": [
    {
     "name": "stdout",
     "output_type": "stream",
     "text": [
      "Model: \"sequential_2\"\n",
      "_________________________________________________________________\n",
      " Layer (type)                Output Shape              Param #   \n",
      "=================================================================\n",
      " lstm_9 (LSTM)               (None, 30, 64)            442112    \n",
      "                                                                 \n",
      " lstm_10 (LSTM)              (None, 30, 128)           98816     \n",
      "                                                                 \n",
      " lstm_11 (LSTM)              (None, 64)                49408     \n",
      "                                                                 \n",
      " dense_6 (Dense)             (None, 64)                4160      \n",
      "                                                                 \n",
      " dense_7 (Dense)             (None, 32)                2080      \n",
      "                                                                 \n",
      " dense_8 (Dense)             (None, 6)                 198       \n",
      "                                                                 \n",
      "=================================================================\n",
      "Total params: 596,774\n",
      "Trainable params: 596,774\n",
      "Non-trainable params: 0\n",
      "_________________________________________________________________\n"
     ]
    }
   ],
   "source": [
    "model.summary()"
   ]
  },
  {
   "cell_type": "markdown",
   "id": "fe8a364b",
   "metadata": {},
   "source": [
    "# Make Prediction"
   ]
  },
  {
   "cell_type": "code",
   "execution_count": 31,
   "id": "9570aa53",
   "metadata": {},
   "outputs": [],
   "source": [
    "#load signs, x_test, y_test\n",
    "testDatasPath=os.path.join(\"Test_Datas\")\n",
    "signsPath=os.path.join(\"Signs\")\n",
    "x_test=np.load(os.path.join(testDatasPath,'x_test.npy'))\n",
    "y_test=np.load(os.path.join(testDatasPath,'y_test.npy'))\n",
    "signs=np.load(os.path.join(signsPath,'signs.npy'))"
   ]
  },
  {
   "cell_type": "code",
   "execution_count": 32,
   "id": "40a4654d",
   "metadata": {},
   "outputs": [],
   "source": [
    "res = model.predict(x_test)"
   ]
  },
  {
   "cell_type": "code",
   "execution_count": 41,
   "id": "385d05e9",
   "metadata": {},
   "outputs": [
    {
     "data": {
      "text/plain": [
       "'Hospital'"
      ]
     },
     "execution_count": 41,
     "metadata": {},
     "output_type": "execute_result"
    }
   ],
   "source": [
    "signs[np.argmax(res[4])]"
   ]
  },
  {
   "cell_type": "code",
   "execution_count": 42,
   "id": "4a806dcd",
   "metadata": {},
   "outputs": [
    {
     "data": {
      "text/plain": [
       "'Hungry'"
      ]
     },
     "execution_count": 42,
     "metadata": {},
     "output_type": "execute_result"
    }
   ],
   "source": [
    "signs[np.argmax(y_test[4])]"
   ]
  },
  {
   "cell_type": "code",
   "execution_count": null,
   "id": "1b4dc6bd",
   "metadata": {},
   "outputs": [
    {
     "data": {
      "text/plain": [
       "(13, 6)"
      ]
     },
     "execution_count": 65,
     "metadata": {},
     "output_type": "execute_result"
    }
   ],
   "source": [
    "res.shape"
   ]
  },
  {
   "cell_type": "code",
   "execution_count": null,
   "id": "fe1b0ada",
   "metadata": {},
   "outputs": [
    {
     "data": {
      "text/plain": [
       "array([[0, 0, 0, 0, 1, 0],\n",
       "       [0, 0, 0, 0, 0, 1],\n",
       "       [0, 0, 0, 1, 0, 0],\n",
       "       [0, 0, 0, 1, 0, 0],\n",
       "       [0, 1, 0, 0, 0, 0],\n",
       "       [0, 0, 0, 0, 1, 0],\n",
       "       [1, 0, 0, 0, 0, 0],\n",
       "       [1, 0, 0, 0, 0, 0],\n",
       "       [1, 0, 0, 0, 0, 0],\n",
       "       [0, 1, 0, 0, 0, 0],\n",
       "       [1, 0, 0, 0, 0, 0],\n",
       "       [0, 0, 1, 0, 0, 0],\n",
       "       [1, 0, 0, 0, 0, 0]])"
      ]
     },
     "execution_count": 67,
     "metadata": {},
     "output_type": "execute_result"
    }
   ],
   "source": [
    "y_test"
   ]
  },
  {
   "cell_type": "code",
   "execution_count": null,
   "id": "81e3f184",
   "metadata": {},
   "outputs": [],
   "source": [
    "res"
   ]
  },
  {
   "cell_type": "code",
   "execution_count": 43,
   "id": "c3059ce5",
   "metadata": {},
   "outputs": [
    {
     "data": {
      "text/plain": [
       "4"
      ]
     },
     "execution_count": 43,
     "metadata": {},
     "output_type": "execute_result"
    }
   ],
   "source": [
    "np.argmax(res[0])"
   ]
  },
  {
   "cell_type": "code",
   "execution_count": 44,
   "id": "b5530448",
   "metadata": {},
   "outputs": [
    {
     "data": {
      "text/plain": [
       "4"
      ]
     },
     "execution_count": 44,
     "metadata": {},
     "output_type": "execute_result"
    }
   ],
   "source": [
    "np.argmax(y_test[0])"
   ]
  },
  {
   "cell_type": "markdown",
   "id": "4f142721",
   "metadata": {},
   "source": [
    "# Save Model"
   ]
  },
  {
   "cell_type": "code",
   "execution_count": 46,
   "id": "7f87293d",
   "metadata": {},
   "outputs": [],
   "source": [
    "model.save('SLR.h5')"
   ]
  },
  {
   "cell_type": "markdown",
   "id": "72c19c07",
   "metadata": {},
   "source": [
    "# Load Model"
   ]
  },
  {
   "cell_type": "code",
   "execution_count": 23,
   "id": "081ced2d",
   "metadata": {},
   "outputs": [
    {
     "ename": "NameError",
     "evalue": "name 'createModel' is not defined",
     "output_type": "error",
     "traceback": [
      "\u001b[1;31m---------------------------------------------------------------------------\u001b[0m",
      "\u001b[1;31mNameError\u001b[0m                                 Traceback (most recent call last)",
      "Input \u001b[1;32mIn [23]\u001b[0m, in \u001b[0;36m<module>\u001b[1;34m\u001b[0m\n\u001b[1;32m----> 1\u001b[0m model\u001b[38;5;241m=\u001b[39m\u001b[43mcreateModel\u001b[49m()\n",
      "\u001b[1;31mNameError\u001b[0m: name 'createModel' is not defined"
     ]
    }
   ],
   "source": []
  },
  {
   "cell_type": "code",
   "execution_count": 4,
   "id": "57687f5d",
   "metadata": {},
   "outputs": [
    {
     "ename": "NameError",
     "evalue": "name 'model' is not defined",
     "output_type": "error",
     "traceback": [
      "\u001b[1;31m---------------------------------------------------------------------------\u001b[0m",
      "\u001b[1;31mNameError\u001b[0m                                 Traceback (most recent call last)",
      "Input \u001b[1;32mIn [4]\u001b[0m, in \u001b[0;36m<module>\u001b[1;34m\u001b[0m\n\u001b[1;32m----> 1\u001b[0m \u001b[43mmodel\u001b[49m\u001b[38;5;241m.\u001b[39mload_weights(\u001b[38;5;124m'\u001b[39m\u001b[38;5;124mSLR.h5\u001b[39m\u001b[38;5;124m'\u001b[39m)\n",
      "\u001b[1;31mNameError\u001b[0m: name 'model' is not defined"
     ]
    }
   ],
   "source": [
    "model.load_weights('SLR.h5')"
   ]
  },
  {
   "cell_type": "markdown",
   "id": "feea6fa2",
   "metadata": {},
   "source": [
    "# Evaluation using confusion matrix"
   ]
  },
  {
   "cell_type": "code",
   "execution_count": 47,
   "id": "cf12737f",
   "metadata": {},
   "outputs": [],
   "source": [
    "from sklearn.metrics import multilabel_confusion_matrix,confusion_matrix, accuracy_score"
   ]
  },
  {
   "cell_type": "code",
   "execution_count": 48,
   "id": "a30a9240",
   "metadata": {},
   "outputs": [],
   "source": [
    "true_labels=[]\n",
    "for label in y_test:\n",
    "    index=np.argmax(label)\n",
    "    true_labels.append(signs[index])"
   ]
  },
  {
   "cell_type": "code",
   "execution_count": 49,
   "id": "c2ca039d",
   "metadata": {},
   "outputs": [
    {
     "data": {
      "text/plain": [
       "['Hospital',\n",
       " 'Hungry',\n",
       " 'Hospital',\n",
       " 'Hello',\n",
       " 'Hungry',\n",
       " 'Thank You',\n",
       " 'Hello',\n",
       " 'Food',\n",
       " 'Food']"
      ]
     },
     "execution_count": 49,
     "metadata": {},
     "output_type": "execute_result"
    }
   ],
   "source": [
    "true_labels"
   ]
  },
  {
   "cell_type": "code",
   "execution_count": 50,
   "id": "3d4a1667",
   "metadata": {},
   "outputs": [],
   "source": [
    "y_predicted = model.predict(x_test)"
   ]
  },
  {
   "cell_type": "code",
   "execution_count": 51,
   "id": "b972116b",
   "metadata": {},
   "outputs": [],
   "source": [
    "predicted_labels=[]\n",
    "for label in y_predicted:\n",
    "    index=np.argmax(label)\n",
    "    predicted_labels.append(signs[index])"
   ]
  },
  {
   "cell_type": "code",
   "execution_count": 52,
   "id": "ba98dd02",
   "metadata": {},
   "outputs": [
    {
     "data": {
      "text/plain": [
       "['Hospital',\n",
       " 'Hungry',\n",
       " 'Thank You',\n",
       " 'Hello',\n",
       " 'Hospital',\n",
       " 'Thank You',\n",
       " 'Hello',\n",
       " 'Thank You',\n",
       " 'Food']"
      ]
     },
     "execution_count": 52,
     "metadata": {},
     "output_type": "execute_result"
    }
   ],
   "source": [
    "predicted_labels"
   ]
  },
  {
   "cell_type": "code",
   "execution_count": 53,
   "id": "aa6203e1",
   "metadata": {},
   "outputs": [],
   "source": [
    "y_true = np.argmax(y_test, axis=1).tolist()"
   ]
  },
  {
   "cell_type": "code",
   "execution_count": 54,
   "id": "e69ca117",
   "metadata": {},
   "outputs": [],
   "source": [
    "y_predicted=np.argmax(y_predicted,axis=1).tolist()"
   ]
  },
  {
   "cell_type": "code",
   "execution_count": 55,
   "id": "2d865b5b",
   "metadata": {},
   "outputs": [
    {
     "data": {
      "text/plain": [
       "[4, 2, 4, 0, 2, 1, 0, 3, 3]"
      ]
     },
     "execution_count": 55,
     "metadata": {},
     "output_type": "execute_result"
    }
   ],
   "source": [
    "y_true"
   ]
  },
  {
   "cell_type": "code",
   "execution_count": null,
   "id": "f229c77c",
   "metadata": {},
   "outputs": [
    {
     "data": {
      "text/plain": [
       "array([[0, 0, 0, 0, 1, 0],\n",
       "       [0, 0, 0, 0, 0, 1],\n",
       "       [0, 0, 0, 1, 0, 0],\n",
       "       [0, 0, 0, 1, 0, 0],\n",
       "       [0, 1, 0, 0, 0, 0],\n",
       "       [0, 0, 0, 0, 1, 0],\n",
       "       [1, 0, 0, 0, 0, 0],\n",
       "       [1, 0, 0, 0, 0, 0],\n",
       "       [1, 0, 0, 0, 0, 0],\n",
       "       [0, 1, 0, 0, 0, 0],\n",
       "       [1, 0, 0, 0, 0, 0],\n",
       "       [0, 0, 1, 0, 0, 0],\n",
       "       [1, 0, 0, 0, 0, 0]])"
      ]
     },
     "execution_count": 78,
     "metadata": {},
     "output_type": "execute_result"
    }
   ],
   "source": [
    "y_test"
   ]
  },
  {
   "cell_type": "code",
   "execution_count": null,
   "id": "789e96b4",
   "metadata": {},
   "outputs": [
    {
     "data": {
      "text/plain": [
       "(13, 6)"
      ]
     },
     "execution_count": 79,
     "metadata": {},
     "output_type": "execute_result"
    }
   ],
   "source": [
    "y_test.shape"
   ]
  },
  {
   "cell_type": "code",
   "execution_count": null,
   "id": "3d769ea3",
   "metadata": {},
   "outputs": [
    {
     "data": {
      "text/plain": [
       "[4, 5, 3, 3, 1, 4, 0, 0, 0, 1, 0, 2, 0]"
      ]
     },
     "execution_count": 80,
     "metadata": {},
     "output_type": "execute_result"
    }
   ],
   "source": [
    "y_predicted"
   ]
  },
  {
   "cell_type": "code",
   "execution_count": null,
   "id": "5a1fc4f4",
   "metadata": {},
   "outputs": [
    {
     "data": {
      "text/plain": [
       "array(['Hello', 'Thank You', 'Hungry', 'Food', 'Hospital', 'Washroom'],\n",
       "      dtype='<U9')"
      ]
     },
     "execution_count": 81,
     "metadata": {},
     "output_type": "execute_result"
    }
   ],
   "source": [
    "signs"
   ]
  },
  {
   "cell_type": "code",
   "execution_count": 56,
   "id": "39dd44bc",
   "metadata": {},
   "outputs": [
    {
     "data": {
      "text/plain": [
       "array([[[7, 0],\n",
       "        [0, 2]],\n",
       "\n",
       "       [[6, 2],\n",
       "        [0, 1]],\n",
       "\n",
       "       [[7, 0],\n",
       "        [1, 1]],\n",
       "\n",
       "       [[7, 0],\n",
       "        [1, 1]],\n",
       "\n",
       "       [[6, 1],\n",
       "        [1, 1]],\n",
       "\n",
       "       [[9, 0],\n",
       "        [0, 0]]], dtype=int64)"
      ]
     },
     "execution_count": 56,
     "metadata": {},
     "output_type": "execute_result"
    }
   ],
   "source": [
    "multilabel_confusion_matrix(true_labels, predicted_labels,labels=signs)"
   ]
  },
  {
   "cell_type": "code",
   "execution_count": 57,
   "id": "ec74c3c6",
   "metadata": {},
   "outputs": [
    {
     "data": {
      "text/plain": [
       "array([[2, 0, 0, 0, 0],\n",
       "       [0, 1, 0, 0, 0],\n",
       "       [0, 0, 1, 0, 1],\n",
       "       [0, 1, 0, 1, 0],\n",
       "       [0, 1, 0, 0, 1]], dtype=int64)"
      ]
     },
     "execution_count": 57,
     "metadata": {},
     "output_type": "execute_result"
    }
   ],
   "source": [
    "confusion_matrix(y_true, y_predicted)"
   ]
  },
  {
   "cell_type": "code",
   "execution_count": 58,
   "id": "d125b1d4",
   "metadata": {},
   "outputs": [
    {
     "data": {
      "text/plain": [
       "0.6666666666666666"
      ]
     },
     "execution_count": 58,
     "metadata": {},
     "output_type": "execute_result"
    }
   ],
   "source": [
    "accuracy_score(y_true,y_predicted)"
   ]
  },
  {
   "cell_type": "code",
   "execution_count": null,
   "id": "e0b399c0",
   "metadata": {},
   "outputs": [
    {
     "data": {
      "text/plain": [
       "[[0, 0, 0, 0, 1, 0],\n",
       " [0, 0, 0, 0, 0, 1],\n",
       " [0, 0, 0, 1, 0, 0],\n",
       " [0, 0, 0, 1, 0, 0],\n",
       " [0, 1, 0, 0, 0, 0],\n",
       " [0, 0, 0, 0, 1, 0],\n",
       " [1, 0, 0, 0, 0, 0],\n",
       " [1, 0, 0, 0, 0, 0],\n",
       " [1, 0, 0, 0, 0, 0],\n",
       " [0, 1, 0, 0, 0, 0],\n",
       " [1, 0, 0, 0, 0, 0],\n",
       " [0, 0, 1, 0, 0, 0],\n",
       " [1, 0, 0, 0, 0, 0]]"
      ]
     },
     "execution_count": 85,
     "metadata": {},
     "output_type": "execute_result"
    }
   ],
   "source": [
    "y_test.tolist()"
   ]
  },
  {
   "cell_type": "code",
   "execution_count": 59,
   "id": "a67867c9",
   "metadata": {
    "scrolled": true
   },
   "outputs": [
    {
     "data": {
      "text/plain": [
       "[('Hospital', 'Hospital'),\n",
       " ('Hungry', 'Hungry'),\n",
       " ('Hospital', 'Thank You'),\n",
       " ('Hello', 'Hello'),\n",
       " ('Hungry', 'Hospital'),\n",
       " ('Thank You', 'Thank You'),\n",
       " ('Hello', 'Hello'),\n",
       " ('Food', 'Thank You'),\n",
       " ('Food', 'Food')]"
      ]
     },
     "execution_count": 59,
     "metadata": {},
     "output_type": "execute_result"
    }
   ],
   "source": [
    "list(zip(true_labels, predicted_labels))"
   ]
  },
  {
   "cell_type": "code",
   "execution_count": 5,
   "id": "d823694d",
   "metadata": {},
   "outputs": [
    {
     "ename": "FileNotFoundError",
     "evalue": "[Errno 2] No such file or directory: 'Signs\\\\signs.npy'",
     "output_type": "error",
     "traceback": [
      "\u001b[1;31m---------------------------------------------------------------------------\u001b[0m",
      "\u001b[1;31mFileNotFoundError\u001b[0m                         Traceback (most recent call last)",
      "Input \u001b[1;32mIn [5]\u001b[0m, in \u001b[0;36m<module>\u001b[1;34m\u001b[0m\n\u001b[0;32m     31\u001b[0m signsPath\u001b[38;5;241m=\u001b[39mos\u001b[38;5;241m.\u001b[39mpath\u001b[38;5;241m.\u001b[39mjoin(\u001b[38;5;124m\"\u001b[39m\u001b[38;5;124mSigns\u001b[39m\u001b[38;5;124m\"\u001b[39m)\n\u001b[0;32m     32\u001b[0m \u001b[38;5;66;03m# x_test=np.load(os.path.join(testDatasPath,'x_test.npy'))\u001b[39;00m\n\u001b[0;32m     33\u001b[0m \u001b[38;5;66;03m# y_test=np.load(os.path.join(testDatasPath,'y_test.npy'))\u001b[39;00m\n\u001b[1;32m---> 34\u001b[0m signs\u001b[38;5;241m=\u001b[39m\u001b[43mnp\u001b[49m\u001b[38;5;241;43m.\u001b[39;49m\u001b[43mload\u001b[49m\u001b[43m(\u001b[49m\u001b[43mos\u001b[49m\u001b[38;5;241;43m.\u001b[39;49m\u001b[43mpath\u001b[49m\u001b[38;5;241;43m.\u001b[39;49m\u001b[43mjoin\u001b[49m\u001b[43m(\u001b[49m\u001b[43msignsPath\u001b[49m\u001b[43m,\u001b[49m\u001b[38;5;124;43m'\u001b[39;49m\u001b[38;5;124;43msigns.npy\u001b[39;49m\u001b[38;5;124;43m'\u001b[39;49m\u001b[43m)\u001b[49m\u001b[43m)\u001b[49m\n\u001b[0;32m     38\u001b[0m \u001b[38;5;66;03m#load model\u001b[39;00m\n\u001b[0;32m     39\u001b[0m model \u001b[38;5;241m=\u001b[39m Sequential()\n",
      "File \u001b[1;32m~\\AppData\\Local\\Programs\\Python\\Python39\\lib\\site-packages\\numpy\\lib\\npyio.py:407\u001b[0m, in \u001b[0;36mload\u001b[1;34m(file, mmap_mode, allow_pickle, fix_imports, encoding)\u001b[0m\n\u001b[0;32m    405\u001b[0m     own_fid \u001b[38;5;241m=\u001b[39m \u001b[38;5;28;01mFalse\u001b[39;00m\n\u001b[0;32m    406\u001b[0m \u001b[38;5;28;01melse\u001b[39;00m:\n\u001b[1;32m--> 407\u001b[0m     fid \u001b[38;5;241m=\u001b[39m stack\u001b[38;5;241m.\u001b[39menter_context(\u001b[38;5;28;43mopen\u001b[39;49m\u001b[43m(\u001b[49m\u001b[43mos_fspath\u001b[49m\u001b[43m(\u001b[49m\u001b[43mfile\u001b[49m\u001b[43m)\u001b[49m\u001b[43m,\u001b[49m\u001b[43m \u001b[49m\u001b[38;5;124;43m\"\u001b[39;49m\u001b[38;5;124;43mrb\u001b[39;49m\u001b[38;5;124;43m\"\u001b[39;49m\u001b[43m)\u001b[49m)\n\u001b[0;32m    408\u001b[0m     own_fid \u001b[38;5;241m=\u001b[39m \u001b[38;5;28;01mTrue\u001b[39;00m\n\u001b[0;32m    410\u001b[0m \u001b[38;5;66;03m# Code to distinguish from NumPy binary files and pickles.\u001b[39;00m\n",
      "\u001b[1;31mFileNotFoundError\u001b[0m: [Errno 2] No such file or directory: 'Signs\\\\signs.npy'"
     ]
    }
   ],
   "source": [
    "\n",
    "from tensorflow.keras.models import Sequential\n",
    "from tensorflow.keras.layers import LSTM, Dense\n",
    "import numpy as np\n",
    "import os,cv2\n",
    "import mediapipe as mp\n",
    "import time\n",
    "\n",
    "mpHolistic=mp.solutions.holistic\n",
    "mpDraw=mp.solutions.drawing_utils\n",
    "vid=cv2.VideoCapture(0)\n",
    "sequenceLength=30\n",
    "\n",
    "#draw landmarks in image\n",
    "def drawLandmarks():\n",
    "    mpDraw.draw_landmarks(img,results.face_landmarks,mpHolistic.FACEMESH_CONTOURS,mpDraw.DrawingSpec(color=(80, 110, 10), thickness=1, circle_radius=1),mpDraw.DrawingSpec(color=(80, 256, 121), thickness=2, circle_radius=2))\n",
    "    mpDraw.draw_landmarks(img,results.pose_landmarks,mpHolistic.POSE_CONNECTIONS,mpDraw.DrawingSpec(color=(80, 22, 10), thickness=1, circle_radius=1),mpDraw.DrawingSpec(color=(80, 44, 121), thickness=2, circle_radius=2))\n",
    "    mpDraw.draw_landmarks(img,results.left_hand_landmarks,mpHolistic.HAND_CONNECTIONS,mpDraw.DrawingSpec(color=(121, 22, 90), thickness=1, circle_radius=1),mpDraw.DrawingSpec(color=(255, 100, 112), thickness=2, circle_radius=2))\n",
    "    mpDraw.draw_landmarks(img,results.right_hand_landmarks,mpHolistic.HAND_CONNECTIONS,mpDraw.DrawingSpec(color=(250, 80, 10), thickness=1, circle_radius=1),mpDraw.DrawingSpec(color=(200, 50, 250), thickness=2, circle_radius=2))\n",
    "\n",
    "\n",
    "#extract keypoints from image\n",
    "def extractKeypoints():\n",
    "    face=np.array([[res.x,res.y,res.z] for res in results.face_landmarks.landmark]).flatten()if results.face_landmarks else np.zeros(468*3)\n",
    "    leftHand=np.array([[res.x,res.y,res.z] for res in results.left_hand_landmarks.landmark]).flatten()if results.left_hand_landmarks else np.zeros(21*3)\n",
    "    rightHand=np.array([[res.x,res.y,res.z] for res in results.right_hand_landmarks.landmark]).flatten()if results.right_hand_landmarks else np.zeros(21*3)\n",
    "    pose=np.array([[res.x,res.y,res.z,res.visibility] for res in results.pose_landmarks.landmark]).flatten()if results.pose_landmarks else np.zeros(33*4)\n",
    "    return np.concatenate([face,leftHand,rightHand,pose])\n",
    "\n",
    "#load signs, x_test, y_test\n",
    "# testDatasPath=os.path.join(\"Test_Datas\")\n",
    "signsPath=os.path.join(\"Signs\")\n",
    "# x_test=np.load(os.path.join(testDatasPath,'x_test.npy'))\n",
    "# y_test=np.load(os.path.join(testDatasPath,'y_test.npy'))\n",
    "signs=np.load(os.path.join(signsPath,'signs.npy'))\n",
    "\n",
    "\n",
    "\n",
    "#load model\n",
    "model = Sequential()\n",
    "model.add(LSTM(64, return_sequences=True, activation='relu', input_shape=(30,1662)))  # 128\n",
    "model.add(LSTM(128, return_sequences=True, activation='relu'))  # 64\n",
    "model.add(LSTM(64, return_sequences=False, activation='relu'))  # 64\n",
    "model.add(Dense(64, activation='relu'))\n",
    "model.add(Dense(32, activation='relu'))\n",
    "# model.add(Dense(16, activation='relu'))\n",
    "model.add(Dense(signs.shape[0], activation='softmax'))\n",
    "model.load_weights('SLR.h5')\n",
    "print(model.summary())\n",
    "# real time testing\n",
    "sequence=[]\n",
    "sentence=[]\n",
    "predictions = []\n",
    "threshold=0.5\n",
    "prediction_duration=[]\n",
    "start_time=0.0\n",
    "end_time=0.0\n",
    "start_timer=True\n",
    "\n",
    "dummy_arr=np.zeros([10,1662],dtype=float)\n",
    "\n",
    "dummy_lst=[]\n",
    "\n",
    "for e in dummy_arr:\n",
    "    dummy_lst.append(list(e))\n",
    "\n",
    "# ['Hello' 'Thank You' 'Hungry' 'Food' 'Hospital' 'Washroom']\n",
    "def get_threshold(index):\n",
    "    switcher = {\n",
    "        0: 1.0, # for Hello\n",
    "        1: 0.5,  # for Thank You\n",
    "        2: 0.5,  # for Hungry\n",
    "        3: 0.02,  # for Food\n",
    "        4: 0.3,  # for Hospital\n",
    "        5: 0.3   # for Washroom\n",
    "    } \n",
    "    return switcher.get(index)\n",
    "\n",
    "\n",
    "with mpHolistic.Holistic(min_detection_confidence=0.5, min_tracking_confidence=0.5) as holistic:\n",
    "                     \n",
    "    #checking camera is opened or not and taking data    \n",
    "    while vid.isOpened():\n",
    "        if start_timer:\n",
    "            start_time=time.time()\n",
    "        #checks for user input to close the windows                \n",
    "        key=cv2.waitKey(1)                  \n",
    "        success,img=vid.read()\n",
    "        \n",
    "        #checking if data is accessed or not from camera\n",
    "        if not success:\n",
    "            break  \n",
    "\n",
    "        img=cv2.cvtColor(img,cv2.COLOR_BGR2RGB)\n",
    "        # img.flags.writeable=False\n",
    "        results=holistic.process(img) \n",
    "        # img.flags.writeable=True     \n",
    "        img=cv2.cvtColor(img,cv2.COLOR_RGB2BGR)\n",
    "\n",
    "        #draws landmarks\n",
    "        drawLandmarks()\n",
    "\n",
    "        #starts collecting datas    \n",
    "        keypoints=extractKeypoints() \n",
    "\n",
    "        #appending to sequence list \n",
    "        sequence.append(keypoints)\n",
    "        print(len(sequence))\n",
    "        sequence = sequence[-30:]\n",
    "        if len(sequence)==30:\n",
    "            #prediction   \n",
    "            # print(np.array(sequence).shape)\n",
    "            # print(np.expand_dims(sequence, axis=0).shape)\n",
    "            # temp_sequence=sequence\n",
    "            # temp_sequence.append(dummy_lst)\n",
    "            res=model.predict(np.expand_dims(sequence, axis=0))[0]\n",
    "            print(res)\n",
    "            predictions.append(np.argmax(res))\n",
    "            \n",
    "            #res=[1.0 if x>1 else x for x in res ] \n",
    "            # print(res)\n",
    "            print(signs[np.argmax(res)])\n",
    "            # threshold_val=get_threshold(np.argmax(res))\n",
    "            if np.unique(predictions[-20:])[0]==np.argmax(res): \n",
    "                \n",
    "                print(predictions[-20:])\n",
    "                if res[np.argmax(res)] > threshold:\n",
    "                     \n",
    "\n",
    "                    if len(sentence) > 0: \n",
    "                        if signs[np.argmax(res)] != sentence[-1]:\n",
    "                            sentence.append(signs[np.argmax(res)])\n",
    "                            start_timer=True\n",
    "                            end_time=time.time()\n",
    "                            prediction_duration.append([signs[predictions[-1]],round(end_time-start_time,2)])\n",
    "\n",
    "                        else:\n",
    "                            start_timer=False    \n",
    "                            \n",
    "                    else:\n",
    "                        end_time=time.time()\n",
    "                        prediction_duration.append([signs[predictions[-1]],round(end_time-start_time,2)])\n",
    "                        sentence.append(signs[np.argmax(res)])\n",
    "                        start_timer=True\n",
    "            else:\n",
    "                start_timer=False\n",
    "        if len(sentence) > 5: \n",
    "            sentence =[]\n",
    "            # cv2.putText('Collecting Datas',\"Select label: \", (10,50),cv2.FONT_HERSHEY_SIMPLEX, 0.8, (255, 0, 0), 1, cv2.LINE_AA) \n",
    "            # cv2.imshow('Collecting Datas', img)\n",
    "        \n",
    "        cv2.rectangle(img, (0,0), (640, 40), (245, 117, 16), -1)     \n",
    "        cv2.putText(img,' '.join(sentence), (10,25),cv2.FONT_HERSHEY_SIMPLEX, 0.8, (255, 255, 255), 2, cv2.LINE_AA) \n",
    "        cv2.imshow('SLR',img)\n",
    "    \n",
    "            \n",
    "        if key == 27 : #press esc to close the window\n",
    "            break   \n",
    "            \n",
    "#releasing the port            \n",
    "vid.release() \n",
    "\n",
    "#destroying all opened windows using opencv\n",
    "cv2.destroyAllWindows()\n",
    "\n",
    "print(prediction_duration)"
   ]
  },
  {
   "cell_type": "code",
   "execution_count": 1,
   "id": "c12b1fbf",
   "metadata": {},
   "outputs": [
    {
     "ename": "FileNotFoundError",
     "evalue": "[Errno 2] No such file or directory: 'Signs\\\\signs.npy'",
     "output_type": "error",
     "traceback": [
      "\u001b[1;31m---------------------------------------------------------------------------\u001b[0m",
      "\u001b[1;31mFileNotFoundError\u001b[0m                         Traceback (most recent call last)",
      "Input \u001b[1;32mIn [1]\u001b[0m, in \u001b[0;36m<module>\u001b[1;34m\u001b[0m\n\u001b[0;32m     31\u001b[0m signsPath\u001b[38;5;241m=\u001b[39mos\u001b[38;5;241m.\u001b[39mpath\u001b[38;5;241m.\u001b[39mjoin(\u001b[38;5;124m\"\u001b[39m\u001b[38;5;124mSigns\u001b[39m\u001b[38;5;124m\"\u001b[39m)\n\u001b[0;32m     32\u001b[0m \u001b[38;5;66;03m# x_test=np.load(os.path.join(testDatasPath,'x_test.npy'))\u001b[39;00m\n\u001b[0;32m     33\u001b[0m \u001b[38;5;66;03m# y_test=np.load(os.path.join(testDatasPath,'y_test.npy'))\u001b[39;00m\n\u001b[1;32m---> 34\u001b[0m signs\u001b[38;5;241m=\u001b[39m\u001b[43mnp\u001b[49m\u001b[38;5;241;43m.\u001b[39;49m\u001b[43mload\u001b[49m\u001b[43m(\u001b[49m\u001b[43mos\u001b[49m\u001b[38;5;241;43m.\u001b[39;49m\u001b[43mpath\u001b[49m\u001b[38;5;241;43m.\u001b[39;49m\u001b[43mjoin\u001b[49m\u001b[43m(\u001b[49m\u001b[43msignsPath\u001b[49m\u001b[43m,\u001b[49m\u001b[38;5;124;43m'\u001b[39;49m\u001b[38;5;124;43msigns.npy\u001b[39;49m\u001b[38;5;124;43m'\u001b[39;49m\u001b[43m)\u001b[49m\u001b[43m)\u001b[49m\n\u001b[0;32m     38\u001b[0m \u001b[38;5;66;03m#load model\u001b[39;00m\n\u001b[0;32m     39\u001b[0m model \u001b[38;5;241m=\u001b[39m Sequential()\n",
      "File \u001b[1;32m~\\AppData\\Local\\Programs\\Python\\Python39\\lib\\site-packages\\numpy\\lib\\npyio.py:407\u001b[0m, in \u001b[0;36mload\u001b[1;34m(file, mmap_mode, allow_pickle, fix_imports, encoding)\u001b[0m\n\u001b[0;32m    405\u001b[0m     own_fid \u001b[38;5;241m=\u001b[39m \u001b[38;5;28;01mFalse\u001b[39;00m\n\u001b[0;32m    406\u001b[0m \u001b[38;5;28;01melse\u001b[39;00m:\n\u001b[1;32m--> 407\u001b[0m     fid \u001b[38;5;241m=\u001b[39m stack\u001b[38;5;241m.\u001b[39menter_context(\u001b[38;5;28;43mopen\u001b[39;49m\u001b[43m(\u001b[49m\u001b[43mos_fspath\u001b[49m\u001b[43m(\u001b[49m\u001b[43mfile\u001b[49m\u001b[43m)\u001b[49m\u001b[43m,\u001b[49m\u001b[43m \u001b[49m\u001b[38;5;124;43m\"\u001b[39;49m\u001b[38;5;124;43mrb\u001b[39;49m\u001b[38;5;124;43m\"\u001b[39;49m\u001b[43m)\u001b[49m)\n\u001b[0;32m    408\u001b[0m     own_fid \u001b[38;5;241m=\u001b[39m \u001b[38;5;28;01mTrue\u001b[39;00m\n\u001b[0;32m    410\u001b[0m \u001b[38;5;66;03m# Code to distinguish from NumPy binary files and pickles.\u001b[39;00m\n",
      "\u001b[1;31mFileNotFoundError\u001b[0m: [Errno 2] No such file or directory: 'Signs\\\\signs.npy'"
     ]
    }
   ],
   "source": [
    "\n",
    "from tensorflow.keras.models import Sequential\n",
    "from tensorflow.keras.layers import LSTM, Dense\n",
    "import numpy as np\n",
    "import os,cv2\n",
    "import mediapipe as mp\n",
    "import time\n",
    "\n",
    "mpHolistic=mp.solutions.holistic\n",
    "mpDraw=mp.solutions.drawing_utils\n",
    "vid=cv2.VideoCapture(0)\n",
    "sequenceLength=30\n",
    "\n",
    "#draw landmarks in image\n",
    "def drawLandmarks():\n",
    "    mpDraw.draw_landmarks(img,results.face_landmarks,mpHolistic.FACEMESH_CONTOURS,mpDraw.DrawingSpec(color=(80, 110, 10), thickness=1, circle_radius=1),mpDraw.DrawingSpec(color=(80, 256, 121), thickness=2, circle_radius=2))\n",
    "    mpDraw.draw_landmarks(img,results.pose_landmarks,mpHolistic.POSE_CONNECTIONS,mpDraw.DrawingSpec(color=(80, 22, 10), thickness=1, circle_radius=1),mpDraw.DrawingSpec(color=(80, 44, 121), thickness=2, circle_radius=2))\n",
    "    mpDraw.draw_landmarks(img,results.left_hand_landmarks,mpHolistic.HAND_CONNECTIONS,mpDraw.DrawingSpec(color=(121, 22, 90), thickness=1, circle_radius=1),mpDraw.DrawingSpec(color=(255, 100, 112), thickness=2, circle_radius=2))\n",
    "    mpDraw.draw_landmarks(img,results.right_hand_landmarks,mpHolistic.HAND_CONNECTIONS,mpDraw.DrawingSpec(color=(250, 80, 10), thickness=1, circle_radius=1),mpDraw.DrawingSpec(color=(200, 50, 250), thickness=2, circle_radius=2))\n",
    "\n",
    "\n",
    "#extract keypoints from image\n",
    "def extractKeypoints():\n",
    "    face=np.array([[res.x,res.y,res.z] for res in results.face_landmarks.landmark]).flatten()if results.face_landmarks else np.zeros(468*3)\n",
    "    leftHand=np.array([[res.x,res.y,res.z] for res in results.left_hand_landmarks.landmark]).flatten()if results.left_hand_landmarks else np.zeros(21*3)\n",
    "    rightHand=np.array([[res.x,res.y,res.z] for res in results.right_hand_landmarks.landmark]).flatten()if results.right_hand_landmarks else np.zeros(21*3)\n",
    "    pose=np.array([[res.x,res.y,res.z,res.visibility] for res in results.pose_landmarks.landmark]).flatten()if results.pose_landmarks else np.zeros(33*4)\n",
    "    return np.concatenate([face,leftHand,rightHand,pose])\n",
    "\n",
    "#load signs, x_test, y_test\n",
    "# testDatasPath=os.path.join(\"Test_Datas\")\n",
    "signsPath=os.path.join(\"Signs\")\n",
    "# x_test=np.load(os.path.join(testDatasPath,'x_test.npy'))\n",
    "# y_test=np.load(os.path.join(testDatasPath,'y_test.npy'))\n",
    "signs=np.load(os.path.join(signsPath,'signs.npy'))\n",
    "\n",
    "\n",
    "\n",
    "#load model\n",
    "model = Sequential()\n",
    "model.add(LSTM(64, return_sequences=True, activation='relu', input_shape=(30,1662)))  # 128\n",
    "model.add(LSTM(128, return_sequences=True, activation='relu'))  # 64\n",
    "model.add(LSTM(64, return_sequences=False, activation='relu'))  # 64\n",
    "model.add(Dense(64, activation='relu'))\n",
    "model.add(Dense(32, activation='relu'))\n",
    "# model.add(Dense(16, activation='relu'))\n",
    "model.add(Dense(signs.shape[0], activation='softmax'))\n",
    "model.load_weights('SLR.h5')\n",
    "print(model.summary())\n",
    "# real time testing\n",
    "sequence=[]\n",
    "sentence=[]\n",
    "predictions = []\n",
    "threshold=0.5\n",
    "prediction_duration=[]\n",
    "start_time=0.0\n",
    "end_time=0.0\n",
    "start_timer=True\n",
    "\n",
    "dummy_arr=np.zeros([10,1662],dtype=float)\n",
    "\n",
    "dummy_lst=[]\n",
    "\n",
    "for e in dummy_arr:\n",
    "    dummy_lst.append(list(e))\n",
    "\n",
    "# ['Hello' 'Thank You' 'Hungry' 'Food' 'Hospital' 'Washroom']\n",
    "def get_threshold(index):\n",
    "    switcher = {\n",
    "        0: 1.0, # for Hello\n",
    "        1: 0.5,  # for Thank You\n",
    "        2: 0.5,  # for Hungry\n",
    "        3: 0.02,  # for Food\n",
    "        4: 0.3,  # for Hospital\n",
    "        5: 0.3   # for Washroom\n",
    "    } \n",
    "    return switcher.get(index)\n",
    "\n",
    "\n",
    "with mpHolistic.Holistic(min_detection_confidence=0.5, min_tracking_confidence=0.5) as holistic:\n",
    "                     \n",
    "    #checking camera is opened or not and taking data    \n",
    "    while vid.isOpened():\n",
    "        if start_timer:\n",
    "            start_time=time.time()\n",
    "        #checks for user input to close the windows                \n",
    "        key=cv2.waitKey(1)                  \n",
    "        success,img=vid.read()\n",
    "        \n",
    "        #checking if data is accessed or not from camera\n",
    "        if not success:\n",
    "            break  \n",
    "\n",
    "        img=cv2.cvtColor(img,cv2.COLOR_BGR2RGB)\n",
    "        # img.flags.writeable=False\n",
    "        results=holistic.process(img) \n",
    "        # img.flags.writeable=True     \n",
    "        img=cv2.cvtColor(img,cv2.COLOR_RGB2BGR)\n",
    "\n",
    "        #draws landmarks\n",
    "        drawLandmarks()\n",
    "\n",
    "        #starts collecting datas    \n",
    "        keypoints=extractKeypoints() \n",
    "\n",
    "        #appending to sequence list \n",
    "        sequence.append(keypoints)\n",
    "        print(len(sequence))\n",
    "        sequence = sequence[-30:]\n",
    "        if len(sequence)==30:\n",
    "            #prediction   \n",
    "            # print(np.array(sequence).shape)\n",
    "            # print(np.expand_dims(sequence, axis=0).shape)\n",
    "            # temp_sequence=sequence\n",
    "            # temp_sequence.append(dummy_lst)\n",
    "            res=model.predict(np.expand_dims(sequence, axis=0))[0]\n",
    "            print(res)\n",
    "            predictions.append(np.argmax(res))\n",
    "            \n",
    "            #res=[1.0 if x>1 else x for x in res ] \n",
    "            # print(res)\n",
    "            print(signs[np.argmax(res)])\n",
    "            # threshold_val=get_threshold(np.argmax(res))\n",
    "            if np.unique(predictions[-20:])[0]==np.argmax(res): \n",
    "                \n",
    "                print(predictions[-20:])\n",
    "                if res[np.argmax(res)] > threshold:\n",
    "                     \n",
    "\n",
    "                    if len(sentence) > 0: \n",
    "                        if signs[np.argmax(res)] != sentence[-1]:\n",
    "                            sentence.append(signs[np.argmax(res)])\n",
    "                            start_timer=True\n",
    "                            end_time=time.time()\n",
    "                            prediction_duration.append([signs[predictions[-1]],round(end_time-start_time,2)])\n",
    "\n",
    "                        else:\n",
    "                            start_timer=False    \n",
    "                            \n",
    "                    else:\n",
    "                        end_time=time.time()\n",
    "                        prediction_duration.append([signs[predictions[-1]],round(end_time-start_time,2)])\n",
    "                        sentence.append(signs[np.argmax(res)])\n",
    "                        start_timer=True\n",
    "            else:\n",
    "                start_timer=False\n",
    "        if len(sentence) > 5: \n",
    "            sentence =[]\n",
    "            # cv2.putText('Collecting Datas',\"Select label: \", (10,50),cv2.FONT_HERSHEY_SIMPLEX, 0.8, (255, 0, 0), 1, cv2.LINE_AA) \n",
    "            # cv2.imshow('Collecting Datas', img)\n",
    "        \n",
    "        cv2.rectangle(img, (0,0), (640, 40), (245, 117, 16), -1)     \n",
    "        cv2.putText(img,' '.join(sentence), (10,25),cv2.FONT_HERSHEY_SIMPLEX, 0.8, (255, 255, 255), 2, cv2.LINE_AA) \n",
    "        cv2.imshow('SLR',img)\n",
    "    \n",
    "            \n",
    "        if key == 27 : #press esc to close the window\n",
    "            break   \n",
    "            \n",
    "#releasing the port            \n",
    "vid.release() \n",
    "\n",
    "#destroying all opened windows using opencv\n",
    "cv2.destroyAllWindows()\n",
    "\n",
    "print(prediction_duration)"
   ]
  },
  {
   "cell_type": "code",
   "execution_count": null,
   "id": "fad5275d",
   "metadata": {},
   "outputs": [],
   "source": []
  }
 ],
 "metadata": {
  "kernelspec": {
   "display_name": "Python 3 (ipykernel)",
   "language": "python",
   "name": "python3"
  },
  "language_info": {
   "codemirror_mode": {
    "name": "ipython",
    "version": 3
   },
   "file_extension": ".py",
   "mimetype": "text/x-python",
   "name": "python",
   "nbconvert_exporter": "python",
   "pygments_lexer": "ipython3",
   "version": "3.9.10"
  }
 },
 "nbformat": 4,
 "nbformat_minor": 5
}
