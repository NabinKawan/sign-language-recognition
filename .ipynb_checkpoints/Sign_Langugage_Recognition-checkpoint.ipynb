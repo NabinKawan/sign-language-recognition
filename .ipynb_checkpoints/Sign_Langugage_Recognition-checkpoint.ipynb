{
 "cells": [
  {
   "cell_type": "code",
   "execution_count": 4,
   "id": "6c526e65",
   "metadata": {},
   "outputs": [],
   "source": [
    "import cv2\n",
    "import mediapipe as mp\n",
    "import numpy as np\n",
    "import os"
   ]
  },
  {
   "cell_type": "code",
   "execution_count": 2,
   "id": "e6eb3efe",
   "metadata": {},
   "outputs": [],
   "source": [
    "mpHolistic=mp.solutions.holistic\n",
    "mpDraw=mp.solutions.drawing_utils"
   ]
  },
  {
   "cell_type": "code",
   "execution_count": 5,
   "id": "86374235",
   "metadata": {},
   "outputs": [],
   "source": [
    "#draw landmarks in image\n",
    "def drawLandmarks():\n",
    "    mpDraw.draw_landmarks(img,results.face_landmarks,mpHolistic.FACEMESH_CONTOURS,mpDraw.DrawingSpec(color=(80, 110, 10), thickness=1, circle_radius=1),mpDraw.DrawingSpec(color=(80, 256, 121), thickness=2, circle_radius=2))\n",
    "    mpDraw.draw_landmarks(img,results.pose_landmarks,mpHolistic.POSE_CONNECTIONS,mpDraw.DrawingSpec(color=(80, 22, 10), thickness=1, circle_radius=1),mpDraw.DrawingSpec(color=(80, 44, 121), thickness=2, circle_radius=2))\n",
    "    mpDraw.draw_landmarks(img,results.left_hand_landmarks,mpHolistic.HAND_CONNECTIONS,mpDraw.DrawingSpec(color=(121, 22, 90), thickness=1, circle_radius=1),mpDraw.DrawingSpec(color=(255, 100, 112), thickness=2, circle_radius=2))\n",
    "    mpDraw.draw_landmarks(img,results.right_hand_landmarks,mpHolistic.HAND_CONNECTIONS,mpDraw.DrawingSpec(color=(250, 80, 10), thickness=1, circle_radius=1),mpDraw.DrawingSpec(color=(200, 50, 250), thickness=2, circle_radius=2))"
   ]
  },
  {
   "cell_type": "code",
   "execution_count": 6,
   "id": "2c123af4",
   "metadata": {},
   "outputs": [],
   "source": [
    "# extract keypoints of the features in image\n",
    "def extractKeypoints():\n",
    "    face=np.array([[res.x,res.y,res.z] for res in results.face_landmarks.landmark]).flatten()if results.face_landmarks else np.zeros(468*3)\n",
    "    leftHand=np.array([[res.x,res.y,res.z] for res in results.left_hand_landmarks.landmark]).flatten()if results.left_hand_landmarks else np.zeros(21*3)\n",
    "    rightHand=np.array([[res.x,res.y,res.z] for res in results.right_hand_landmarks.landmark]).flatten()if results.right_hand_landmarks else np.zeros(21*3)\n",
    "    pose=np.array([[res.x,res.y,res.z,res.visibility] for res in results.pose_landmarks.landmark]).flatten()if results.pose_landmarks else np.zeros(33*4)\n",
    "    return np.concatenate([face,leftHand,rightHand,pose])"
   ]
  },
  {
   "cell_type": "code",
   "execution_count": 5,
   "id": "b2539ec9",
   "metadata": {},
   "outputs": [
    {
     "data": {
      "text/plain": [
       "'Sign_Images'"
      ]
     },
     "execution_count": 5,
     "metadata": {},
     "output_type": "execute_result"
    }
   ],
   "source": [
    "os.path.join(\"Sign_Images\")"
   ]
  },
  {
   "cell_type": "code",
   "execution_count": 7,
   "id": "7deb8aec",
   "metadata": {},
   "outputs": [],
   "source": [
    "#path for flatten datas\n",
    "dataPath = os.path.join('Sign_Data')\n",
    "\n",
    "#path for images\n",
    "imgPath= os.path.join('Sign_Image')\n",
    "\n",
    "signs=np.array([\"Hello\",\"Food\",\"Washroom\"])\n",
    "\n",
    "#30 video of each sign\n",
    "numSequences=30\n",
    "\n",
    "#length of each video\n",
    "sequenceLength=30"
   ]
  },
  {
   "cell_type": "code",
   "execution_count": 8,
   "id": "fb43e464",
   "metadata": {},
   "outputs": [],
   "source": [
    "for sign in signs:\n",
    "    for sequence in range(numSequences):\n",
    "            try:\n",
    "                os.makedirs(os.path.join(dataPath,sign,str(sequence)))\n",
    "                os.makedirs(os.path.join(imgPath,sign,str(sequence)))\n",
    "            except:\n",
    "                pass\n",
    "# if not os.path.exists(\"Sign_Data\"):\n",
    "#     os.mkdir(\"Sign_Data\")\n",
    "# else:\n",
    "#     print(\"already exist\")\n"
   ]
  },
  {
   "cell_type": "code",
   "execution_count": 8,
   "id": "ac010925",
   "metadata": {},
   "outputs": [],
   "source": [
    "os.path??"
   ]
  },
  {
   "cell_type": "code",
   "execution_count": 9,
   "id": "bf83f17b",
   "metadata": {},
   "outputs": [],
   "source": [
    "# while True:\n",
    "#     inpt=input(print(\"Select which data are you collecting:\\n0: Hello \\n1: Thank you\"))\n",
    "#     if inpt == '0' or inpt == '1':\n",
    "#         choice=signs[int(inpt)]\n",
    "#         break\n",
    "#     else:\n",
    "#         print(\"Invalid input, please select again!!\")\n",
    "# choice   "
   ]
  },
  {
   "cell_type": "code",
   "execution_count": 10,
   "id": "77bbca9f",
   "metadata": {},
   "outputs": [],
   "source": [
    "vid=cv2.VideoCapture(0)\n",
    "with mpHolistic.Holistic() as holistic:\n",
    "\n",
    "    #taking label input \n",
    "     while True:\n",
    "        blankImg = np.zeros(shape=[512, 512, 3], dtype=np.uint8)\n",
    "        cv2.putText(blankImg,\"Select label: \", (10,50),cv2.FONT_HERSHEY_SIMPLEX, 0.8, (255, 0, 0), 1, cv2.LINE_AA)\n",
    "        cv2.putText(blankImg,\"0: Hello , 1: Thank You\", (10,100),cv2.FONT_HERSHEY_SIMPLEX, 0.5, (0, 255, 0), 1, cv2.LINE_AA)\n",
    "        cv2.putText(blankImg,\"2: Hungry , 3: Food\", (10,150),cv2.FONT_HERSHEY_SIMPLEX, 0.5, (0, 255, 0), 1, cv2.LINE_AA)\n",
    "        cv2.putText(blankImg,\"4: Hospital , 5: Washroom\", (10,200),cv2.FONT_HERSHEY_SIMPLEX, 0.5, (0, 255, 0), 1, cv2.LINE_AA)\n",
    "        cv2.putText(blankImg,\"'ESC' to escape\", (10,250),cv2.FONT_HERSHEY_SIMPLEX, 0.5, (0, 0, 255), 1, cv2.LINE_AA)\n",
    "        cv2.imshow('Select label',blankImg)\n",
    "        inpt=cv2.waitKey(0)\n",
    "        if inpt == 48 or inpt == 49 or inpt == 50 or inpt == 51 or inpt == 52 or inpt == 53:\n",
    "            choice=signs[inpt-48]\n",
    "            cv2.destroyWindow('Select label')\n",
    "            break\n",
    "        else:\n",
    "            if inpt==27:\n",
    "                break\n",
    "            \n",
    "    #checking camera is opened or not and taking data    \n",
    "     while vid.isOpened() and inpt!=27 :\n",
    "        for sequence in range(numSequences):\n",
    "            for frameNum in range(sequenceLength+1):\n",
    "                #checks for user input to close the windows                \n",
    "                key=cv2.waitKey(1)                  \n",
    "                success,img=vid.read()\n",
    "                \n",
    "                #checking if data is accessed or not from camera\n",
    "                if not success:\n",
    "                    break  \n",
    "                img=cv2.cvtColor(img,cv2.COLOR_BGR2RGB)\n",
    "                # img.flags.writeable=False\n",
    "                results=holistic.process(img) \n",
    "                # img.flags.writeable=True     \n",
    "                img=cv2.cvtColor(img,cv2.COLOR_RGB2BGR)\n",
    "                \n",
    "                #draws landmarks\n",
    "                drawLandmarks()\n",
    "                \n",
    "                #show feed for collecting datas and delays for 2 sec\n",
    "                if frameNum == 0: \n",
    "                    cv2.putText(img, \"Press 'ESC' to escape\", (10,20),cv2.FONT_HERSHEY_SIMPLEX, 0.5, (0, 0, 255), 1, cv2.LINE_AA) \n",
    "                    cv2.putText(img, 'press any key to conitnue', (10,60), \n",
    "                               cv2.FONT_HERSHEY_SIMPLEX, 0.6, (255,0, 0), 1, cv2.LINE_AA)\n",
    "                    cv2.imshow('Collecting Datas', img)\n",
    "                    key= cv2.waitKey(0)\n",
    "                    cv2.waitKey(1000)\n",
    "                    \n",
    "                #starts collecting datas    \n",
    "                else: \n",
    "                    cv2.putText(img, f\"Collecting Data for '{choice}' Video Number {sequence}\", (15,20),cv2.FONT_HERSHEY_SIMPLEX, 0.5, (0, 0, 255), 1, cv2.LINE_AA) \n",
    "                    cv2.imshow('Collecting Datas', img)\n",
    "                    keypoints=extractKeypoints()  \n",
    "                    \n",
    "                    #saving flatten array to datapath\n",
    "                    np.save(os.path.join(dataPath,choice,str(sequence),str(frameNum-1)),keypoints)\n",
    "                    \n",
    "                    #saving image to image path\n",
    "                    jpgPath=os.path.join(imgPath,choice,str(sequence),str(frameNum-1))\n",
    "                    cv2.imwrite(f\"{jpgPath}.jpg\",img)\n",
    "                    key=2 #giving default value for key to avoid esc while taking data\n",
    "                \n",
    "                if key == 27 : #press esc to close the window\n",
    "                    break     \n",
    "\n",
    "            if key == 27 : #press esc to close the window\n",
    "                break        \n",
    "        if key == 27 : #press esc to close the window\n",
    "            break             \n",
    "            \n",
    "#releasing the port            \n",
    "vid.release() \n",
    "\n",
    "#destroying all opened windows using opencv\n",
    "cv2.destroyAllWindows()            "
   ]
  },
  {
   "cell_type": "markdown",
   "id": "4edce1ee",
   "metadata": {},
   "source": [
    "# Preprocess Data and Create Labels and Features"
   ]
  },
  {
   "cell_type": "code",
   "execution_count": 9,
   "id": "b53f2250",
   "metadata": {},
   "outputs": [],
   "source": [
    "from sklearn.model_selection import train_test_split\n",
    "from tensorflow.keras.utils import to_categorical"
   ]
  },
  {
   "cell_type": "code",
   "execution_count": 10,
   "id": "b58714ed",
   "metadata": {},
   "outputs": [],
   "source": [
    "label_map = {label:num for num, label in enumerate(signs)}"
   ]
  },
  {
   "cell_type": "code",
   "execution_count": 11,
   "id": "aa789dee",
   "metadata": {},
   "outputs": [
    {
     "data": {
      "text/plain": [
       "{'Hello': 0, 'Food': 1, 'Washroom': 2}"
      ]
     },
     "execution_count": 11,
     "metadata": {},
     "output_type": "execute_result"
    }
   ],
   "source": [
    "label_map"
   ]
  },
  {
   "cell_type": "code",
   "execution_count": 12,
   "id": "1af8e33d",
   "metadata": {},
   "outputs": [],
   "source": [
    "sequences, labels = [], []\n",
    "for sign in signs:\n",
    "    for sequence in range(numSequences):\n",
    "        window = []\n",
    "        for frameNum in range(sequenceLength):\n",
    "            res = np.load(os.path.join(dataPath, sign, str(sequence), \"{}.npy\".format(frameNum)))\n",
    "            window.append(res)\n",
    "        sequences.append(window)\n",
    "        labels.append(label_map[sign])"
   ]
  },
  {
   "cell_type": "code",
   "execution_count": 13,
   "id": "8088e81b",
   "metadata": {},
   "outputs": [
    {
     "data": {
      "text/plain": [
       "(90,)"
      ]
     },
     "execution_count": 13,
     "metadata": {},
     "output_type": "execute_result"
    }
   ],
   "source": [
    "np.array(labels).shape"
   ]
  },
  {
   "cell_type": "code",
   "execution_count": 14,
   "id": "ec0c5771",
   "metadata": {},
   "outputs": [
    {
     "data": {
      "text/plain": [
       "(90, 30, 1662)"
      ]
     },
     "execution_count": 14,
     "metadata": {},
     "output_type": "execute_result"
    }
   ],
   "source": [
    "np.array(sequences).shape"
   ]
  },
  {
   "cell_type": "code",
   "execution_count": 15,
   "id": "90d56a3e",
   "metadata": {},
   "outputs": [],
   "source": [
    "arr=np.array([[[1,2],[3,4],[5,6]],[[1,2],[3,4],[5,6]]])"
   ]
  },
  {
   "cell_type": "code",
   "execution_count": 16,
   "id": "3e5ea6d1",
   "metadata": {},
   "outputs": [
    {
     "data": {
      "text/plain": [
       "(2, 3, 2)"
      ]
     },
     "execution_count": 16,
     "metadata": {},
     "output_type": "execute_result"
    }
   ],
   "source": [
    "arr.shape"
   ]
  },
  {
   "cell_type": "code",
   "execution_count": 17,
   "id": "4b00c22c",
   "metadata": {},
   "outputs": [],
   "source": [
    "X = np.array(sequences)"
   ]
  },
  {
   "cell_type": "code",
   "execution_count": 18,
   "id": "4a1eb1ce",
   "metadata": {},
   "outputs": [
    {
     "data": {
      "text/plain": [
       "(90, 30, 1662)"
      ]
     },
     "execution_count": 18,
     "metadata": {},
     "output_type": "execute_result"
    }
   ],
   "source": [
    "X.shape"
   ]
  },
  {
   "cell_type": "code",
   "execution_count": 19,
   "id": "37b12529",
   "metadata": {},
   "outputs": [],
   "source": [
    "y = to_categorical(labels).astype(int)"
   ]
  },
  {
   "cell_type": "code",
   "execution_count": 20,
   "id": "1f2c8e9c",
   "metadata": {},
   "outputs": [
    {
     "data": {
      "text/plain": [
       "(90, 3)"
      ]
     },
     "execution_count": 20,
     "metadata": {},
     "output_type": "execute_result"
    }
   ],
   "source": [
    "y.shape"
   ]
  },
  {
   "cell_type": "code",
   "execution_count": null,
   "id": "4a7a24e3",
   "metadata": {},
   "outputs": [],
   "source": []
  },
  {
   "cell_type": "code",
   "execution_count": 21,
   "id": "4553ce7e",
   "metadata": {},
   "outputs": [],
   "source": [
    "X_train, X_test, y_train, y_test = train_test_split(X, y, test_size=0.1)"
   ]
  },
  {
   "cell_type": "code",
   "execution_count": 21,
   "id": "f9fe2fed",
   "metadata": {},
   "outputs": [
    {
     "data": {
      "text/plain": [
       "(9, 3)"
      ]
     },
     "execution_count": 21,
     "metadata": {},
     "output_type": "execute_result"
    }
   ],
   "source": [
    "y_test.shape"
   ]
  },
  {
   "cell_type": "markdown",
   "id": "e16e463d",
   "metadata": {},
   "source": [
    "# Save test datas and signs"
   ]
  },
  {
   "cell_type": "code",
   "execution_count": 22,
   "id": "5d8a8450",
   "metadata": {},
   "outputs": [],
   "source": [
    "testDatasPath=os.path.join(\"Test_Datas\")\n",
    "signsPath=os.path.join(\"Signs\")\n",
    "try:\n",
    "    os.makedirs(os.path.join(testDatasPath))\n",
    "    os.makedirs(os.path.join(signsPath))\n",
    "except:\n",
    "    pass\n",
    "np.save(os.path.join(testDatasPath,'x_test.npy'),X_test)\n",
    "np.save(os.path.join(testDatasPath,'y_test.npy'),y_test)\n",
    "np.save(os.path.join(signsPath,'signs.npy'),signs)"
   ]
  },
  {
   "cell_type": "markdown",
   "id": "76d27352",
   "metadata": {},
   "source": [
    "# Build and Train LSTM Neural Network"
   ]
  },
  {
   "cell_type": "code",
   "execution_count": 23,
   "id": "2e5b49ee",
   "metadata": {},
   "outputs": [],
   "source": [
    "from tensorflow.keras.models import Sequential\n",
    "from tensorflow.keras.layers import LSTM, Dense\n",
    "from tensorflow.keras.callbacks import TensorBoard"
   ]
  },
  {
   "cell_type": "code",
   "execution_count": 79,
   "id": "0dbaaefc",
   "metadata": {},
   "outputs": [],
   "source": [
    "def createModel():\n",
    "    model = Sequential()\n",
    "    model.add(LSTM(64, return_sequences=True, activation='relu', input_shape=(30,1662)))\n",
    "    model.add(LSTM(128, return_sequences=True, activation='relu'))\n",
    "    model.add(LSTM(64, return_sequences=False, activation='relu'))\n",
    "    model.add(Dense(64, activation='relu'))\n",
    "    model.add(Dense(32, activation='relu'))\n",
    "    model.add(Dense(signs.shape[0], activation='softmax'))\n",
    "    return model"
   ]
  },
  {
   "cell_type": "code",
   "execution_count": 80,
   "id": "9b0ed802",
   "metadata": {},
   "outputs": [],
   "source": [
    "model=createModel()"
   ]
  },
  {
   "cell_type": "code",
   "execution_count": 81,
   "id": "b1c22a3a",
   "metadata": {},
   "outputs": [],
   "source": [
    "res = [.7, 0.2, 0.1]"
   ]
  },
  {
   "cell_type": "code",
   "execution_count": 82,
   "id": "e48c007e",
   "metadata": {},
   "outputs": [
    {
     "data": {
      "text/plain": [
       "'Hello'"
      ]
     },
     "execution_count": 82,
     "metadata": {},
     "output_type": "execute_result"
    }
   ],
   "source": [
    "signs[np.argmax(res)]"
   ]
  },
  {
   "cell_type": "code",
   "execution_count": 83,
   "id": "d353295f",
   "metadata": {},
   "outputs": [],
   "source": [
    "model.compile(optimizer='Adam', loss='categorical_crossentropy', metrics=['categorical_accuracy'])"
   ]
  },
  {
   "cell_type": "code",
   "execution_count": 84,
   "id": "ff92e43b",
   "metadata": {},
   "outputs": [],
   "source": [
    "log_dir = os.path.join('Logs')\n",
    "tb_callback = TensorBoard(log_dir=log_dir)"
   ]
  },
  {
   "cell_type": "code",
   "execution_count": 85,
   "id": "ead1063c",
   "metadata": {},
   "outputs": [
    {
     "name": "stdout",
     "output_type": "stream",
     "text": [
      "Epoch 1/2000\n",
      "3/3 [==============================] - 5s 215ms/step - loss: 13.7361 - categorical_accuracy: 0.2469\n",
      "Epoch 2/2000\n",
      "3/3 [==============================] - 1s 198ms/step - loss: 85.0427 - categorical_accuracy: 0.3951\n",
      "Epoch 3/2000\n",
      "3/3 [==============================] - 1s 188ms/step - loss: 46.4979 - categorical_accuracy: 0.3457\n",
      "Epoch 4/2000\n",
      "3/3 [==============================] - 1s 199ms/step - loss: 57.7868 - categorical_accuracy: 0.4198\n",
      "Epoch 5/2000\n",
      "3/3 [==============================] - 1s 231ms/step - loss: 66.1208 - categorical_accuracy: 0.3333\n",
      "Epoch 6/2000\n",
      "3/3 [==============================] - 1s 229ms/step - loss: 47.1211 - categorical_accuracy: 0.3457\n",
      "Epoch 7/2000\n",
      "3/3 [==============================] - 1s 214ms/step - loss: 234.5405 - categorical_accuracy: 0.3704\n",
      "Epoch 8/2000\n",
      "3/3 [==============================] - 1s 290ms/step - loss: 114.2133 - categorical_accuracy: 0.2840\n",
      "Epoch 9/2000\n",
      "3/3 [==============================] - 1s 256ms/step - loss: 133.9644 - categorical_accuracy: 0.3457\n",
      "Epoch 10/2000\n",
      "3/3 [==============================] - 1s 229ms/step - loss: 70.8115 - categorical_accuracy: 0.4938\n",
      "Epoch 11/2000\n",
      "3/3 [==============================] - 1s 217ms/step - loss: 182.0849 - categorical_accuracy: 0.3580\n",
      "Epoch 12/2000\n",
      "3/3 [==============================] - 1s 217ms/step - loss: 319.9207 - categorical_accuracy: 0.3457\n",
      "Epoch 13/2000\n",
      "3/3 [==============================] - 1s 239ms/step - loss: 235.5766 - categorical_accuracy: 0.3580\n",
      "Epoch 14/2000\n",
      "3/3 [==============================] - 1s 219ms/step - loss: 183.5489 - categorical_accuracy: 0.2346\n",
      "Epoch 15/2000\n",
      "3/3 [==============================] - 1s 238ms/step - loss: 318.3407 - categorical_accuracy: 0.2840\n",
      "Epoch 16/2000\n",
      "3/3 [==============================] - 1s 243ms/step - loss: 419.7289 - categorical_accuracy: 0.3457\n",
      "Epoch 17/2000\n",
      "3/3 [==============================] - 1s 178ms/step - loss: 191.8444 - categorical_accuracy: 0.3333\n",
      "Epoch 18/2000\n",
      "3/3 [==============================] - 1s 185ms/step - loss: 67.9352 - categorical_accuracy: 0.3210\n",
      "Epoch 19/2000\n",
      "3/3 [==============================] - 1s 181ms/step - loss: 153.6086 - categorical_accuracy: 0.4074\n",
      "Epoch 20/2000\n",
      "3/3 [==============================] - 1s 205ms/step - loss: 115.8349 - categorical_accuracy: 0.3580\n",
      "Epoch 21/2000\n",
      "3/3 [==============================] - 1s 216ms/step - loss: 237.4030 - categorical_accuracy: 0.2593\n",
      "Epoch 22/2000\n",
      "3/3 [==============================] - 1s 221ms/step - loss: 252.8911 - categorical_accuracy: 0.3704\n",
      "Epoch 23/2000\n",
      "3/3 [==============================] - 1s 216ms/step - loss: 132.4064 - categorical_accuracy: 0.3210\n",
      "Epoch 24/2000\n",
      "3/3 [==============================] - 1s 216ms/step - loss: 104.9308 - categorical_accuracy: 0.3210\n",
      "Epoch 25/2000\n",
      "3/3 [==============================] - 1s 212ms/step - loss: 114.5091 - categorical_accuracy: 0.3210\n",
      "Epoch 26/2000\n",
      "3/3 [==============================] - 1s 230ms/step - loss: 149.1891 - categorical_accuracy: 0.4074\n",
      "Epoch 27/2000\n",
      "3/3 [==============================] - 1s 199ms/step - loss: 260.5273 - categorical_accuracy: 0.3210\n",
      "Epoch 28/2000\n",
      "3/3 [==============================] - 1s 219ms/step - loss: 148.3354 - categorical_accuracy: 0.3457\n",
      "Epoch 29/2000\n",
      "3/3 [==============================] - 1s 221ms/step - loss: 205.2972 - categorical_accuracy: 0.3333\n",
      "Epoch 30/2000\n",
      "3/3 [==============================] - 1s 239ms/step - loss: 167.2957 - categorical_accuracy: 0.3457\n",
      "Epoch 31/2000\n",
      "3/3 [==============================] - 1s 216ms/step - loss: 193.9610 - categorical_accuracy: 0.3457\n",
      "Epoch 32/2000\n",
      "3/3 [==============================] - 1s 223ms/step - loss: 129.5545 - categorical_accuracy: 0.2963\n",
      "Epoch 33/2000\n",
      "3/3 [==============================] - 1s 227ms/step - loss: 111.8849 - categorical_accuracy: 0.2222\n",
      "Epoch 34/2000\n",
      "3/3 [==============================] - 1s 267ms/step - loss: 60.3264 - categorical_accuracy: 0.3333\n",
      "Epoch 35/2000\n",
      "3/3 [==============================] - 1s 234ms/step - loss: 51.9833 - categorical_accuracy: 0.3333\n",
      "Epoch 36/2000\n",
      "3/3 [==============================] - 1s 231ms/step - loss: 24.8778 - categorical_accuracy: 0.3210\n",
      "Epoch 37/2000\n",
      "3/3 [==============================] - 1s 247ms/step - loss: 13.8182 - categorical_accuracy: 0.2840\n",
      "Epoch 38/2000\n",
      "3/3 [==============================] - 1s 251ms/step - loss: 8.2762 - categorical_accuracy: 0.1975\n",
      "Epoch 39/2000\n",
      "3/3 [==============================] - 1s 282ms/step - loss: 9.5347 - categorical_accuracy: 0.1728\n",
      "Epoch 40/2000\n",
      "3/3 [==============================] - 1s 245ms/step - loss: 7.3924 - categorical_accuracy: 0.3457\n",
      "Epoch 41/2000\n",
      "3/3 [==============================] - 1s 247ms/step - loss: 3.1023 - categorical_accuracy: 0.2346\n",
      "Epoch 42/2000\n",
      "3/3 [==============================] - 1s 266ms/step - loss: 3.1835 - categorical_accuracy: 0.3827\n",
      "Epoch 43/2000\n",
      "3/3 [==============================] - 1s 233ms/step - loss: 1.9324 - categorical_accuracy: 0.2840\n",
      "Epoch 44/2000\n",
      "3/3 [==============================] - 1s 225ms/step - loss: 1.8383 - categorical_accuracy: 0.3086\n",
      "Epoch 45/2000\n",
      "3/3 [==============================] - 1s 209ms/step - loss: 1.6285 - categorical_accuracy: 0.3333\n",
      "Epoch 46/2000\n",
      "3/3 [==============================] - 1s 234ms/step - loss: 1.6124 - categorical_accuracy: 0.3210\n",
      "Epoch 47/2000\n",
      "3/3 [==============================] - 1s 224ms/step - loss: 1.3526 - categorical_accuracy: 0.2222\n",
      "Epoch 48/2000\n",
      "3/3 [==============================] - 1s 250ms/step - loss: 1.4754 - categorical_accuracy: 0.3086\n",
      "Epoch 49/2000\n",
      "3/3 [==============================] - 1s 214ms/step - loss: 1.3144 - categorical_accuracy: 0.3086\n",
      "Epoch 50/2000\n",
      "3/3 [==============================] - 1s 238ms/step - loss: 1.3401 - categorical_accuracy: 0.4198\n",
      "Epoch 51/2000\n",
      "3/3 [==============================] - 1s 215ms/step - loss: 1.4537 - categorical_accuracy: 0.3086\n",
      "Epoch 52/2000\n",
      "3/3 [==============================] - 1s 264ms/step - loss: 1.2585 - categorical_accuracy: 0.2963\n",
      "Epoch 53/2000\n",
      "3/3 [==============================] - 1s 246ms/step - loss: 1.4273 - categorical_accuracy: 0.2222\n",
      "Epoch 54/2000\n",
      "3/3 [==============================] - 1s 228ms/step - loss: 1.2011 - categorical_accuracy: 0.2099\n",
      "Epoch 55/2000\n",
      "3/3 [==============================] - 1s 207ms/step - loss: 1.1828 - categorical_accuracy: 0.3580\n",
      "Epoch 56/2000\n",
      "3/3 [==============================] - 1s 249ms/step - loss: 1.4172 - categorical_accuracy: 0.3333\n",
      "Epoch 57/2000\n",
      "3/3 [==============================] - 1s 239ms/step - loss: 1.7714 - categorical_accuracy: 0.4321\n",
      "Epoch 58/2000\n",
      "3/3 [==============================] - 1s 198ms/step - loss: 2.2216 - categorical_accuracy: 0.3580\n",
      "Epoch 59/2000\n",
      "3/3 [==============================] - 1s 214ms/step - loss: 1.6758 - categorical_accuracy: 0.4198\n",
      "Epoch 60/2000\n",
      "3/3 [==============================] - 1s 219ms/step - loss: 1.5815 - categorical_accuracy: 0.3333\n",
      "Epoch 61/2000\n",
      "3/3 [==============================] - 1s 191ms/step - loss: 1.4096 - categorical_accuracy: 0.4198\n",
      "Epoch 62/2000\n",
      "3/3 [==============================] - 1s 226ms/step - loss: 1.2224 - categorical_accuracy: 0.2593\n",
      "Epoch 63/2000\n",
      "3/3 [==============================] - 1s 221ms/step - loss: 1.6432 - categorical_accuracy: 0.3086\n",
      "Epoch 64/2000\n",
      "3/3 [==============================] - 1s 221ms/step - loss: 1.3496 - categorical_accuracy: 0.2716\n",
      "Epoch 65/2000\n",
      "3/3 [==============================] - 1s 247ms/step - loss: 1.3941 - categorical_accuracy: 0.2963\n",
      "Epoch 66/2000\n",
      "3/3 [==============================] - 1s 226ms/step - loss: 1.3990 - categorical_accuracy: 0.3086\n",
      "Epoch 67/2000\n",
      "3/3 [==============================] - 1s 246ms/step - loss: 1.6335 - categorical_accuracy: 0.3827\n",
      "Epoch 68/2000\n",
      "3/3 [==============================] - 1s 230ms/step - loss: 1.2754 - categorical_accuracy: 0.3951\n",
      "Epoch 69/2000\n",
      "3/3 [==============================] - 1s 220ms/step - loss: 1.2499 - categorical_accuracy: 0.4815\n",
      "Epoch 70/2000\n",
      "3/3 [==============================] - 1s 229ms/step - loss: 1.4466 - categorical_accuracy: 0.3580\n",
      "Epoch 71/2000\n",
      "3/3 [==============================] - 1s 242ms/step - loss: 1.3888 - categorical_accuracy: 0.3951\n",
      "Epoch 72/2000\n",
      "3/3 [==============================] - 1s 223ms/step - loss: 1.5079 - categorical_accuracy: 0.3333\n",
      "Epoch 73/2000\n"
     ]
    },
    {
     "name": "stdout",
     "output_type": "stream",
     "text": [
      "3/3 [==============================] - 1s 236ms/step - loss: 1.5918 - categorical_accuracy: 0.2716\n",
      "Epoch 74/2000\n",
      "3/3 [==============================] - 1s 224ms/step - loss: 1.3436 - categorical_accuracy: 0.4815\n",
      "Epoch 75/2000\n",
      "3/3 [==============================] - 1s 235ms/step - loss: 1.4999 - categorical_accuracy: 0.3086\n",
      "Epoch 76/2000\n",
      "3/3 [==============================] - 1s 207ms/step - loss: 1.3319 - categorical_accuracy: 0.4074\n",
      "Epoch 77/2000\n",
      "3/3 [==============================] - 1s 218ms/step - loss: 1.3753 - categorical_accuracy: 0.2469\n",
      "Epoch 78/2000\n",
      "3/3 [==============================] - 1s 210ms/step - loss: 1.0788 - categorical_accuracy: 0.4568\n",
      "Epoch 79/2000\n",
      "3/3 [==============================] - 1s 242ms/step - loss: 1.2188 - categorical_accuracy: 0.4198\n",
      "Epoch 80/2000\n",
      "3/3 [==============================] - 1s 221ms/step - loss: 1.2221 - categorical_accuracy: 0.3951\n",
      "Epoch 81/2000\n",
      "3/3 [==============================] - 1s 247ms/step - loss: 1.3451 - categorical_accuracy: 0.4444\n",
      "Epoch 82/2000\n",
      "3/3 [==============================] - 1s 234ms/step - loss: 1.7031 - categorical_accuracy: 0.3210\n",
      "Epoch 83/2000\n",
      "3/3 [==============================] - 1s 252ms/step - loss: 1.8671 - categorical_accuracy: 0.4074\n",
      "Epoch 84/2000\n",
      "3/3 [==============================] - 1s 230ms/step - loss: 1.8573 - categorical_accuracy: 0.3457\n",
      "Epoch 85/2000\n",
      "3/3 [==============================] - 1s 228ms/step - loss: 1.5857 - categorical_accuracy: 0.3951\n",
      "Epoch 86/2000\n",
      "3/3 [==============================] - 1s 210ms/step - loss: 1.3986 - categorical_accuracy: 0.4074\n",
      "Epoch 87/2000\n",
      "3/3 [==============================] - 1s 246ms/step - loss: 1.3244 - categorical_accuracy: 0.3457\n",
      "Epoch 88/2000\n",
      "3/3 [==============================] - 1s 214ms/step - loss: 1.1567 - categorical_accuracy: 0.3333\n",
      "Epoch 89/2000\n",
      "3/3 [==============================] - 1s 246ms/step - loss: 1.2603 - categorical_accuracy: 0.3457\n",
      "Epoch 90/2000\n",
      "3/3 [==============================] - 1s 228ms/step - loss: 1.0831 - categorical_accuracy: 0.3333\n",
      "Epoch 91/2000\n",
      "3/3 [==============================] - 1s 209ms/step - loss: 1.2807 - categorical_accuracy: 0.4074\n",
      "Epoch 92/2000\n",
      "3/3 [==============================] - 1s 213ms/step - loss: 1.2448 - categorical_accuracy: 0.3086\n",
      "Epoch 93/2000\n",
      "3/3 [==============================] - 1s 218ms/step - loss: 1.3012 - categorical_accuracy: 0.3086\n",
      "Epoch 94/2000\n",
      "3/3 [==============================] - 1s 272ms/step - loss: 1.3789 - categorical_accuracy: 0.5432\n",
      "Epoch 95/2000\n",
      "3/3 [==============================] - 1s 241ms/step - loss: 1.2802 - categorical_accuracy: 0.4074\n",
      "Epoch 96/2000\n",
      "3/3 [==============================] - 1s 214ms/step - loss: 1.3350 - categorical_accuracy: 0.4321\n",
      "Epoch 97/2000\n",
      "3/3 [==============================] - 1s 227ms/step - loss: 1.1241 - categorical_accuracy: 0.2840\n",
      "Epoch 98/2000\n",
      "3/3 [==============================] - 1s 213ms/step - loss: 1.2636 - categorical_accuracy: 0.3333\n",
      "Epoch 99/2000\n",
      "3/3 [==============================] - 1s 216ms/step - loss: 1.4453 - categorical_accuracy: 0.2346\n",
      "Epoch 100/2000\n",
      "3/3 [==============================] - 1s 235ms/step - loss: 1.8028 - categorical_accuracy: 0.3580\n",
      "Epoch 101/2000\n",
      "3/3 [==============================] - 1s 215ms/step - loss: 1.7078 - categorical_accuracy: 0.2963\n",
      "Epoch 102/2000\n",
      "3/3 [==============================] - 1s 226ms/step - loss: 1.4164 - categorical_accuracy: 0.4198\n",
      "Epoch 103/2000\n",
      "3/3 [==============================] - 1s 206ms/step - loss: 1.1974 - categorical_accuracy: 0.3951\n",
      "Epoch 104/2000\n",
      "3/3 [==============================] - 1s 224ms/step - loss: 1.2451 - categorical_accuracy: 0.5185\n",
      "Epoch 105/2000\n",
      "3/3 [==============================] - 1s 251ms/step - loss: 1.3975 - categorical_accuracy: 0.4691\n",
      "Epoch 106/2000\n",
      "3/3 [==============================] - 1s 243ms/step - loss: 2.0206 - categorical_accuracy: 0.4444\n",
      "Epoch 107/2000\n",
      "3/3 [==============================] - 1s 228ms/step - loss: 1.4665 - categorical_accuracy: 0.3086\n",
      "Epoch 108/2000\n",
      "3/3 [==============================] - 1s 261ms/step - loss: 1.3193 - categorical_accuracy: 0.3457\n",
      "Epoch 109/2000\n",
      "3/3 [==============================] - 1s 218ms/step - loss: 1.3377 - categorical_accuracy: 0.2963\n",
      "Epoch 110/2000\n",
      "3/3 [==============================] - 1s 216ms/step - loss: 1.5070 - categorical_accuracy: 0.3086\n",
      "Epoch 111/2000\n",
      "3/3 [==============================] - 1s 215ms/step - loss: 1.3986 - categorical_accuracy: 0.2593\n",
      "Epoch 112/2000\n",
      "3/3 [==============================] - 1s 227ms/step - loss: 1.3904 - categorical_accuracy: 0.2963\n",
      "Epoch 113/2000\n",
      "3/3 [==============================] - 1s 210ms/step - loss: 1.4823 - categorical_accuracy: 0.3333\n",
      "Epoch 114/2000\n",
      "3/3 [==============================] - 1s 209ms/step - loss: 1.5355 - categorical_accuracy: 0.3704\n",
      "Epoch 115/2000\n",
      "3/3 [==============================] - 1s 205ms/step - loss: 1.6021 - categorical_accuracy: 0.2840\n",
      "Epoch 116/2000\n",
      "3/3 [==============================] - 1s 219ms/step - loss: 1.5129 - categorical_accuracy: 0.3086\n",
      "Epoch 117/2000\n",
      "3/3 [==============================] - 1s 217ms/step - loss: 1.2298 - categorical_accuracy: 0.2963\n",
      "Epoch 118/2000\n",
      "3/3 [==============================] - 1s 225ms/step - loss: 1.1475 - categorical_accuracy: 0.3210\n",
      "Epoch 119/2000\n",
      "3/3 [==============================] - 1s 247ms/step - loss: 1.2510 - categorical_accuracy: 0.3210\n",
      "Epoch 120/2000\n",
      "3/3 [==============================] - 1s 216ms/step - loss: 1.3547 - categorical_accuracy: 0.2963\n",
      "Epoch 121/2000\n",
      "3/3 [==============================] - 1s 222ms/step - loss: 1.3277 - categorical_accuracy: 0.3210\n",
      "Epoch 122/2000\n",
      "3/3 [==============================] - 1s 238ms/step - loss: 1.2857 - categorical_accuracy: 0.2716\n",
      "Epoch 123/2000\n",
      "3/3 [==============================] - 1s 216ms/step - loss: 1.2277 - categorical_accuracy: 0.2593\n",
      "Epoch 124/2000\n",
      "3/3 [==============================] - 1s 208ms/step - loss: 1.1958 - categorical_accuracy: 0.2840\n",
      "Epoch 125/2000\n",
      "3/3 [==============================] - 1s 207ms/step - loss: 1.3632 - categorical_accuracy: 0.2963\n",
      "Epoch 126/2000\n",
      "3/3 [==============================] - 1s 221ms/step - loss: 1.3134 - categorical_accuracy: 0.3333\n",
      "Epoch 127/2000\n",
      "3/3 [==============================] - 1s 221ms/step - loss: 1.4366 - categorical_accuracy: 0.3086\n",
      "Epoch 128/2000\n",
      "3/3 [==============================] - 1s 195ms/step - loss: 1.3567 - categorical_accuracy: 0.3704\n",
      "Epoch 129/2000\n",
      "3/3 [==============================] - 1s 216ms/step - loss: 1.3137 - categorical_accuracy: 0.3827\n",
      "Epoch 130/2000\n",
      "3/3 [==============================] - 1s 210ms/step - loss: 1.3916 - categorical_accuracy: 0.4444\n",
      "Epoch 131/2000\n",
      "3/3 [==============================] - 1s 220ms/step - loss: 1.2432 - categorical_accuracy: 0.3827\n",
      "Epoch 132/2000\n",
      "3/3 [==============================] - 1s 229ms/step - loss: 1.3601 - categorical_accuracy: 0.3333\n",
      "Epoch 133/2000\n",
      "3/3 [==============================] - 1s 239ms/step - loss: 1.6062 - categorical_accuracy: 0.2469\n",
      "Epoch 134/2000\n",
      "3/3 [==============================] - 1s 256ms/step - loss: 1.6484 - categorical_accuracy: 0.3580\n",
      "Epoch 135/2000\n",
      "3/3 [==============================] - 1s 239ms/step - loss: 1.2884 - categorical_accuracy: 0.4074\n",
      "Epoch 136/2000\n",
      "3/3 [==============================] - 1s 227ms/step - loss: 1.3644 - categorical_accuracy: 0.4815\n",
      "Epoch 137/2000\n",
      "3/3 [==============================] - 1s 236ms/step - loss: 1.2289 - categorical_accuracy: 0.5432\n",
      "Epoch 138/2000\n",
      "3/3 [==============================] - 1s 238ms/step - loss: 1.2543 - categorical_accuracy: 0.3704\n",
      "Epoch 139/2000\n",
      "3/3 [==============================] - 1s 225ms/step - loss: 1.1807 - categorical_accuracy: 0.4074\n",
      "Epoch 140/2000\n",
      "3/3 [==============================] - 1s 218ms/step - loss: 1.0751 - categorical_accuracy: 0.3951\n",
      "Epoch 141/2000\n",
      "3/3 [==============================] - 1s 209ms/step - loss: 1.3005 - categorical_accuracy: 0.4074\n",
      "Epoch 142/2000\n",
      "3/3 [==============================] - 1s 231ms/step - loss: 1.3589 - categorical_accuracy: 0.5062\n",
      "Epoch 143/2000\n",
      "3/3 [==============================] - 1s 236ms/step - loss: 1.2950 - categorical_accuracy: 0.4198\n",
      "Epoch 144/2000\n",
      "3/3 [==============================] - 1s 224ms/step - loss: 1.0888 - categorical_accuracy: 0.2840\n",
      "Epoch 145/2000\n"
     ]
    },
    {
     "name": "stdout",
     "output_type": "stream",
     "text": [
      "3/3 [==============================] - 1s 224ms/step - loss: 1.0370 - categorical_accuracy: 0.3210\n",
      "Epoch 146/2000\n",
      "3/3 [==============================] - 1s 250ms/step - loss: 1.0572 - categorical_accuracy: 0.4074\n",
      "Epoch 147/2000\n",
      "3/3 [==============================] - 1s 228ms/step - loss: 1.1770 - categorical_accuracy: 0.3333\n",
      "Epoch 148/2000\n",
      "3/3 [==============================] - 1s 226ms/step - loss: 1.1116 - categorical_accuracy: 0.4321\n",
      "Epoch 149/2000\n",
      "3/3 [==============================] - 1s 237ms/step - loss: 1.1461 - categorical_accuracy: 0.4815\n",
      "Epoch 150/2000\n",
      "3/3 [==============================] - 1s 233ms/step - loss: 1.0135 - categorical_accuracy: 0.3457\n",
      "Epoch 151/2000\n",
      "3/3 [==============================] - 1s 224ms/step - loss: 1.0778 - categorical_accuracy: 0.4074\n",
      "Epoch 152/2000\n",
      "3/3 [==============================] - 1s 245ms/step - loss: 1.4210 - categorical_accuracy: 0.3827\n",
      "Epoch 153/2000\n",
      "3/3 [==============================] - 1s 237ms/step - loss: 1.5006 - categorical_accuracy: 0.3580\n",
      "Epoch 154/2000\n",
      "3/3 [==============================] - 1s 232ms/step - loss: 1.6694 - categorical_accuracy: 0.3827\n",
      "Epoch 155/2000\n",
      "3/3 [==============================] - 1s 245ms/step - loss: 1.5827 - categorical_accuracy: 0.3704\n",
      "Epoch 156/2000\n",
      "3/3 [==============================] - 1s 249ms/step - loss: 1.2351 - categorical_accuracy: 0.3333\n",
      "Epoch 157/2000\n",
      "3/3 [==============================] - 1s 258ms/step - loss: 1.1403 - categorical_accuracy: 0.3827\n",
      "Epoch 158/2000\n",
      "3/3 [==============================] - 1s 216ms/step - loss: 1.1592 - categorical_accuracy: 0.4321\n",
      "Epoch 159/2000\n",
      "3/3 [==============================] - 1s 230ms/step - loss: 1.1812 - categorical_accuracy: 0.3210\n",
      "Epoch 160/2000\n",
      "3/3 [==============================] - 1s 225ms/step - loss: 1.0727 - categorical_accuracy: 0.4074\n",
      "Epoch 161/2000\n",
      "3/3 [==============================] - 1s 233ms/step - loss: 0.9828 - categorical_accuracy: 0.4444\n",
      "Epoch 162/2000\n",
      "3/3 [==============================] - 1s 233ms/step - loss: 0.9982 - categorical_accuracy: 0.4815\n",
      "Epoch 163/2000\n",
      "3/3 [==============================] - 1s 220ms/step - loss: 1.0476 - categorical_accuracy: 0.3951\n",
      "Epoch 164/2000\n",
      "3/3 [==============================] - 1s 211ms/step - loss: 1.0775 - categorical_accuracy: 0.3827\n",
      "Epoch 165/2000\n",
      "3/3 [==============================] - 1s 221ms/step - loss: 1.2898 - categorical_accuracy: 0.3951\n",
      "Epoch 166/2000\n",
      "3/3 [==============================] - 1s 229ms/step - loss: 1.1415 - categorical_accuracy: 0.2716\n",
      "Epoch 167/2000\n",
      "3/3 [==============================] - 1s 225ms/step - loss: 1.2291 - categorical_accuracy: 0.3333\n",
      "Epoch 168/2000\n",
      "3/3 [==============================] - 1s 214ms/step - loss: 1.4168 - categorical_accuracy: 0.5062\n",
      "Epoch 169/2000\n",
      "3/3 [==============================] - 1s 210ms/step - loss: 1.4656 - categorical_accuracy: 0.2840\n",
      "Epoch 170/2000\n",
      "3/3 [==============================] - 1s 215ms/step - loss: 1.5791 - categorical_accuracy: 0.4074\n",
      "Epoch 171/2000\n",
      "3/3 [==============================] - 1s 217ms/step - loss: 1.8158 - categorical_accuracy: 0.2840\n",
      "Epoch 172/2000\n",
      "3/3 [==============================] - 1s 222ms/step - loss: 1.8263 - categorical_accuracy: 0.4691\n",
      "Epoch 173/2000\n",
      "3/3 [==============================] - 1s 212ms/step - loss: 1.6474 - categorical_accuracy: 0.3210\n",
      "Epoch 174/2000\n",
      "3/3 [==============================] - 1s 236ms/step - loss: 1.6077 - categorical_accuracy: 0.4568\n",
      "Epoch 175/2000\n",
      "3/3 [==============================] - 1s 227ms/step - loss: 1.2614 - categorical_accuracy: 0.3827\n",
      "Epoch 176/2000\n",
      "3/3 [==============================] - 1s 229ms/step - loss: 1.1496 - categorical_accuracy: 0.3580\n",
      "Epoch 177/2000\n",
      "3/3 [==============================] - 1s 239ms/step - loss: 1.1332 - categorical_accuracy: 0.4321\n",
      "Epoch 178/2000\n",
      "3/3 [==============================] - 1s 235ms/step - loss: 1.0252 - categorical_accuracy: 0.5556\n",
      "Epoch 179/2000\n",
      "3/3 [==============================] - 1s 226ms/step - loss: 1.0448 - categorical_accuracy: 0.5556\n",
      "Epoch 180/2000\n",
      "3/3 [==============================] - 1s 216ms/step - loss: 1.0269 - categorical_accuracy: 0.5185\n",
      "Epoch 181/2000\n",
      "3/3 [==============================] - 1s 220ms/step - loss: 0.9750 - categorical_accuracy: 0.5062\n",
      "Epoch 182/2000\n",
      "3/3 [==============================] - 1s 216ms/step - loss: 1.1023 - categorical_accuracy: 0.3827\n",
      "Epoch 183/2000\n",
      "3/3 [==============================] - 1s 240ms/step - loss: 1.1021 - categorical_accuracy: 0.4815\n",
      "Epoch 184/2000\n",
      "3/3 [==============================] - 1s 226ms/step - loss: 1.3496 - categorical_accuracy: 0.5185\n",
      "Epoch 185/2000\n",
      "3/3 [==============================] - 1s 217ms/step - loss: 1.1727 - categorical_accuracy: 0.3333\n",
      "Epoch 186/2000\n",
      "3/3 [==============================] - 1s 217ms/step - loss: 1.1680 - categorical_accuracy: 0.5062\n",
      "Epoch 187/2000\n",
      "3/3 [==============================] - 1s 228ms/step - loss: 1.3526 - categorical_accuracy: 0.4074\n",
      "Epoch 188/2000\n",
      "3/3 [==============================] - 1s 218ms/step - loss: 1.2861 - categorical_accuracy: 0.3333\n",
      "Epoch 189/2000\n",
      "3/3 [==============================] - 1s 234ms/step - loss: 1.2128 - categorical_accuracy: 0.3951\n",
      "Epoch 190/2000\n",
      "3/3 [==============================] - 1s 250ms/step - loss: 1.0742 - categorical_accuracy: 0.5309\n",
      "Epoch 191/2000\n",
      "3/3 [==============================] - 1s 217ms/step - loss: 1.2692 - categorical_accuracy: 0.3457\n",
      "Epoch 192/2000\n",
      "3/3 [==============================] - 1s 217ms/step - loss: 1.2692 - categorical_accuracy: 0.3827\n",
      "Epoch 193/2000\n",
      "3/3 [==============================] - 1s 236ms/step - loss: 1.1030 - categorical_accuracy: 0.5432\n",
      "Epoch 194/2000\n",
      "3/3 [==============================] - 1s 221ms/step - loss: 1.1452 - categorical_accuracy: 0.3704\n",
      "Epoch 195/2000\n",
      "3/3 [==============================] - 1s 223ms/step - loss: 1.1320 - categorical_accuracy: 0.3951\n",
      "Epoch 196/2000\n",
      "3/3 [==============================] - 1s 215ms/step - loss: 1.0772 - categorical_accuracy: 0.3704\n",
      "Epoch 197/2000\n",
      "3/3 [==============================] - 1s 221ms/step - loss: 0.9852 - categorical_accuracy: 0.5432\n",
      "Epoch 198/2000\n",
      "3/3 [==============================] - 1s 232ms/step - loss: 1.1747 - categorical_accuracy: 0.3210\n",
      "Epoch 199/2000\n",
      "3/3 [==============================] - 1s 227ms/step - loss: 1.2022 - categorical_accuracy: 0.39510s - loss: 1.2022 - categorical_accuracy: 0.39\n",
      "Epoch 200/2000\n",
      "3/3 [==============================] - 1s 212ms/step - loss: 1.1839 - categorical_accuracy: 0.4074\n",
      "Epoch 201/2000\n",
      "3/3 [==============================] - 1s 213ms/step - loss: 1.1697 - categorical_accuracy: 0.3951\n",
      "Epoch 202/2000\n",
      "3/3 [==============================] - 1s 231ms/step - loss: 1.0881 - categorical_accuracy: 0.3827\n",
      "Epoch 203/2000\n",
      "3/3 [==============================] - 1s 200ms/step - loss: 1.0212 - categorical_accuracy: 0.4074\n",
      "Epoch 204/2000\n",
      "3/3 [==============================] - 1s 215ms/step - loss: 1.0850 - categorical_accuracy: 0.5062\n",
      "Epoch 205/2000\n",
      "3/3 [==============================] - 1s 230ms/step - loss: 1.0485 - categorical_accuracy: 0.4938\n",
      "Epoch 206/2000\n",
      "3/3 [==============================] - 1s 223ms/step - loss: 1.0114 - categorical_accuracy: 0.3333\n",
      "Epoch 207/2000\n",
      "3/3 [==============================] - 1s 236ms/step - loss: 0.9331 - categorical_accuracy: 0.5185\n",
      "Epoch 208/2000\n",
      "3/3 [==============================] - 1s 228ms/step - loss: 0.9715 - categorical_accuracy: 0.3704\n",
      "Epoch 209/2000\n",
      "3/3 [==============================] - 1s 210ms/step - loss: 1.1496 - categorical_accuracy: 0.4198\n",
      "Epoch 210/2000\n",
      "3/3 [==============================] - 1s 209ms/step - loss: 1.2903 - categorical_accuracy: 0.5309\n",
      "Epoch 211/2000\n",
      "3/3 [==============================] - 1s 228ms/step - loss: 1.0707 - categorical_accuracy: 0.3704\n",
      "Epoch 212/2000\n",
      "3/3 [==============================] - 1s 219ms/step - loss: 1.0858 - categorical_accuracy: 0.4074\n",
      "Epoch 213/2000\n",
      "3/3 [==============================] - 1s 211ms/step - loss: 1.0840 - categorical_accuracy: 0.5309\n",
      "Epoch 214/2000\n",
      "3/3 [==============================] - 1s 209ms/step - loss: 1.4666 - categorical_accuracy: 0.3210\n",
      "Epoch 215/2000\n",
      "3/3 [==============================] - 1s 214ms/step - loss: 1.2947 - categorical_accuracy: 0.4568\n",
      "Epoch 216/2000\n"
     ]
    },
    {
     "name": "stdout",
     "output_type": "stream",
     "text": [
      "3/3 [==============================] - 1s 210ms/step - loss: 1.0513 - categorical_accuracy: 0.4074\n",
      "Epoch 217/2000\n",
      "3/3 [==============================] - 1s 214ms/step - loss: 1.0714 - categorical_accuracy: 0.5062\n",
      "Epoch 218/2000\n",
      "3/3 [==============================] - 1s 217ms/step - loss: 1.2265 - categorical_accuracy: 0.4321\n",
      "Epoch 219/2000\n",
      "3/3 [==============================] - 1s 221ms/step - loss: 1.3384 - categorical_accuracy: 0.3827\n",
      "Epoch 220/2000\n",
      "3/3 [==============================] - 1s 222ms/step - loss: 1.1919 - categorical_accuracy: 0.4321\n",
      "Epoch 221/2000\n",
      "3/3 [==============================] - 1s 220ms/step - loss: 1.0126 - categorical_accuracy: 0.4321\n",
      "Epoch 222/2000\n",
      "3/3 [==============================] - 1s 229ms/step - loss: 1.0152 - categorical_accuracy: 0.4074\n",
      "Epoch 223/2000\n",
      "3/3 [==============================] - 1s 222ms/step - loss: 1.0172 - categorical_accuracy: 0.6543\n",
      "Epoch 224/2000\n",
      "3/3 [==============================] - 1s 220ms/step - loss: 1.1051 - categorical_accuracy: 0.5802\n",
      "Epoch 225/2000\n",
      "3/3 [==============================] - 1s 216ms/step - loss: 1.3792 - categorical_accuracy: 0.3580\n",
      "Epoch 226/2000\n",
      "3/3 [==============================] - 1s 210ms/step - loss: 1.1705 - categorical_accuracy: 0.3704\n",
      "Epoch 227/2000\n",
      "3/3 [==============================] - 1s 210ms/step - loss: 1.0574 - categorical_accuracy: 0.4198\n",
      "Epoch 228/2000\n",
      "3/3 [==============================] - 1s 209ms/step - loss: 1.1145 - categorical_accuracy: 0.4444\n",
      "Epoch 229/2000\n",
      "3/3 [==============================] - 1s 206ms/step - loss: 1.0910 - categorical_accuracy: 0.5556\n",
      "Epoch 230/2000\n",
      "3/3 [==============================] - 1s 221ms/step - loss: 1.1252 - categorical_accuracy: 0.4815\n",
      "Epoch 231/2000\n",
      "3/3 [==============================] - 1s 238ms/step - loss: 1.0214 - categorical_accuracy: 0.4568\n",
      "Epoch 232/2000\n",
      "3/3 [==============================] - 1s 211ms/step - loss: 1.0402 - categorical_accuracy: 0.3704\n",
      "Epoch 233/2000\n",
      "3/3 [==============================] - 1s 209ms/step - loss: 1.0795 - categorical_accuracy: 0.2963\n",
      "Epoch 234/2000\n",
      "3/3 [==============================] - 1s 231ms/step - loss: 1.0858 - categorical_accuracy: 0.4815\n",
      "Epoch 235/2000\n",
      "3/3 [==============================] - 1s 211ms/step - loss: 1.5484 - categorical_accuracy: 0.3333\n",
      "Epoch 236/2000\n",
      "3/3 [==============================] - 1s 218ms/step - loss: 1.4944 - categorical_accuracy: 0.3580\n",
      "Epoch 237/2000\n",
      "3/3 [==============================] - 1s 257ms/step - loss: 1.5754 - categorical_accuracy: 0.2963\n",
      "Epoch 238/2000\n",
      "3/3 [==============================] - 1s 234ms/step - loss: 1.7030 - categorical_accuracy: 0.2963\n",
      "Epoch 239/2000\n",
      "3/3 [==============================] - 1s 212ms/step - loss: 1.2781 - categorical_accuracy: 0.4444\n",
      "Epoch 240/2000\n",
      "3/3 [==============================] - 1s 177ms/step - loss: 1.4073 - categorical_accuracy: 0.3827\n",
      "Epoch 241/2000\n",
      "3/3 [==============================] - 1s 191ms/step - loss: 1.2940 - categorical_accuracy: 0.4568\n",
      "Epoch 242/2000\n",
      "3/3 [==============================] - 1s 216ms/step - loss: 1.1118 - categorical_accuracy: 0.6543\n",
      "Epoch 243/2000\n",
      "3/3 [==============================] - 1s 244ms/step - loss: 1.0162 - categorical_accuracy: 0.4691\n",
      "Epoch 244/2000\n",
      "3/3 [==============================] - 1s 208ms/step - loss: 0.9639 - categorical_accuracy: 0.5802\n",
      "Epoch 245/2000\n",
      "3/3 [==============================] - 1s 234ms/step - loss: 0.9432 - categorical_accuracy: 0.5432\n",
      "Epoch 246/2000\n",
      "3/3 [==============================] - 1s 237ms/step - loss: 0.9436 - categorical_accuracy: 0.5062\n",
      "Epoch 247/2000\n",
      "3/3 [==============================] - 1s 220ms/step - loss: 0.8937 - categorical_accuracy: 0.5062\n",
      "Epoch 248/2000\n",
      "3/3 [==============================] - 1s 248ms/step - loss: 0.9221 - categorical_accuracy: 0.5556\n",
      "Epoch 249/2000\n",
      "3/3 [==============================] - 1s 225ms/step - loss: 0.9545 - categorical_accuracy: 0.4321\n",
      "Epoch 250/2000\n",
      "3/3 [==============================] - 1s 205ms/step - loss: 0.9710 - categorical_accuracy: 0.5679\n",
      "Epoch 251/2000\n",
      "3/3 [==============================] - 1s 218ms/step - loss: 0.8935 - categorical_accuracy: 0.5556\n",
      "Epoch 252/2000\n",
      "3/3 [==============================] - 1s 282ms/step - loss: 0.9577 - categorical_accuracy: 0.5802\n",
      "Epoch 253/2000\n",
      "3/3 [==============================] - 1s 258ms/step - loss: 0.9019 - categorical_accuracy: 0.5926\n",
      "Epoch 254/2000\n",
      "3/3 [==============================] - 1s 228ms/step - loss: 1.0806 - categorical_accuracy: 0.3704\n",
      "Epoch 255/2000\n",
      "3/3 [==============================] - 1s 209ms/step - loss: 1.0517 - categorical_accuracy: 0.4568\n",
      "Epoch 256/2000\n",
      "3/3 [==============================] - 1s 257ms/step - loss: 0.9734 - categorical_accuracy: 0.5062\n",
      "Epoch 257/2000\n",
      "3/3 [==============================] - 1s 232ms/step - loss: 0.9810 - categorical_accuracy: 0.3951\n",
      "Epoch 258/2000\n",
      "3/3 [==============================] - 1s 231ms/step - loss: 0.9699 - categorical_accuracy: 0.6543\n",
      "Epoch 259/2000\n",
      "1/3 [=========>....................] - ETA: 0s - loss: 0.9271 - categorical_accuracy: 0.3750"
     ]
    },
    {
     "ename": "KeyboardInterrupt",
     "evalue": "",
     "output_type": "error",
     "traceback": [
      "\u001b[1;31m---------------------------------------------------------------------------\u001b[0m",
      "\u001b[1;31mKeyboardInterrupt\u001b[0m                         Traceback (most recent call last)",
      "\u001b[1;32m~\\AppData\\Local\\Temp/ipykernel_17548/647883075.py\u001b[0m in \u001b[0;36m<module>\u001b[1;34m\u001b[0m\n\u001b[1;32m----> 1\u001b[1;33m \u001b[0mmodel\u001b[0m\u001b[1;33m.\u001b[0m\u001b[0mfit\u001b[0m\u001b[1;33m(\u001b[0m\u001b[0mX_train\u001b[0m\u001b[1;33m,\u001b[0m \u001b[0my_train\u001b[0m\u001b[1;33m,\u001b[0m \u001b[0mepochs\u001b[0m\u001b[1;33m=\u001b[0m\u001b[1;36m2000\u001b[0m\u001b[1;33m,\u001b[0m \u001b[0mcallbacks\u001b[0m\u001b[1;33m=\u001b[0m\u001b[1;33m[\u001b[0m\u001b[0mtb_callback\u001b[0m\u001b[1;33m]\u001b[0m\u001b[1;33m)\u001b[0m\u001b[1;33m\u001b[0m\u001b[1;33m\u001b[0m\u001b[0m\n\u001b[0m",
      "\u001b[1;32m~\\AppData\\Local\\Packages\\PythonSoftwareFoundation.Python.3.9_qbz5n2kfra8p0\\LocalCache\\local-packages\\Python39\\site-packages\\keras\\utils\\traceback_utils.py\u001b[0m in \u001b[0;36merror_handler\u001b[1;34m(*args, **kwargs)\u001b[0m\n\u001b[0;32m     62\u001b[0m     \u001b[0mfiltered_tb\u001b[0m \u001b[1;33m=\u001b[0m \u001b[1;32mNone\u001b[0m\u001b[1;33m\u001b[0m\u001b[1;33m\u001b[0m\u001b[0m\n\u001b[0;32m     63\u001b[0m     \u001b[1;32mtry\u001b[0m\u001b[1;33m:\u001b[0m\u001b[1;33m\u001b[0m\u001b[1;33m\u001b[0m\u001b[0m\n\u001b[1;32m---> 64\u001b[1;33m       \u001b[1;32mreturn\u001b[0m \u001b[0mfn\u001b[0m\u001b[1;33m(\u001b[0m\u001b[1;33m*\u001b[0m\u001b[0margs\u001b[0m\u001b[1;33m,\u001b[0m \u001b[1;33m**\u001b[0m\u001b[0mkwargs\u001b[0m\u001b[1;33m)\u001b[0m\u001b[1;33m\u001b[0m\u001b[1;33m\u001b[0m\u001b[0m\n\u001b[0m\u001b[0;32m     65\u001b[0m     \u001b[1;32mexcept\u001b[0m \u001b[0mException\u001b[0m \u001b[1;32mas\u001b[0m \u001b[0me\u001b[0m\u001b[1;33m:\u001b[0m  \u001b[1;31m# pylint: disable=broad-except\u001b[0m\u001b[1;33m\u001b[0m\u001b[1;33m\u001b[0m\u001b[0m\n\u001b[0;32m     66\u001b[0m       \u001b[0mfiltered_tb\u001b[0m \u001b[1;33m=\u001b[0m \u001b[0m_process_traceback_frames\u001b[0m\u001b[1;33m(\u001b[0m\u001b[0me\u001b[0m\u001b[1;33m.\u001b[0m\u001b[0m__traceback__\u001b[0m\u001b[1;33m)\u001b[0m\u001b[1;33m\u001b[0m\u001b[1;33m\u001b[0m\u001b[0m\n",
      "\u001b[1;32m~\\AppData\\Local\\Packages\\PythonSoftwareFoundation.Python.3.9_qbz5n2kfra8p0\\LocalCache\\local-packages\\Python39\\site-packages\\keras\\engine\\training.py\u001b[0m in \u001b[0;36mfit\u001b[1;34m(self, x, y, batch_size, epochs, verbose, callbacks, validation_split, validation_data, shuffle, class_weight, sample_weight, initial_epoch, steps_per_epoch, validation_steps, validation_batch_size, validation_freq, max_queue_size, workers, use_multiprocessing)\u001b[0m\n\u001b[0;32m   1214\u001b[0m                 _r=1):\n\u001b[0;32m   1215\u001b[0m               \u001b[0mcallbacks\u001b[0m\u001b[1;33m.\u001b[0m\u001b[0mon_train_batch_begin\u001b[0m\u001b[1;33m(\u001b[0m\u001b[0mstep\u001b[0m\u001b[1;33m)\u001b[0m\u001b[1;33m\u001b[0m\u001b[1;33m\u001b[0m\u001b[0m\n\u001b[1;32m-> 1216\u001b[1;33m               \u001b[0mtmp_logs\u001b[0m \u001b[1;33m=\u001b[0m \u001b[0mself\u001b[0m\u001b[1;33m.\u001b[0m\u001b[0mtrain_function\u001b[0m\u001b[1;33m(\u001b[0m\u001b[0miterator\u001b[0m\u001b[1;33m)\u001b[0m\u001b[1;33m\u001b[0m\u001b[1;33m\u001b[0m\u001b[0m\n\u001b[0m\u001b[0;32m   1217\u001b[0m               \u001b[1;32mif\u001b[0m \u001b[0mdata_handler\u001b[0m\u001b[1;33m.\u001b[0m\u001b[0mshould_sync\u001b[0m\u001b[1;33m:\u001b[0m\u001b[1;33m\u001b[0m\u001b[1;33m\u001b[0m\u001b[0m\n\u001b[0;32m   1218\u001b[0m                 \u001b[0mcontext\u001b[0m\u001b[1;33m.\u001b[0m\u001b[0masync_wait\u001b[0m\u001b[1;33m(\u001b[0m\u001b[1;33m)\u001b[0m\u001b[1;33m\u001b[0m\u001b[1;33m\u001b[0m\u001b[0m\n",
      "\u001b[1;32m~\\AppData\\Local\\Packages\\PythonSoftwareFoundation.Python.3.9_qbz5n2kfra8p0\\LocalCache\\local-packages\\Python39\\site-packages\\tensorflow\\python\\util\\traceback_utils.py\u001b[0m in \u001b[0;36merror_handler\u001b[1;34m(*args, **kwargs)\u001b[0m\n\u001b[0;32m    148\u001b[0m     \u001b[0mfiltered_tb\u001b[0m \u001b[1;33m=\u001b[0m \u001b[1;32mNone\u001b[0m\u001b[1;33m\u001b[0m\u001b[1;33m\u001b[0m\u001b[0m\n\u001b[0;32m    149\u001b[0m     \u001b[1;32mtry\u001b[0m\u001b[1;33m:\u001b[0m\u001b[1;33m\u001b[0m\u001b[1;33m\u001b[0m\u001b[0m\n\u001b[1;32m--> 150\u001b[1;33m       \u001b[1;32mreturn\u001b[0m \u001b[0mfn\u001b[0m\u001b[1;33m(\u001b[0m\u001b[1;33m*\u001b[0m\u001b[0margs\u001b[0m\u001b[1;33m,\u001b[0m \u001b[1;33m**\u001b[0m\u001b[0mkwargs\u001b[0m\u001b[1;33m)\u001b[0m\u001b[1;33m\u001b[0m\u001b[1;33m\u001b[0m\u001b[0m\n\u001b[0m\u001b[0;32m    151\u001b[0m     \u001b[1;32mexcept\u001b[0m \u001b[0mException\u001b[0m \u001b[1;32mas\u001b[0m \u001b[0me\u001b[0m\u001b[1;33m:\u001b[0m\u001b[1;33m\u001b[0m\u001b[1;33m\u001b[0m\u001b[0m\n\u001b[0;32m    152\u001b[0m       \u001b[0mfiltered_tb\u001b[0m \u001b[1;33m=\u001b[0m \u001b[0m_process_traceback_frames\u001b[0m\u001b[1;33m(\u001b[0m\u001b[0me\u001b[0m\u001b[1;33m.\u001b[0m\u001b[0m__traceback__\u001b[0m\u001b[1;33m)\u001b[0m\u001b[1;33m\u001b[0m\u001b[1;33m\u001b[0m\u001b[0m\n",
      "\u001b[1;32m~\\AppData\\Local\\Packages\\PythonSoftwareFoundation.Python.3.9_qbz5n2kfra8p0\\LocalCache\\local-packages\\Python39\\site-packages\\tensorflow\\python\\eager\\def_function.py\u001b[0m in \u001b[0;36m__call__\u001b[1;34m(self, *args, **kwds)\u001b[0m\n\u001b[0;32m    908\u001b[0m \u001b[1;33m\u001b[0m\u001b[0m\n\u001b[0;32m    909\u001b[0m       \u001b[1;32mwith\u001b[0m \u001b[0mOptionalXlaContext\u001b[0m\u001b[1;33m(\u001b[0m\u001b[0mself\u001b[0m\u001b[1;33m.\u001b[0m\u001b[0m_jit_compile\u001b[0m\u001b[1;33m)\u001b[0m\u001b[1;33m:\u001b[0m\u001b[1;33m\u001b[0m\u001b[1;33m\u001b[0m\u001b[0m\n\u001b[1;32m--> 910\u001b[1;33m         \u001b[0mresult\u001b[0m \u001b[1;33m=\u001b[0m \u001b[0mself\u001b[0m\u001b[1;33m.\u001b[0m\u001b[0m_call\u001b[0m\u001b[1;33m(\u001b[0m\u001b[1;33m*\u001b[0m\u001b[0margs\u001b[0m\u001b[1;33m,\u001b[0m \u001b[1;33m**\u001b[0m\u001b[0mkwds\u001b[0m\u001b[1;33m)\u001b[0m\u001b[1;33m\u001b[0m\u001b[1;33m\u001b[0m\u001b[0m\n\u001b[0m\u001b[0;32m    911\u001b[0m \u001b[1;33m\u001b[0m\u001b[0m\n\u001b[0;32m    912\u001b[0m       \u001b[0mnew_tracing_count\u001b[0m \u001b[1;33m=\u001b[0m \u001b[0mself\u001b[0m\u001b[1;33m.\u001b[0m\u001b[0mexperimental_get_tracing_count\u001b[0m\u001b[1;33m(\u001b[0m\u001b[1;33m)\u001b[0m\u001b[1;33m\u001b[0m\u001b[1;33m\u001b[0m\u001b[0m\n",
      "\u001b[1;32m~\\AppData\\Local\\Packages\\PythonSoftwareFoundation.Python.3.9_qbz5n2kfra8p0\\LocalCache\\local-packages\\Python39\\site-packages\\tensorflow\\python\\eager\\def_function.py\u001b[0m in \u001b[0;36m_call\u001b[1;34m(self, *args, **kwds)\u001b[0m\n\u001b[0;32m    940\u001b[0m       \u001b[1;31m# In this case we have created variables on the first call, so we run the\u001b[0m\u001b[1;33m\u001b[0m\u001b[1;33m\u001b[0m\u001b[0m\n\u001b[0;32m    941\u001b[0m       \u001b[1;31m# defunned version which is guaranteed to never create variables.\u001b[0m\u001b[1;33m\u001b[0m\u001b[1;33m\u001b[0m\u001b[0m\n\u001b[1;32m--> 942\u001b[1;33m       \u001b[1;32mreturn\u001b[0m \u001b[0mself\u001b[0m\u001b[1;33m.\u001b[0m\u001b[0m_stateless_fn\u001b[0m\u001b[1;33m(\u001b[0m\u001b[1;33m*\u001b[0m\u001b[0margs\u001b[0m\u001b[1;33m,\u001b[0m \u001b[1;33m**\u001b[0m\u001b[0mkwds\u001b[0m\u001b[1;33m)\u001b[0m  \u001b[1;31m# pylint: disable=not-callable\u001b[0m\u001b[1;33m\u001b[0m\u001b[1;33m\u001b[0m\u001b[0m\n\u001b[0m\u001b[0;32m    943\u001b[0m     \u001b[1;32melif\u001b[0m \u001b[0mself\u001b[0m\u001b[1;33m.\u001b[0m\u001b[0m_stateful_fn\u001b[0m \u001b[1;32mis\u001b[0m \u001b[1;32mnot\u001b[0m \u001b[1;32mNone\u001b[0m\u001b[1;33m:\u001b[0m\u001b[1;33m\u001b[0m\u001b[1;33m\u001b[0m\u001b[0m\n\u001b[0;32m    944\u001b[0m       \u001b[1;31m# Release the lock early so that multiple threads can perform the call\u001b[0m\u001b[1;33m\u001b[0m\u001b[1;33m\u001b[0m\u001b[0m\n",
      "\u001b[1;32m~\\AppData\\Local\\Packages\\PythonSoftwareFoundation.Python.3.9_qbz5n2kfra8p0\\LocalCache\\local-packages\\Python39\\site-packages\\tensorflow\\python\\eager\\function.py\u001b[0m in \u001b[0;36m__call__\u001b[1;34m(self, *args, **kwargs)\u001b[0m\n\u001b[0;32m   3128\u001b[0m       (graph_function,\n\u001b[0;32m   3129\u001b[0m        filtered_flat_args) = self._maybe_define_function(args, kwargs)\n\u001b[1;32m-> 3130\u001b[1;33m     return graph_function._call_flat(\n\u001b[0m\u001b[0;32m   3131\u001b[0m         filtered_flat_args, captured_inputs=graph_function.captured_inputs)  # pylint: disable=protected-access\n\u001b[0;32m   3132\u001b[0m \u001b[1;33m\u001b[0m\u001b[0m\n",
      "\u001b[1;32m~\\AppData\\Local\\Packages\\PythonSoftwareFoundation.Python.3.9_qbz5n2kfra8p0\\LocalCache\\local-packages\\Python39\\site-packages\\tensorflow\\python\\eager\\function.py\u001b[0m in \u001b[0;36m_call_flat\u001b[1;34m(self, args, captured_inputs, cancellation_manager)\u001b[0m\n\u001b[0;32m   1957\u001b[0m         and executing_eagerly):\n\u001b[0;32m   1958\u001b[0m       \u001b[1;31m# No tape is watching; skip to running the function.\u001b[0m\u001b[1;33m\u001b[0m\u001b[1;33m\u001b[0m\u001b[0m\n\u001b[1;32m-> 1959\u001b[1;33m       return self._build_call_outputs(self._inference_function.call(\n\u001b[0m\u001b[0;32m   1960\u001b[0m           ctx, args, cancellation_manager=cancellation_manager))\n\u001b[0;32m   1961\u001b[0m     forward_backward = self._select_forward_and_backward_functions(\n",
      "\u001b[1;32m~\\AppData\\Local\\Packages\\PythonSoftwareFoundation.Python.3.9_qbz5n2kfra8p0\\LocalCache\\local-packages\\Python39\\site-packages\\tensorflow\\python\\eager\\function.py\u001b[0m in \u001b[0;36mcall\u001b[1;34m(self, ctx, args, cancellation_manager)\u001b[0m\n\u001b[0;32m    596\u001b[0m       \u001b[1;32mwith\u001b[0m \u001b[0m_InterpolateFunctionError\u001b[0m\u001b[1;33m(\u001b[0m\u001b[0mself\u001b[0m\u001b[1;33m)\u001b[0m\u001b[1;33m:\u001b[0m\u001b[1;33m\u001b[0m\u001b[1;33m\u001b[0m\u001b[0m\n\u001b[0;32m    597\u001b[0m         \u001b[1;32mif\u001b[0m \u001b[0mcancellation_manager\u001b[0m \u001b[1;32mis\u001b[0m \u001b[1;32mNone\u001b[0m\u001b[1;33m:\u001b[0m\u001b[1;33m\u001b[0m\u001b[1;33m\u001b[0m\u001b[0m\n\u001b[1;32m--> 598\u001b[1;33m           outputs = execute.execute(\n\u001b[0m\u001b[0;32m    599\u001b[0m               \u001b[0mstr\u001b[0m\u001b[1;33m(\u001b[0m\u001b[0mself\u001b[0m\u001b[1;33m.\u001b[0m\u001b[0msignature\u001b[0m\u001b[1;33m.\u001b[0m\u001b[0mname\u001b[0m\u001b[1;33m)\u001b[0m\u001b[1;33m,\u001b[0m\u001b[1;33m\u001b[0m\u001b[1;33m\u001b[0m\u001b[0m\n\u001b[0;32m    600\u001b[0m               \u001b[0mnum_outputs\u001b[0m\u001b[1;33m=\u001b[0m\u001b[0mself\u001b[0m\u001b[1;33m.\u001b[0m\u001b[0m_num_outputs\u001b[0m\u001b[1;33m,\u001b[0m\u001b[1;33m\u001b[0m\u001b[1;33m\u001b[0m\u001b[0m\n",
      "\u001b[1;32m~\\AppData\\Local\\Packages\\PythonSoftwareFoundation.Python.3.9_qbz5n2kfra8p0\\LocalCache\\local-packages\\Python39\\site-packages\\tensorflow\\python\\eager\\execute.py\u001b[0m in \u001b[0;36mquick_execute\u001b[1;34m(op_name, num_outputs, inputs, attrs, ctx, name)\u001b[0m\n\u001b[0;32m     56\u001b[0m   \u001b[1;32mtry\u001b[0m\u001b[1;33m:\u001b[0m\u001b[1;33m\u001b[0m\u001b[1;33m\u001b[0m\u001b[0m\n\u001b[0;32m     57\u001b[0m     \u001b[0mctx\u001b[0m\u001b[1;33m.\u001b[0m\u001b[0mensure_initialized\u001b[0m\u001b[1;33m(\u001b[0m\u001b[1;33m)\u001b[0m\u001b[1;33m\u001b[0m\u001b[1;33m\u001b[0m\u001b[0m\n\u001b[1;32m---> 58\u001b[1;33m     tensors = pywrap_tfe.TFE_Py_Execute(ctx._handle, device_name, op_name,\n\u001b[0m\u001b[0;32m     59\u001b[0m                                         inputs, attrs, num_outputs)\n\u001b[0;32m     60\u001b[0m   \u001b[1;32mexcept\u001b[0m \u001b[0mcore\u001b[0m\u001b[1;33m.\u001b[0m\u001b[0m_NotOkStatusException\u001b[0m \u001b[1;32mas\u001b[0m \u001b[0me\u001b[0m\u001b[1;33m:\u001b[0m\u001b[1;33m\u001b[0m\u001b[1;33m\u001b[0m\u001b[0m\n",
      "\u001b[1;31mKeyboardInterrupt\u001b[0m: "
     ]
    }
   ],
   "source": [
    "model.fit(X_train, y_train, epochs=2000, callbacks=[tb_callback])"
   ]
  },
  {
   "cell_type": "code",
   "execution_count": 32,
   "id": "4dd98f19",
   "metadata": {},
   "outputs": [
    {
     "name": "stdout",
     "output_type": "stream",
     "text": [
      "Model: \"sequential\"\n",
      "_________________________________________________________________\n",
      " Layer (type)                Output Shape              Param #   \n",
      "=================================================================\n",
      " lstm (LSTM)                 (None, 30, 64)            442112    \n",
      "                                                                 \n",
      " lstm_1 (LSTM)               (None, 30, 128)           98816     \n",
      "                                                                 \n",
      " lstm_2 (LSTM)               (None, 64)                49408     \n",
      "                                                                 \n",
      " dense (Dense)               (None, 64)                4160      \n",
      "                                                                 \n",
      " dense_1 (Dense)             (None, 32)                2080      \n",
      "                                                                 \n",
      " dense_2 (Dense)             (None, 3)                 99        \n",
      "                                                                 \n",
      "=================================================================\n",
      "Total params: 596,675\n",
      "Trainable params: 596,675\n",
      "Non-trainable params: 0\n",
      "_________________________________________________________________\n"
     ]
    }
   ],
   "source": [
    "model.summary()"
   ]
  },
  {
   "cell_type": "markdown",
   "id": "fe8a364b",
   "metadata": {},
   "source": [
    "# Make Prediction"
   ]
  },
  {
   "cell_type": "code",
   "execution_count": 36,
   "id": "9570aa53",
   "metadata": {},
   "outputs": [],
   "source": [
    "#load signs, x_test, y_test\n",
    "testDatasPath=os.path.join(\"Test_Datas\")\n",
    "signsPath=os.path.join(\"Signs\")\n",
    "x_test=np.load(os.path.join(testDatasPath,'x_test.npy'))\n",
    "y_test=np.load(os.path.join(testDatasPath,'y_test.npy'))\n",
    "signs=np.load(os.path.join(signsPath,'signs.npy'))"
   ]
  },
  {
   "cell_type": "code",
   "execution_count": 37,
   "id": "40a4654d",
   "metadata": {},
   "outputs": [],
   "source": [
    "res = model.predict(x_test)"
   ]
  },
  {
   "cell_type": "code",
   "execution_count": 38,
   "id": "6d488230",
   "metadata": {},
   "outputs": [
    {
     "data": {
      "text/plain": [
       "array(['Hello', 'Food', 'Washroom'], dtype='<U8')"
      ]
     },
     "execution_count": 38,
     "metadata": {},
     "output_type": "execute_result"
    }
   ],
   "source": [
    "signs"
   ]
  },
  {
   "cell_type": "code",
   "execution_count": 39,
   "id": "385d05e9",
   "metadata": {},
   "outputs": [
    {
     "data": {
      "text/plain": [
       "'Hello'"
      ]
     },
     "execution_count": 39,
     "metadata": {},
     "output_type": "execute_result"
    }
   ],
   "source": [
    "signs[np.argmax(res[5])]"
   ]
  },
  {
   "cell_type": "code",
   "execution_count": 40,
   "id": "4a806dcd",
   "metadata": {},
   "outputs": [
    {
     "data": {
      "text/plain": [
       "'Hello'"
      ]
     },
     "execution_count": 40,
     "metadata": {},
     "output_type": "execute_result"
    }
   ],
   "source": [
    "signs[np.argmax(y_test[5])]"
   ]
  },
  {
   "cell_type": "code",
   "execution_count": 40,
   "id": "1b4dc6bd",
   "metadata": {},
   "outputs": [
    {
     "data": {
      "text/plain": [
       "(9, 3)"
      ]
     },
     "execution_count": 40,
     "metadata": {},
     "output_type": "execute_result"
    }
   ],
   "source": [
    "res.shape"
   ]
  },
  {
   "cell_type": "code",
   "execution_count": 41,
   "id": "fe1b0ada",
   "metadata": {},
   "outputs": [
    {
     "data": {
      "text/plain": [
       "array([[0, 0, 1],\n",
       "       [1, 0, 0],\n",
       "       [1, 0, 0],\n",
       "       [0, 1, 0],\n",
       "       [0, 1, 0],\n",
       "       [0, 1, 0],\n",
       "       [0, 1, 0],\n",
       "       [0, 1, 0],\n",
       "       [0, 1, 0]])"
      ]
     },
     "execution_count": 41,
     "metadata": {},
     "output_type": "execute_result"
    }
   ],
   "source": [
    "y_test"
   ]
  },
  {
   "cell_type": "code",
   "execution_count": 42,
   "id": "81e3f184",
   "metadata": {},
   "outputs": [
    {
     "data": {
      "text/plain": [
       "array([[5.3766727e-02, 2.4770682e-01, 6.9852644e-01],\n",
       "       [8.0655706e-01, 2.0600162e-02, 1.7284285e-01],\n",
       "       [8.0121195e-01, 2.1262284e-02, 1.7752577e-01],\n",
       "       [1.4012504e-06, 8.5017389e-01, 1.4982472e-01],\n",
       "       [1.4011457e-06, 8.4682757e-01, 1.5317097e-01],\n",
       "       [1.7091527e-06, 8.4000665e-01, 1.5999164e-01],\n",
       "       [2.0998116e-06, 8.3362406e-01, 1.6637386e-01],\n",
       "       [5.3696368e-07, 8.7554127e-01, 1.2445823e-01],\n",
       "       [1.0858611e-06, 8.5759461e-01, 1.4240421e-01]], dtype=float32)"
      ]
     },
     "execution_count": 42,
     "metadata": {},
     "output_type": "execute_result"
    }
   ],
   "source": [
    "res"
   ]
  },
  {
   "cell_type": "code",
   "execution_count": 43,
   "id": "c3059ce5",
   "metadata": {},
   "outputs": [
    {
     "data": {
      "text/plain": [
       "2"
      ]
     },
     "execution_count": 43,
     "metadata": {},
     "output_type": "execute_result"
    }
   ],
   "source": [
    "np.argmax(res[0])"
   ]
  },
  {
   "cell_type": "code",
   "execution_count": 44,
   "id": "b5530448",
   "metadata": {},
   "outputs": [
    {
     "data": {
      "text/plain": [
       "2"
      ]
     },
     "execution_count": 44,
     "metadata": {},
     "output_type": "execute_result"
    }
   ],
   "source": [
    "np.argmax(y_test[0])"
   ]
  },
  {
   "cell_type": "markdown",
   "id": "4f142721",
   "metadata": {},
   "source": [
    "# Save Model"
   ]
  },
  {
   "cell_type": "code",
   "execution_count": 41,
   "id": "7f87293d",
   "metadata": {},
   "outputs": [],
   "source": [
    "model.save('SLR.h5')"
   ]
  },
  {
   "cell_type": "markdown",
   "id": "72c19c07",
   "metadata": {},
   "source": [
    "# Load Model"
   ]
  },
  {
   "cell_type": "code",
   "execution_count": 65,
   "id": "081ced2d",
   "metadata": {},
   "outputs": [],
   "source": [
    "model=createModel()"
   ]
  },
  {
   "cell_type": "code",
   "execution_count": 66,
   "id": "57687f5d",
   "metadata": {},
   "outputs": [],
   "source": [
    "model.load_weights('SLR.h5')"
   ]
  },
  {
   "cell_type": "markdown",
   "id": "feea6fa2",
   "metadata": {},
   "source": [
    "# Evaluation using confusion matrix"
   ]
  },
  {
   "cell_type": "code",
   "execution_count": 42,
   "id": "cf12737f",
   "metadata": {},
   "outputs": [],
   "source": [
    "from sklearn.metrics import multilabel_confusion_matrix,confusion_matrix, accuracy_score"
   ]
  },
  {
   "cell_type": "code",
   "execution_count": 43,
   "id": "a30a9240",
   "metadata": {},
   "outputs": [],
   "source": [
    "true_labels=[]\n",
    "for label in y_test:\n",
    "    index=np.argmax(label)\n",
    "    true_labels.append(signs[index])"
   ]
  },
  {
   "cell_type": "code",
   "execution_count": 44,
   "id": "c2ca039d",
   "metadata": {},
   "outputs": [
    {
     "data": {
      "text/plain": [
       "['Washroom',\n",
       " 'Washroom',\n",
       " 'Washroom',\n",
       " 'Hello',\n",
       " 'Food',\n",
       " 'Hello',\n",
       " 'Food',\n",
       " 'Food',\n",
       " 'Hello']"
      ]
     },
     "execution_count": 44,
     "metadata": {},
     "output_type": "execute_result"
    }
   ],
   "source": [
    "true_labels"
   ]
  },
  {
   "cell_type": "code",
   "execution_count": 45,
   "id": "3d4a1667",
   "metadata": {},
   "outputs": [],
   "source": [
    "y_predicted = model.predict(x_test)"
   ]
  },
  {
   "cell_type": "code",
   "execution_count": 46,
   "id": "b972116b",
   "metadata": {},
   "outputs": [],
   "source": [
    "predicted_labels=[]\n",
    "for label in y_predicted:\n",
    "    index=np.argmax(label)\n",
    "    predicted_labels.append(signs[index])"
   ]
  },
  {
   "cell_type": "code",
   "execution_count": 47,
   "id": "ba98dd02",
   "metadata": {},
   "outputs": [
    {
     "data": {
      "text/plain": [
       "['Washroom',\n",
       " 'Washroom',\n",
       " 'Washroom',\n",
       " 'Hello',\n",
       " 'Food',\n",
       " 'Hello',\n",
       " 'Food',\n",
       " 'Food',\n",
       " 'Hello']"
      ]
     },
     "execution_count": 47,
     "metadata": {},
     "output_type": "execute_result"
    }
   ],
   "source": [
    "predicted_labels"
   ]
  },
  {
   "cell_type": "code",
   "execution_count": 48,
   "id": "aa6203e1",
   "metadata": {},
   "outputs": [],
   "source": [
    "y_true = np.argmax(y_test, axis=1).tolist()"
   ]
  },
  {
   "cell_type": "code",
   "execution_count": 49,
   "id": "e69ca117",
   "metadata": {},
   "outputs": [],
   "source": [
    "y_predicted=np.argmax(y_predicted,axis=1).tolist()"
   ]
  },
  {
   "cell_type": "code",
   "execution_count": 50,
   "id": "2d865b5b",
   "metadata": {},
   "outputs": [
    {
     "data": {
      "text/plain": [
       "[2, 2, 2, 0, 1, 0, 1, 1, 0]"
      ]
     },
     "execution_count": 50,
     "metadata": {},
     "output_type": "execute_result"
    }
   ],
   "source": [
    "y_true"
   ]
  },
  {
   "cell_type": "code",
   "execution_count": 51,
   "id": "f229c77c",
   "metadata": {},
   "outputs": [
    {
     "data": {
      "text/plain": [
       "array([[0, 0, 1],\n",
       "       [0, 0, 1],\n",
       "       [0, 0, 1],\n",
       "       [1, 0, 0],\n",
       "       [0, 1, 0],\n",
       "       [1, 0, 0],\n",
       "       [0, 1, 0],\n",
       "       [0, 1, 0],\n",
       "       [1, 0, 0]])"
      ]
     },
     "execution_count": 51,
     "metadata": {},
     "output_type": "execute_result"
    }
   ],
   "source": [
    "y_test"
   ]
  },
  {
   "cell_type": "code",
   "execution_count": 52,
   "id": "789e96b4",
   "metadata": {},
   "outputs": [
    {
     "data": {
      "text/plain": [
       "(9, 3)"
      ]
     },
     "execution_count": 52,
     "metadata": {},
     "output_type": "execute_result"
    }
   ],
   "source": [
    "y_test.shape"
   ]
  },
  {
   "cell_type": "code",
   "execution_count": 53,
   "id": "3d769ea3",
   "metadata": {},
   "outputs": [
    {
     "data": {
      "text/plain": [
       "[2, 2, 2, 0, 1, 0, 1, 1, 0]"
      ]
     },
     "execution_count": 53,
     "metadata": {},
     "output_type": "execute_result"
    }
   ],
   "source": [
    "y_predicted"
   ]
  },
  {
   "cell_type": "code",
   "execution_count": 54,
   "id": "5a1fc4f4",
   "metadata": {},
   "outputs": [
    {
     "data": {
      "text/plain": [
       "array(['Hello', 'Food', 'Washroom'], dtype='<U8')"
      ]
     },
     "execution_count": 54,
     "metadata": {},
     "output_type": "execute_result"
    }
   ],
   "source": [
    "signs"
   ]
  },
  {
   "cell_type": "code",
   "execution_count": 55,
   "id": "39dd44bc",
   "metadata": {},
   "outputs": [
    {
     "data": {
      "text/plain": [
       "array([[[6, 0],\n",
       "        [0, 3]],\n",
       "\n",
       "       [[6, 0],\n",
       "        [0, 3]],\n",
       "\n",
       "       [[6, 0],\n",
       "        [0, 3]]], dtype=int64)"
      ]
     },
     "execution_count": 55,
     "metadata": {},
     "output_type": "execute_result"
    }
   ],
   "source": [
    "multilabel_confusion_matrix(true_labels, predicted_labels,labels=signs)"
   ]
  },
  {
   "cell_type": "code",
   "execution_count": 56,
   "id": "ec74c3c6",
   "metadata": {},
   "outputs": [
    {
     "data": {
      "text/plain": [
       "array([[3, 0, 0],\n",
       "       [0, 3, 0],\n",
       "       [0, 0, 3]], dtype=int64)"
      ]
     },
     "execution_count": 56,
     "metadata": {},
     "output_type": "execute_result"
    }
   ],
   "source": [
    "confusion_matrix(y_true, y_predicted)"
   ]
  },
  {
   "cell_type": "code",
   "execution_count": 57,
   "id": "d125b1d4",
   "metadata": {},
   "outputs": [
    {
     "data": {
      "text/plain": [
       "1.0"
      ]
     },
     "execution_count": 57,
     "metadata": {},
     "output_type": "execute_result"
    }
   ],
   "source": [
    "accuracy_score(y_true,y_predicted)"
   ]
  },
  {
   "cell_type": "code",
   "execution_count": 85,
   "id": "e0b399c0",
   "metadata": {},
   "outputs": [
    {
     "data": {
      "text/plain": [
       "[[0, 0, 0, 0, 1, 0],\n",
       " [0, 0, 0, 0, 0, 1],\n",
       " [0, 0, 0, 1, 0, 0],\n",
       " [0, 0, 0, 1, 0, 0],\n",
       " [0, 1, 0, 0, 0, 0],\n",
       " [0, 0, 0, 0, 1, 0],\n",
       " [1, 0, 0, 0, 0, 0],\n",
       " [1, 0, 0, 0, 0, 0],\n",
       " [1, 0, 0, 0, 0, 0],\n",
       " [0, 1, 0, 0, 0, 0],\n",
       " [1, 0, 0, 0, 0, 0],\n",
       " [0, 0, 1, 0, 0, 0],\n",
       " [1, 0, 0, 0, 0, 0]]"
      ]
     },
     "execution_count": 85,
     "metadata": {},
     "output_type": "execute_result"
    }
   ],
   "source": [
    "y_test.tolist()"
   ]
  },
  {
   "cell_type": "code",
   "execution_count": 100,
   "id": "a67867c9",
   "metadata": {
    "scrolled": true
   },
   "outputs": [
    {
     "data": {
      "text/plain": [
       "[('Food', 'Food'),\n",
       " ('Food', 'Food'),\n",
       " ('Hungry', 'Hungry'),\n",
       " ('Thank You', 'Thank You'),\n",
       " ('Thank You', 'Thank You'),\n",
       " ('Thank You', 'Thank You'),\n",
       " ('Hello', 'Hello'),\n",
       " ('Food', 'Hungry'),\n",
       " ('Hungry', 'Hungry'),\n",
       " ('Hungry', 'Hungry'),\n",
       " ('Hungry', 'Hungry'),\n",
       " ('Food', 'Food')]"
      ]
     },
     "execution_count": 100,
     "metadata": {},
     "output_type": "execute_result"
    }
   ],
   "source": [
    "list(zip(true_labels, predicted_labels))"
   ]
  },
  {
   "cell_type": "code",
   "execution_count": null,
   "id": "859f7993",
   "metadata": {},
   "outputs": [],
   "source": []
  }
 ],
 "metadata": {
  "kernelspec": {
   "display_name": "Python 3 (ipykernel)",
   "language": "python",
   "name": "python3"
  },
  "language_info": {
   "codemirror_mode": {
    "name": "ipython",
    "version": 3
   },
   "file_extension": ".py",
   "mimetype": "text/x-python",
   "name": "python",
   "nbconvert_exporter": "python",
   "pygments_lexer": "ipython3",
   "version": "3.9.10"
  }
 },
 "nbformat": 4,
 "nbformat_minor": 5
}
