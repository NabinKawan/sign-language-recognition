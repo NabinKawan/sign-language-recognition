{
 "cells": [
  {
   "cell_type": "code",
   "execution_count": 1,
   "id": "6c526e65",
   "metadata": {},
   "outputs": [],
   "source": [
    "#\n",
    "import cv2\n",
    "import mediapipe as mp\n",
    "import numpy as np\n",
    "import os"
   ]
  },
  {
   "cell_type": "code",
   "execution_count": 2,
   "id": "e6eb3efe",
   "metadata": {},
   "outputs": [],
   "source": [
    "mpHolistic=mp.solutions.holistic\n",
    "mpDraw=mp.solutions.drawing_utils"
   ]
  },
  {
   "cell_type": "code",
   "execution_count": null,
   "id": "86374235",
   "metadata": {},
   "outputs": [],
   "source": [
    "#draw landmarks in image\n",
    "def drawLandmarks():\n",
    "    mpDraw.draw_landmarks(img,results.face_landmarks,mpHolistic.FACEMESH_CONTOURS,mpDraw.DrawingSpec(color=(80, 110, 10), thickness=1, circle_radius=1),mpDraw.DrawingSpec(color=(80, 256, 121), thickness=2, circle_radius=2))\n",
    "    mpDraw.draw_landmarks(img,results.pose_landmarks,mpHolistic.POSE_CONNECTIONS,mpDraw.DrawingSpec(color=(80, 22, 10), thickness=1, circle_radius=1),mpDraw.DrawingSpec(color=(80, 44, 121), thickness=2, circle_radius=2))\n",
    "    mpDraw.draw_landmarks(img,results.left_hand_landmarks,mpHolistic.HAND_CONNECTIONS,mpDraw.DrawingSpec(color=(121, 22, 90), thickness=1, circle_radius=1),mpDraw.DrawingSpec(color=(255, 100, 112), thickness=2, circle_radius=2))\n",
    "    mpDraw.draw_landmarks(img,results.right_hand_landmarks,mpHolistic.HAND_CONNECTIONS,mpDraw.DrawingSpec(color=(250, 80, 10), thickness=1, circle_radius=1),mpDraw.DrawingSpec(color=(200, 50, 250), thickness=2, circle_radius=2))"
   ]
  },
  {
   "cell_type": "code",
   "execution_count": null,
   "id": "2c123af4",
   "metadata": {},
   "outputs": [],
   "source": [
    "# extract keypoints of the features in image\n",
    "def extractKeypoints():\n",
    "    face=np.array([[res.x,res.y,res.z] for res in results.face_landmarks.landmark]).flatten()if results.face_landmarks else np.zeros(468*3)\n",
    "    leftHand=np.array([[res.x,res.y,res.z] for res in results.left_hand_landmarks.landmark]).flatten()if results.left_hand_landmarks else np.zeros(21*3)\n",
    "    rightHand=np.array([[res.x,res.y,res.z] for res in results.right_hand_landmarks.landmark]).flatten()if results.right_hand_landmarks else np.zeros(21*3)\n",
    "    pose=np.array([[res.x,res.y,res.z,res.visibility] for res in results.pose_landmarks.landmark]).flatten()if results.pose_landmarks else np.zeros(33*4)\n",
    "    return np.concatenate([face,leftHand,rightHand,pose])"
   ]
  },
  {
   "cell_type": "code",
   "execution_count": null,
   "id": "b2539ec9",
   "metadata": {},
   "outputs": [],
   "source": [
    "os.path.join(\"Sign_Images\")"
   ]
  },
  {
   "cell_type": "code",
   "execution_count": 2,
   "id": "7deb8aec",
   "metadata": {},
   "outputs": [],
   "source": [
    "#path for flatten datas\n",
    "dataPath = os.path.join('Sign_Data')\n",
    "\n",
    "#path for images\n",
    "imgPath= os.path.join('Sign_Image')\n",
    "\n",
    "signs=np.array([\"Accident\",\"Ambulance\",\"Clap\",\"Fight\",\"Help\",\"Hospital\",\"Hungry\",\"Ill\",\"Medicine\",\"Washroom\",])\n",
    "\n",
    "#30 video of each sign\n",
    "numSequences=30\n",
    "\n",
    "#length of each video\n",
    "sequenceLength=30"
   ]
  },
  {
   "cell_type": "code",
   "execution_count": 3,
   "id": "fb43e464",
   "metadata": {},
   "outputs": [],
   "source": [
    "for sign in signs:\n",
    "    for sequence in range(numSequences):\n",
    "            try:\n",
    "                os.makedirs(os.path.join(dataPath,sign,str(sequence)))\n",
    "                os.makedirs(os.path.join(imgPath,sign,str(sequence)))\n",
    "            except:\n",
    "                pass\n",
    "# if not os.path.exists(\"Sign_Data\"):\n",
    "#     os.mkdir(\"Sign_Data\")\n",
    "# else:\n",
    "#     print(\"already exist\")\n"
   ]
  },
  {
   "cell_type": "code",
   "execution_count": null,
   "id": "ac010925",
   "metadata": {},
   "outputs": [],
   "source": [
    "os.path??"
   ]
  },
  {
   "cell_type": "code",
   "execution_count": null,
   "id": "bf83f17b",
   "metadata": {},
   "outputs": [],
   "source": [
    "# while True:\n",
    "#     inpt=input(print(\"Select which data are you collecting:\\n0: Hello \\n1: Thank you\"))\n",
    "#     if inpt == '0' or inpt == '1':\n",
    "#         choice=signs[int(inpt)]\n",
    "#         break\n",
    "#     else:\n",
    "#         print(\"Invalid input, please select again!!\")\n",
    "# choice   "
   ]
  },
  {
   "cell_type": "code",
   "execution_count": null,
   "id": "77bbca9f",
   "metadata": {},
   "outputs": [],
   "source": [
    "vid=cv2.VideoCapture(0)\n",
    "with mpHolistic.Holistic() as holistic:\n",
    "\n",
    "    #taking label input \n",
    "     while True:\n",
    "        blankImg = np.zeros(shape=[512, 512, 3], dtype=np.uint8)\n",
    "        cv2.putText(blankImg,\"Select label: \", (10,50),cv2.FONT_HERSHEY_SIMPLEX, 0.8, (255, 0, 0), 1, cv2.LINE_AA)\n",
    "        cv2.putText(blankImg,\"0: Hello , 1: Thank You\", (10,100),cv2.FONT_HERSHEY_SIMPLEX, 0.5, (0, 255, 0), 1, cv2.LINE_AA)\n",
    "        cv2.putText(blankImg,\"2: Hungry , 3: Food\", (10,150),cv2.FONT_HERSHEY_SIMPLEX, 0.5, (0, 255, 0), 1, cv2.LINE_AA)\n",
    "        cv2.putText(blankImg,\"4: Hospital , 5: Washroom\", (10,200),cv2.FONT_HERSHEY_SIMPLEX, 0.5, (0, 255, 0), 1, cv2.LINE_AA)\n",
    "        cv2.putText(blankImg,\"'ESC' to escape\", (10,250),cv2.FONT_HERSHEY_SIMPLEX, 0.5, (0, 0, 255), 1, cv2.LINE_AA)\n",
    "        cv2.imshow('Select label',blankImg)\n",
    "        inpt=cv2.waitKey(0)\n",
    "        if inpt == 48 or inpt == 49 or inpt == 50 or inpt == 51 or inpt == 52 or inpt == 53:\n",
    "            choice=signs[inpt-48]\n",
    "            cv2.destroyWindow('Select label')\n",
    "            break\n",
    "        else:\n",
    "            if inpt==27:\n",
    "                break\n",
    "            \n",
    "    #checking camera is opened or not and taking data    \n",
    "     while vid.isOpened() and inpt!=27 :\n",
    "        for sequence in range(30,60):\n",
    "            for frameNum in range(sequenceLength+1):\n",
    "                #checks for user input to close the windows                \n",
    "                key=cv2.waitKey(1)                  \n",
    "                success,img=vid.read()\n",
    "                \n",
    "                #checking if data is accessed or not from camera\n",
    "                if not success:\n",
    "                    break  \n",
    "                img=cv2.cvtColor(img,cv2.COLOR_BGR2RGB)\n",
    "                # img.flags.writeable=False\n",
    "                results=holistic.process(img) \n",
    "                # img.flags.writeable=True     \n",
    "                img=cv2.cvtColor(img,cv2.COLOR_RGB2BGR)\n",
    "                \n",
    "                #draws landmarks\n",
    "                drawLandmarks()\n",
    "                \n",
    "                #show feed for collecting datas and delays for 2 sec\n",
    "                if frameNum == 0: \n",
    "                    cv2.putText(img, \"Press 'ESC' to escape\", (10,20),cv2.FONT_HERSHEY_SIMPLEX, 0.5, (0, 0, 255), 1, cv2.LINE_AA) \n",
    "                    cv2.putText(img, 'press any key to conitnue', (10,60), \n",
    "                               cv2.FONT_HERSHEY_SIMPLEX, 0.6, (255,0, 0), 1, cv2.LINE_AA)\n",
    "                    cv2.imshow('Collecting Datas', img)\n",
    "                    key= cv2.waitKey(0)\n",
    "                    cv2.waitKey(1000)\n",
    "                    \n",
    "                #starts collecting datas    \n",
    "                else: \n",
    "                    cv2.putText(img, f\"Collecting Data for '{choice}' Video Number {sequence}\", (15,20),cv2.FONT_HERSHEY_SIMPLEX, 0.5, (0, 0, 255), 1, cv2.LINE_AA) \n",
    "                    cv2.imshow('Collecting Datas', img)\n",
    "                    keypoints=extractKeypoints()  \n",
    "                    \n",
    "                    #saving flatten array to datapath\n",
    "                    np.save(os.path.join(dataPath,choice,str(sequence),str(frameNum-1)),keypoints)\n",
    "                    \n",
    "                    #saving image to image path\n",
    "                    jpgPath=os.path.join(imgPath,choice,str(sequence),str(frameNum-1))\n",
    "                    cv2.imwrite(f\"{jpgPath}.jpg\",img)\n",
    "                    key=2 #giving default value for key to avoid esc while taking data\n",
    "                \n",
    "                if key == 27 : #press esc to close the window\n",
    "                    break     \n",
    "\n",
    "            if key == 27 : #press esc to close the window\n",
    "                break        \n",
    "        if key == 27 : #press esc to close the window\n",
    "            break             \n",
    "            \n",
    "#releasing the port            \n",
    "vid.release() \n",
    "\n",
    "#destroying all opened windows using opencv\n",
    "cv2.destroyAllWindows()            "
   ]
  },
  {
   "cell_type": "markdown",
   "id": "4edce1ee",
   "metadata": {},
   "source": [
    "# Preprocess Data and Create Labels and Features"
   ]
  },
  {
   "cell_type": "code",
   "execution_count": 4,
   "id": "b53f2250",
   "metadata": {},
   "outputs": [],
   "source": [
    "from sklearn.model_selection import train_test_split\n",
    "from tensorflow.keras.utils import to_categorical"
   ]
  },
  {
   "cell_type": "code",
   "execution_count": 5,
   "id": "b58714ed",
   "metadata": {},
   "outputs": [],
   "source": [
    "label_map = {label:num for num, label in enumerate(signs)}"
   ]
  },
  {
   "cell_type": "code",
   "execution_count": 7,
   "id": "aa789dee",
   "metadata": {},
   "outputs": [
    {
     "data": {
      "text/plain": [
       "{'Accident': 0,\n",
       " 'Ambulance': 1,\n",
       " 'Clap': 2,\n",
       " 'Fight': 3,\n",
       " 'Help': 4,\n",
       " 'Hospital': 5,\n",
       " 'Hungry': 6,\n",
       " 'Ill': 7,\n",
       " 'Medicine': 8,\n",
       " 'Washroom': 9}"
      ]
     },
     "execution_count": 7,
     "metadata": {},
     "output_type": "execute_result"
    }
   ],
   "source": [
    "label_map"
   ]
  },
  {
   "cell_type": "code",
   "execution_count": 6,
   "id": "1af8e33d",
   "metadata": {},
   "outputs": [],
   "source": [
    "sequences, labels = [], []\n",
    "for sign in signs:\n",
    "    for sequence in range(numSequences):\n",
    "        window = []\n",
    "        for frameNum in range(sequenceLength):\n",
    "            res = np.load(os.path.join(dataPath, sign, str(sequence), \"{}.npy\".format(frameNum)))\n",
    "            window.append(res)\n",
    "        sequences.append(window)\n",
    "        labels.append(label_map[sign])"
   ]
  },
  {
   "cell_type": "code",
   "execution_count": 9,
   "id": "8088e81b",
   "metadata": {},
   "outputs": [
    {
     "data": {
      "text/plain": [
       "(300,)"
      ]
     },
     "execution_count": 9,
     "metadata": {},
     "output_type": "execute_result"
    }
   ],
   "source": [
    "np.array(labels).shape"
   ]
  },
  {
   "cell_type": "code",
   "execution_count": 7,
   "id": "ec0c5771",
   "metadata": {},
   "outputs": [
    {
     "data": {
      "text/plain": [
       "(300, 30, 1662)"
      ]
     },
     "execution_count": 7,
     "metadata": {},
     "output_type": "execute_result"
    }
   ],
   "source": [
    "np.array(sequences).shape"
   ]
  },
  {
   "cell_type": "code",
   "execution_count": 8,
   "id": "90d56a3e",
   "metadata": {},
   "outputs": [],
   "source": [
    "arr=np.array([[[1,2],[3,4],[5,6]],[[1,2],[3,4],[5,6]]])"
   ]
  },
  {
   "cell_type": "code",
   "execution_count": null,
   "id": "3e5ea6d1",
   "metadata": {},
   "outputs": [],
   "source": [
    "arr.shape"
   ]
  },
  {
   "cell_type": "code",
   "execution_count": 9,
   "id": "4b00c22c",
   "metadata": {},
   "outputs": [],
   "source": [
    "X = np.array(sequences)"
   ]
  },
  {
   "cell_type": "code",
   "execution_count": null,
   "id": "4a1eb1ce",
   "metadata": {},
   "outputs": [],
   "source": [
    "X.shape"
   ]
  },
  {
   "cell_type": "code",
   "execution_count": 10,
   "id": "37b12529",
   "metadata": {},
   "outputs": [],
   "source": [
    "y = to_categorical(labels).astype(int)"
   ]
  },
  {
   "cell_type": "code",
   "execution_count": null,
   "id": "1f2c8e9c",
   "metadata": {},
   "outputs": [],
   "source": [
    "y.shape"
   ]
  },
  {
   "cell_type": "code",
   "execution_count": null,
   "id": "4a7a24e3",
   "metadata": {},
   "outputs": [],
   "source": []
  },
  {
   "cell_type": "code",
   "execution_count": 11,
   "id": "4553ce7e",
   "metadata": {},
   "outputs": [],
   "source": [
    "X_train, X_test, y_train, y_test = train_test_split(X, y, test_size=0.1)"
   ]
  },
  {
   "cell_type": "code",
   "execution_count": null,
   "id": "f9fe2fed",
   "metadata": {},
   "outputs": [],
   "source": [
    "y_test.shape"
   ]
  },
  {
   "cell_type": "markdown",
   "id": "e16e463d",
   "metadata": {},
   "source": [
    "# Save test datas and signs"
   ]
  },
  {
   "cell_type": "code",
   "execution_count": 12,
   "id": "5d8a8450",
   "metadata": {},
   "outputs": [],
   "source": [
    "testDatasPath=os.path.join(\"Test_Datas\")\n",
    "signsPath=os.path.join(\"Signs\")\n",
    "try:\n",
    "    os.makedirs(os.path.join(testDatasPath))\n",
    "    os.makedirs(os.path.join(signsPath))\n",
    "except:\n",
    "    pass\n",
    "np.save(os.path.join(testDatasPath,'x_test.npy'),X_test)\n",
    "np.save(os.path.join(testDatasPath,'y_test.npy'),y_test)\n",
    "np.save(os.path.join(signsPath,'signs.npy'),signs)"
   ]
  },
  {
   "cell_type": "markdown",
   "id": "76d27352",
   "metadata": {},
   "source": [
    "# Build and Train LSTM Neural Network"
   ]
  },
  {
   "cell_type": "code",
   "execution_count": 13,
   "id": "2e5b49ee",
   "metadata": {},
   "outputs": [],
   "source": [
    "from tensorflow.keras.models import Sequential\n",
    "from tensorflow.keras.layers import LSTM, Dense\n",
    "from tensorflow.keras.callbacks import TensorBoard"
   ]
  },
  {
   "cell_type": "code",
   "execution_count": 14,
   "id": "0dbaaefc",
   "metadata": {},
   "outputs": [],
   "source": [
    "def createModel():\n",
    "    model = Sequential()\n",
    "    model.add(LSTM(256, return_sequences=True, activation='relu', input_shape=(30,1662)))\n",
    "    model.add(LSTM(128, return_sequences=True, activation='relu'))\n",
    "    model.add(LSTM(64, return_sequences=False, activation='relu'))\n",
    "    model.add(Dense(64, activation='relu'))\n",
    "    model.add(Dense(32, activation='relu'))\n",
    "    model.add(Dense(signs.shape[0], activation='softmax'))\n",
    "    return model"
   ]
  },
  {
   "cell_type": "code",
   "execution_count": 15,
   "id": "9b0ed802",
   "metadata": {},
   "outputs": [],
   "source": [
    "model=createModel()"
   ]
  },
  {
   "cell_type": "code",
   "execution_count": 19,
   "id": "b1c22a3a",
   "metadata": {},
   "outputs": [],
   "source": [
    "res = [.7, 0.2, 0.1]"
   ]
  },
  {
   "cell_type": "code",
   "execution_count": 20,
   "id": "e48c007e",
   "metadata": {},
   "outputs": [
    {
     "data": {
      "text/plain": [
       "'Accident'"
      ]
     },
     "execution_count": 20,
     "metadata": {},
     "output_type": "execute_result"
    }
   ],
   "source": [
    "signs[np.argmax(res)]"
   ]
  },
  {
   "cell_type": "code",
   "execution_count": 16,
   "id": "d353295f",
   "metadata": {},
   "outputs": [],
   "source": [
    "model.compile(optimizer='Adam', loss='categorical_crossentropy', metrics=['categorical_accuracy'])"
   ]
  },
  {
   "cell_type": "code",
   "execution_count": 17,
   "id": "ff92e43b",
   "metadata": {},
   "outputs": [],
   "source": [
    "log_dir = os.path.join('Logs')\n",
    "tb_callback = TensorBoard(log_dir=log_dir)"
   ]
  },
  {
   "cell_type": "code",
   "execution_count": 18,
   "id": "ead1063c",
   "metadata": {},
   "outputs": [
    {
     "name": "stdout",
     "output_type": "stream",
     "text": [
      "Epoch 1/1500\n",
      "9/9 [==============================] - 4s 181ms/step - loss: 538.3122 - categorical_accuracy: 0.0889\n",
      "Epoch 2/1500\n",
      "9/9 [==============================] - 2s 209ms/step - loss: 923.5307 - categorical_accuracy: 0.1111\n",
      "Epoch 3/1500\n",
      "9/9 [==============================] - 2s 254ms/step - loss: 1112.2878 - categorical_accuracy: 0.1630\n",
      "Epoch 4/1500\n",
      "9/9 [==============================] - 3s 296ms/step - loss: 1239.9349 - categorical_accuracy: 0.0926\n",
      "Epoch 5/1500\n",
      "9/9 [==============================] - 2s 258ms/step - loss: 1249.0972 - categorical_accuracy: 0.0963\n",
      "Epoch 6/1500\n",
      "9/9 [==============================] - 3s 333ms/step - loss: 349.2894 - categorical_accuracy: 0.1074\n",
      "Epoch 7/1500\n",
      "9/9 [==============================] - 3s 322ms/step - loss: 513.8447 - categorical_accuracy: 0.1000\n",
      "Epoch 8/1500\n",
      "9/9 [==============================] - 2s 179ms/step - loss: 530.9227 - categorical_accuracy: 0.0852\n",
      "Epoch 9/1500\n",
      "9/9 [==============================] - 1s 152ms/step - loss: 945.2396 - categorical_accuracy: 0.1185\n",
      "Epoch 10/1500\n",
      "9/9 [==============================] - 2s 188ms/step - loss: 1157.9188 - categorical_accuracy: 0.1222\n",
      "Epoch 11/1500\n",
      "9/9 [==============================] - 1s 155ms/step - loss: 1330.6000 - categorical_accuracy: 0.0963\n",
      "Epoch 12/1500\n",
      "9/9 [==============================] - 1s 154ms/step - loss: 1088.0682 - categorical_accuracy: 0.1000\n",
      "Epoch 13/1500\n",
      "9/9 [==============================] - 2s 167ms/step - loss: 2.3034 - categorical_accuracy: 0.0889\n",
      "Epoch 14/1500\n",
      "9/9 [==============================] - 2s 182ms/step - loss: 3.3472 - categorical_accuracy: 0.0815\n",
      "Epoch 15/1500\n",
      "9/9 [==============================] - 1s 150ms/step - loss: 2.3035 - categorical_accuracy: 0.0889\n",
      "Epoch 16/1500\n",
      "9/9 [==============================] - 2s 187ms/step - loss: 2.3034 - categorical_accuracy: 0.0889\n",
      "Epoch 17/1500\n",
      "9/9 [==============================] - 1s 149ms/step - loss: 2.3034 - categorical_accuracy: 0.0889\n",
      "Epoch 18/1500\n",
      "9/9 [==============================] - 1s 145ms/step - loss: 2.3034 - categorical_accuracy: 0.0889\n",
      "Epoch 19/1500\n",
      "9/9 [==============================] - 1s 160ms/step - loss: 2.3033 - categorical_accuracy: 0.0889\n",
      "Epoch 20/1500\n",
      "9/9 [==============================] - 1s 148ms/step - loss: 2.3033 - categorical_accuracy: 0.0889\n",
      "Epoch 21/1500\n",
      "9/9 [==============================] - 1s 152ms/step - loss: 2.3032 - categorical_accuracy: 0.0889\n",
      "Epoch 22/1500\n",
      "9/9 [==============================] - 1s 148ms/step - loss: 2.3032 - categorical_accuracy: 0.0889\n",
      "Epoch 23/1500\n",
      "9/9 [==============================] - 1s 143ms/step - loss: 2.3032 - categorical_accuracy: 0.0889\n",
      "Epoch 24/1500\n",
      "9/9 [==============================] - 1s 147ms/step - loss: 2.3031 - categorical_accuracy: 0.1000\n",
      "Epoch 25/1500\n",
      "9/9 [==============================] - 1s 149ms/step - loss: 2.3031 - categorical_accuracy: 0.1000\n",
      "Epoch 26/1500\n",
      "9/9 [==============================] - 1s 159ms/step - loss: 2.3031 - categorical_accuracy: 0.1000\n",
      "Epoch 27/1500\n",
      "9/9 [==============================] - 1s 144ms/step - loss: 2.3030 - categorical_accuracy: 0.1000\n",
      "Epoch 28/1500\n",
      "9/9 [==============================] - 1s 146ms/step - loss: 2.3030 - categorical_accuracy: 0.1000\n",
      "Epoch 29/1500\n",
      "9/9 [==============================] - 1s 151ms/step - loss: 2.3029 - categorical_accuracy: 0.1000\n",
      "Epoch 30/1500\n",
      "9/9 [==============================] - 1s 147ms/step - loss: 2.3029 - categorical_accuracy: 0.1000\n",
      "Epoch 31/1500\n",
      "9/9 [==============================] - 2s 169ms/step - loss: 2.3029 - categorical_accuracy: 0.1000\n",
      "Epoch 32/1500\n",
      "9/9 [==============================] - 1s 142ms/step - loss: 2.3028 - categorical_accuracy: 0.1000\n",
      "Epoch 33/1500\n",
      "9/9 [==============================] - 2s 183ms/step - loss: 2.3028 - categorical_accuracy: 0.1000\n",
      "Epoch 34/1500\n",
      "9/9 [==============================] - 2s 176ms/step - loss: 2.3028 - categorical_accuracy: 0.1111\n",
      "Epoch 35/1500\n",
      "9/9 [==============================] - 2s 165ms/step - loss: 2.3027 - categorical_accuracy: 0.1111\n",
      "Epoch 36/1500\n",
      "9/9 [==============================] - 2s 235ms/step - loss: 2.3027 - categorical_accuracy: 0.1111\n",
      "Epoch 37/1500\n",
      "9/9 [==============================] - 1s 165ms/step - loss: 2.3026 - categorical_accuracy: 0.1111\n",
      "Epoch 38/1500\n",
      "9/9 [==============================] - 2s 172ms/step - loss: 2.3026 - categorical_accuracy: 0.1111\n",
      "Epoch 39/1500\n",
      "9/9 [==============================] - 2s 177ms/step - loss: 2.3025 - categorical_accuracy: 0.1111\n",
      "Epoch 40/1500\n",
      "9/9 [==============================] - 2s 226ms/step - loss: 2.3025 - categorical_accuracy: 0.1111\n",
      "Epoch 41/1500\n",
      "9/9 [==============================] - 1s 159ms/step - loss: 2.3025 - categorical_accuracy: 0.1111\n",
      "Epoch 42/1500\n",
      "9/9 [==============================] - 1s 158ms/step - loss: 2.3024 - categorical_accuracy: 0.1111\n",
      "Epoch 43/1500\n",
      "9/9 [==============================] - 1s 159ms/step - loss: 2.3024 - categorical_accuracy: 0.1111\n",
      "Epoch 44/1500\n",
      "9/9 [==============================] - 1s 161ms/step - loss: 2.3024 - categorical_accuracy: 0.1111\n",
      "Epoch 45/1500\n",
      "9/9 [==============================] - 1s 155ms/step - loss: 2.3023 - categorical_accuracy: 0.1111\n",
      "Epoch 46/1500\n",
      "9/9 [==============================] - 1s 157ms/step - loss: 2.3023 - categorical_accuracy: 0.1111\n",
      "Epoch 47/1500\n",
      "9/9 [==============================] - 1s 164ms/step - loss: 2.3023 - categorical_accuracy: 0.1111\n",
      "Epoch 48/1500\n",
      "9/9 [==============================] - 1s 160ms/step - loss: 2.3023 - categorical_accuracy: 0.1111\n",
      "Epoch 49/1500\n",
      "9/9 [==============================] - 1s 160ms/step - loss: 2.3022 - categorical_accuracy: 0.1111\n",
      "Epoch 50/1500\n",
      "9/9 [==============================] - 1s 155ms/step - loss: 2.3022 - categorical_accuracy: 0.1111\n",
      "Epoch 51/1500\n",
      "9/9 [==============================] - 2s 168ms/step - loss: 2.3021 - categorical_accuracy: 0.1111\n",
      "Epoch 52/1500\n",
      "2/9 [=====>........................] - ETA: 1s - loss: 2.3011 - categorical_accuracy: 0.1406"
     ]
    },
    {
     "ename": "KeyboardInterrupt",
     "evalue": "",
     "output_type": "error",
     "traceback": [
      "\u001b[1;31m---------------------------------------------------------------------------\u001b[0m",
      "\u001b[1;31mKeyboardInterrupt\u001b[0m                         Traceback (most recent call last)",
      "\u001b[1;32md:\\Minor Project\\saskar branch\\sign-language-recognition\\Sign_Langugage_Recognition-checkpoint.ipynb Cell 37'\u001b[0m in \u001b[0;36m<module>\u001b[1;34m\u001b[0m\n\u001b[1;32m----> <a href='vscode-notebook-cell:/d%3A/Minor%20Project/saskar%20branch/sign-language-recognition/Sign_Langugage_Recognition-checkpoint.ipynb#ch0000036?line=0'>1</a>\u001b[0m model\u001b[39m.\u001b[39;49mfit(X_train, y_train, epochs\u001b[39m=\u001b[39;49m\u001b[39m1500\u001b[39;49m, callbacks\u001b[39m=\u001b[39;49m[tb_callback])\n",
      "File \u001b[1;32m~\\AppData\\Local\\Packages\\PythonSoftwareFoundation.Python.3.10_qbz5n2kfra8p0\\LocalCache\\local-packages\\Python310\\site-packages\\keras\\utils\\traceback_utils.py:64\u001b[0m, in \u001b[0;36mfilter_traceback.<locals>.error_handler\u001b[1;34m(*args, **kwargs)\u001b[0m\n\u001b[0;32m     <a href='file:///~/AppData/Local/Packages/PythonSoftwareFoundation.Python.3.10_qbz5n2kfra8p0/LocalCache/local-packages/Python310/site-packages/keras/utils/traceback_utils.py?line=61'>62</a>\u001b[0m filtered_tb \u001b[39m=\u001b[39m \u001b[39mNone\u001b[39;00m\n\u001b[0;32m     <a href='file:///~/AppData/Local/Packages/PythonSoftwareFoundation.Python.3.10_qbz5n2kfra8p0/LocalCache/local-packages/Python310/site-packages/keras/utils/traceback_utils.py?line=62'>63</a>\u001b[0m \u001b[39mtry\u001b[39;00m:\n\u001b[1;32m---> <a href='file:///~/AppData/Local/Packages/PythonSoftwareFoundation.Python.3.10_qbz5n2kfra8p0/LocalCache/local-packages/Python310/site-packages/keras/utils/traceback_utils.py?line=63'>64</a>\u001b[0m   \u001b[39mreturn\u001b[39;00m fn(\u001b[39m*\u001b[39margs, \u001b[39m*\u001b[39m\u001b[39m*\u001b[39mkwargs)\n\u001b[0;32m     <a href='file:///~/AppData/Local/Packages/PythonSoftwareFoundation.Python.3.10_qbz5n2kfra8p0/LocalCache/local-packages/Python310/site-packages/keras/utils/traceback_utils.py?line=64'>65</a>\u001b[0m \u001b[39mexcept\u001b[39;00m \u001b[39mException\u001b[39;00m \u001b[39mas\u001b[39;00m e:  \u001b[39m# pylint: disable=broad-except\u001b[39;00m\n\u001b[0;32m     <a href='file:///~/AppData/Local/Packages/PythonSoftwareFoundation.Python.3.10_qbz5n2kfra8p0/LocalCache/local-packages/Python310/site-packages/keras/utils/traceback_utils.py?line=65'>66</a>\u001b[0m   filtered_tb \u001b[39m=\u001b[39m _process_traceback_frames(e\u001b[39m.\u001b[39m__traceback__)\n",
      "File \u001b[1;32m~\\AppData\\Local\\Packages\\PythonSoftwareFoundation.Python.3.10_qbz5n2kfra8p0\\LocalCache\\local-packages\\Python310\\site-packages\\keras\\engine\\training.py:1384\u001b[0m, in \u001b[0;36mModel.fit\u001b[1;34m(self, x, y, batch_size, epochs, verbose, callbacks, validation_split, validation_data, shuffle, class_weight, sample_weight, initial_epoch, steps_per_epoch, validation_steps, validation_batch_size, validation_freq, max_queue_size, workers, use_multiprocessing)\u001b[0m\n\u001b[0;32m   <a href='file:///~/AppData/Local/Packages/PythonSoftwareFoundation.Python.3.10_qbz5n2kfra8p0/LocalCache/local-packages/Python310/site-packages/keras/engine/training.py?line=1376'>1377</a>\u001b[0m \u001b[39mwith\u001b[39;00m tf\u001b[39m.\u001b[39mprofiler\u001b[39m.\u001b[39mexperimental\u001b[39m.\u001b[39mTrace(\n\u001b[0;32m   <a href='file:///~/AppData/Local/Packages/PythonSoftwareFoundation.Python.3.10_qbz5n2kfra8p0/LocalCache/local-packages/Python310/site-packages/keras/engine/training.py?line=1377'>1378</a>\u001b[0m     \u001b[39m'\u001b[39m\u001b[39mtrain\u001b[39m\u001b[39m'\u001b[39m,\n\u001b[0;32m   <a href='file:///~/AppData/Local/Packages/PythonSoftwareFoundation.Python.3.10_qbz5n2kfra8p0/LocalCache/local-packages/Python310/site-packages/keras/engine/training.py?line=1378'>1379</a>\u001b[0m     epoch_num\u001b[39m=\u001b[39mepoch,\n\u001b[0;32m   <a href='file:///~/AppData/Local/Packages/PythonSoftwareFoundation.Python.3.10_qbz5n2kfra8p0/LocalCache/local-packages/Python310/site-packages/keras/engine/training.py?line=1379'>1380</a>\u001b[0m     step_num\u001b[39m=\u001b[39mstep,\n\u001b[0;32m   <a href='file:///~/AppData/Local/Packages/PythonSoftwareFoundation.Python.3.10_qbz5n2kfra8p0/LocalCache/local-packages/Python310/site-packages/keras/engine/training.py?line=1380'>1381</a>\u001b[0m     batch_size\u001b[39m=\u001b[39mbatch_size,\n\u001b[0;32m   <a href='file:///~/AppData/Local/Packages/PythonSoftwareFoundation.Python.3.10_qbz5n2kfra8p0/LocalCache/local-packages/Python310/site-packages/keras/engine/training.py?line=1381'>1382</a>\u001b[0m     _r\u001b[39m=\u001b[39m\u001b[39m1\u001b[39m):\n\u001b[0;32m   <a href='file:///~/AppData/Local/Packages/PythonSoftwareFoundation.Python.3.10_qbz5n2kfra8p0/LocalCache/local-packages/Python310/site-packages/keras/engine/training.py?line=1382'>1383</a>\u001b[0m   callbacks\u001b[39m.\u001b[39mon_train_batch_begin(step)\n\u001b[1;32m-> <a href='file:///~/AppData/Local/Packages/PythonSoftwareFoundation.Python.3.10_qbz5n2kfra8p0/LocalCache/local-packages/Python310/site-packages/keras/engine/training.py?line=1383'>1384</a>\u001b[0m   tmp_logs \u001b[39m=\u001b[39m \u001b[39mself\u001b[39;49m\u001b[39m.\u001b[39;49mtrain_function(iterator)\n\u001b[0;32m   <a href='file:///~/AppData/Local/Packages/PythonSoftwareFoundation.Python.3.10_qbz5n2kfra8p0/LocalCache/local-packages/Python310/site-packages/keras/engine/training.py?line=1384'>1385</a>\u001b[0m   \u001b[39mif\u001b[39;00m data_handler\u001b[39m.\u001b[39mshould_sync:\n\u001b[0;32m   <a href='file:///~/AppData/Local/Packages/PythonSoftwareFoundation.Python.3.10_qbz5n2kfra8p0/LocalCache/local-packages/Python310/site-packages/keras/engine/training.py?line=1385'>1386</a>\u001b[0m     context\u001b[39m.\u001b[39masync_wait()\n",
      "File \u001b[1;32m~\\AppData\\Local\\Packages\\PythonSoftwareFoundation.Python.3.10_qbz5n2kfra8p0\\LocalCache\\local-packages\\Python310\\site-packages\\tensorflow\\python\\util\\traceback_utils.py:150\u001b[0m, in \u001b[0;36mfilter_traceback.<locals>.error_handler\u001b[1;34m(*args, **kwargs)\u001b[0m\n\u001b[0;32m    <a href='file:///~/AppData/Local/Packages/PythonSoftwareFoundation.Python.3.10_qbz5n2kfra8p0/LocalCache/local-packages/Python310/site-packages/tensorflow/python/util/traceback_utils.py?line=147'>148</a>\u001b[0m filtered_tb \u001b[39m=\u001b[39m \u001b[39mNone\u001b[39;00m\n\u001b[0;32m    <a href='file:///~/AppData/Local/Packages/PythonSoftwareFoundation.Python.3.10_qbz5n2kfra8p0/LocalCache/local-packages/Python310/site-packages/tensorflow/python/util/traceback_utils.py?line=148'>149</a>\u001b[0m \u001b[39mtry\u001b[39;00m:\n\u001b[1;32m--> <a href='file:///~/AppData/Local/Packages/PythonSoftwareFoundation.Python.3.10_qbz5n2kfra8p0/LocalCache/local-packages/Python310/site-packages/tensorflow/python/util/traceback_utils.py?line=149'>150</a>\u001b[0m   \u001b[39mreturn\u001b[39;00m fn(\u001b[39m*\u001b[39margs, \u001b[39m*\u001b[39m\u001b[39m*\u001b[39mkwargs)\n\u001b[0;32m    <a href='file:///~/AppData/Local/Packages/PythonSoftwareFoundation.Python.3.10_qbz5n2kfra8p0/LocalCache/local-packages/Python310/site-packages/tensorflow/python/util/traceback_utils.py?line=150'>151</a>\u001b[0m \u001b[39mexcept\u001b[39;00m \u001b[39mException\u001b[39;00m \u001b[39mas\u001b[39;00m e:\n\u001b[0;32m    <a href='file:///~/AppData/Local/Packages/PythonSoftwareFoundation.Python.3.10_qbz5n2kfra8p0/LocalCache/local-packages/Python310/site-packages/tensorflow/python/util/traceback_utils.py?line=151'>152</a>\u001b[0m   filtered_tb \u001b[39m=\u001b[39m _process_traceback_frames(e\u001b[39m.\u001b[39m__traceback__)\n",
      "File \u001b[1;32m~\\AppData\\Local\\Packages\\PythonSoftwareFoundation.Python.3.10_qbz5n2kfra8p0\\LocalCache\\local-packages\\Python310\\site-packages\\tensorflow\\python\\eager\\def_function.py:915\u001b[0m, in \u001b[0;36mFunction.__call__\u001b[1;34m(self, *args, **kwds)\u001b[0m\n\u001b[0;32m    <a href='file:///~/AppData/Local/Packages/PythonSoftwareFoundation.Python.3.10_qbz5n2kfra8p0/LocalCache/local-packages/Python310/site-packages/tensorflow/python/eager/def_function.py?line=911'>912</a>\u001b[0m compiler \u001b[39m=\u001b[39m \u001b[39m\"\u001b[39m\u001b[39mxla\u001b[39m\u001b[39m\"\u001b[39m \u001b[39mif\u001b[39;00m \u001b[39mself\u001b[39m\u001b[39m.\u001b[39m_jit_compile \u001b[39melse\u001b[39;00m \u001b[39m\"\u001b[39m\u001b[39mnonXla\u001b[39m\u001b[39m\"\u001b[39m\n\u001b[0;32m    <a href='file:///~/AppData/Local/Packages/PythonSoftwareFoundation.Python.3.10_qbz5n2kfra8p0/LocalCache/local-packages/Python310/site-packages/tensorflow/python/eager/def_function.py?line=913'>914</a>\u001b[0m \u001b[39mwith\u001b[39;00m OptionalXlaContext(\u001b[39mself\u001b[39m\u001b[39m.\u001b[39m_jit_compile):\n\u001b[1;32m--> <a href='file:///~/AppData/Local/Packages/PythonSoftwareFoundation.Python.3.10_qbz5n2kfra8p0/LocalCache/local-packages/Python310/site-packages/tensorflow/python/eager/def_function.py?line=914'>915</a>\u001b[0m   result \u001b[39m=\u001b[39m \u001b[39mself\u001b[39m\u001b[39m.\u001b[39m_call(\u001b[39m*\u001b[39margs, \u001b[39m*\u001b[39m\u001b[39m*\u001b[39mkwds)\n\u001b[0;32m    <a href='file:///~/AppData/Local/Packages/PythonSoftwareFoundation.Python.3.10_qbz5n2kfra8p0/LocalCache/local-packages/Python310/site-packages/tensorflow/python/eager/def_function.py?line=916'>917</a>\u001b[0m new_tracing_count \u001b[39m=\u001b[39m \u001b[39mself\u001b[39m\u001b[39m.\u001b[39mexperimental_get_tracing_count()\n\u001b[0;32m    <a href='file:///~/AppData/Local/Packages/PythonSoftwareFoundation.Python.3.10_qbz5n2kfra8p0/LocalCache/local-packages/Python310/site-packages/tensorflow/python/eager/def_function.py?line=917'>918</a>\u001b[0m without_tracing \u001b[39m=\u001b[39m (tracing_count \u001b[39m==\u001b[39m new_tracing_count)\n",
      "File \u001b[1;32m~\\AppData\\Local\\Packages\\PythonSoftwareFoundation.Python.3.10_qbz5n2kfra8p0\\LocalCache\\local-packages\\Python310\\site-packages\\tensorflow\\python\\eager\\def_function.py:947\u001b[0m, in \u001b[0;36mFunction._call\u001b[1;34m(self, *args, **kwds)\u001b[0m\n\u001b[0;32m    <a href='file:///~/AppData/Local/Packages/PythonSoftwareFoundation.Python.3.10_qbz5n2kfra8p0/LocalCache/local-packages/Python310/site-packages/tensorflow/python/eager/def_function.py?line=943'>944</a>\u001b[0m   \u001b[39mself\u001b[39m\u001b[39m.\u001b[39m_lock\u001b[39m.\u001b[39mrelease()\n\u001b[0;32m    <a href='file:///~/AppData/Local/Packages/PythonSoftwareFoundation.Python.3.10_qbz5n2kfra8p0/LocalCache/local-packages/Python310/site-packages/tensorflow/python/eager/def_function.py?line=944'>945</a>\u001b[0m   \u001b[39m# In this case we have created variables on the first call, so we run the\u001b[39;00m\n\u001b[0;32m    <a href='file:///~/AppData/Local/Packages/PythonSoftwareFoundation.Python.3.10_qbz5n2kfra8p0/LocalCache/local-packages/Python310/site-packages/tensorflow/python/eager/def_function.py?line=945'>946</a>\u001b[0m   \u001b[39m# defunned version which is guaranteed to never create variables.\u001b[39;00m\n\u001b[1;32m--> <a href='file:///~/AppData/Local/Packages/PythonSoftwareFoundation.Python.3.10_qbz5n2kfra8p0/LocalCache/local-packages/Python310/site-packages/tensorflow/python/eager/def_function.py?line=946'>947</a>\u001b[0m   \u001b[39mreturn\u001b[39;00m \u001b[39mself\u001b[39m\u001b[39m.\u001b[39m_stateless_fn(\u001b[39m*\u001b[39margs, \u001b[39m*\u001b[39m\u001b[39m*\u001b[39mkwds)  \u001b[39m# pylint: disable=not-callable\u001b[39;00m\n\u001b[0;32m    <a href='file:///~/AppData/Local/Packages/PythonSoftwareFoundation.Python.3.10_qbz5n2kfra8p0/LocalCache/local-packages/Python310/site-packages/tensorflow/python/eager/def_function.py?line=947'>948</a>\u001b[0m \u001b[39melif\u001b[39;00m \u001b[39mself\u001b[39m\u001b[39m.\u001b[39m_stateful_fn \u001b[39mis\u001b[39;00m \u001b[39mnot\u001b[39;00m \u001b[39mNone\u001b[39;00m:\n\u001b[0;32m    <a href='file:///~/AppData/Local/Packages/PythonSoftwareFoundation.Python.3.10_qbz5n2kfra8p0/LocalCache/local-packages/Python310/site-packages/tensorflow/python/eager/def_function.py?line=948'>949</a>\u001b[0m   \u001b[39m# Release the lock early so that multiple threads can perform the call\u001b[39;00m\n\u001b[0;32m    <a href='file:///~/AppData/Local/Packages/PythonSoftwareFoundation.Python.3.10_qbz5n2kfra8p0/LocalCache/local-packages/Python310/site-packages/tensorflow/python/eager/def_function.py?line=949'>950</a>\u001b[0m   \u001b[39m# in parallel.\u001b[39;00m\n\u001b[0;32m    <a href='file:///~/AppData/Local/Packages/PythonSoftwareFoundation.Python.3.10_qbz5n2kfra8p0/LocalCache/local-packages/Python310/site-packages/tensorflow/python/eager/def_function.py?line=950'>951</a>\u001b[0m   \u001b[39mself\u001b[39m\u001b[39m.\u001b[39m_lock\u001b[39m.\u001b[39mrelease()\n",
      "File \u001b[1;32m~\\AppData\\Local\\Packages\\PythonSoftwareFoundation.Python.3.10_qbz5n2kfra8p0\\LocalCache\\local-packages\\Python310\\site-packages\\tensorflow\\python\\eager\\function.py:2956\u001b[0m, in \u001b[0;36mFunction.__call__\u001b[1;34m(self, *args, **kwargs)\u001b[0m\n\u001b[0;32m   <a href='file:///~/AppData/Local/Packages/PythonSoftwareFoundation.Python.3.10_qbz5n2kfra8p0/LocalCache/local-packages/Python310/site-packages/tensorflow/python/eager/function.py?line=2952'>2953</a>\u001b[0m \u001b[39mwith\u001b[39;00m \u001b[39mself\u001b[39m\u001b[39m.\u001b[39m_lock:\n\u001b[0;32m   <a href='file:///~/AppData/Local/Packages/PythonSoftwareFoundation.Python.3.10_qbz5n2kfra8p0/LocalCache/local-packages/Python310/site-packages/tensorflow/python/eager/function.py?line=2953'>2954</a>\u001b[0m   (graph_function,\n\u001b[0;32m   <a href='file:///~/AppData/Local/Packages/PythonSoftwareFoundation.Python.3.10_qbz5n2kfra8p0/LocalCache/local-packages/Python310/site-packages/tensorflow/python/eager/function.py?line=2954'>2955</a>\u001b[0m    filtered_flat_args) \u001b[39m=\u001b[39m \u001b[39mself\u001b[39m\u001b[39m.\u001b[39m_maybe_define_function(args, kwargs)\n\u001b[1;32m-> <a href='file:///~/AppData/Local/Packages/PythonSoftwareFoundation.Python.3.10_qbz5n2kfra8p0/LocalCache/local-packages/Python310/site-packages/tensorflow/python/eager/function.py?line=2955'>2956</a>\u001b[0m \u001b[39mreturn\u001b[39;00m graph_function\u001b[39m.\u001b[39;49m_call_flat(\n\u001b[0;32m   <a href='file:///~/AppData/Local/Packages/PythonSoftwareFoundation.Python.3.10_qbz5n2kfra8p0/LocalCache/local-packages/Python310/site-packages/tensorflow/python/eager/function.py?line=2956'>2957</a>\u001b[0m     filtered_flat_args, captured_inputs\u001b[39m=\u001b[39;49mgraph_function\u001b[39m.\u001b[39;49mcaptured_inputs)\n",
      "File \u001b[1;32m~\\AppData\\Local\\Packages\\PythonSoftwareFoundation.Python.3.10_qbz5n2kfra8p0\\LocalCache\\local-packages\\Python310\\site-packages\\tensorflow\\python\\eager\\function.py:1853\u001b[0m, in \u001b[0;36mConcreteFunction._call_flat\u001b[1;34m(self, args, captured_inputs, cancellation_manager)\u001b[0m\n\u001b[0;32m   <a href='file:///~/AppData/Local/Packages/PythonSoftwareFoundation.Python.3.10_qbz5n2kfra8p0/LocalCache/local-packages/Python310/site-packages/tensorflow/python/eager/function.py?line=1848'>1849</a>\u001b[0m possible_gradient_type \u001b[39m=\u001b[39m gradients_util\u001b[39m.\u001b[39mPossibleTapeGradientTypes(args)\n\u001b[0;32m   <a href='file:///~/AppData/Local/Packages/PythonSoftwareFoundation.Python.3.10_qbz5n2kfra8p0/LocalCache/local-packages/Python310/site-packages/tensorflow/python/eager/function.py?line=1849'>1850</a>\u001b[0m \u001b[39mif\u001b[39;00m (possible_gradient_type \u001b[39m==\u001b[39m gradients_util\u001b[39m.\u001b[39mPOSSIBLE_GRADIENT_TYPES_NONE\n\u001b[0;32m   <a href='file:///~/AppData/Local/Packages/PythonSoftwareFoundation.Python.3.10_qbz5n2kfra8p0/LocalCache/local-packages/Python310/site-packages/tensorflow/python/eager/function.py?line=1850'>1851</a>\u001b[0m     \u001b[39mand\u001b[39;00m executing_eagerly):\n\u001b[0;32m   <a href='file:///~/AppData/Local/Packages/PythonSoftwareFoundation.Python.3.10_qbz5n2kfra8p0/LocalCache/local-packages/Python310/site-packages/tensorflow/python/eager/function.py?line=1851'>1852</a>\u001b[0m   \u001b[39m# No tape is watching; skip to running the function.\u001b[39;00m\n\u001b[1;32m-> <a href='file:///~/AppData/Local/Packages/PythonSoftwareFoundation.Python.3.10_qbz5n2kfra8p0/LocalCache/local-packages/Python310/site-packages/tensorflow/python/eager/function.py?line=1852'>1853</a>\u001b[0m   \u001b[39mreturn\u001b[39;00m \u001b[39mself\u001b[39m\u001b[39m.\u001b[39m_build_call_outputs(\u001b[39mself\u001b[39;49m\u001b[39m.\u001b[39;49m_inference_function\u001b[39m.\u001b[39;49mcall(\n\u001b[0;32m   <a href='file:///~/AppData/Local/Packages/PythonSoftwareFoundation.Python.3.10_qbz5n2kfra8p0/LocalCache/local-packages/Python310/site-packages/tensorflow/python/eager/function.py?line=1853'>1854</a>\u001b[0m       ctx, args, cancellation_manager\u001b[39m=\u001b[39;49mcancellation_manager))\n\u001b[0;32m   <a href='file:///~/AppData/Local/Packages/PythonSoftwareFoundation.Python.3.10_qbz5n2kfra8p0/LocalCache/local-packages/Python310/site-packages/tensorflow/python/eager/function.py?line=1854'>1855</a>\u001b[0m forward_backward \u001b[39m=\u001b[39m \u001b[39mself\u001b[39m\u001b[39m.\u001b[39m_select_forward_and_backward_functions(\n\u001b[0;32m   <a href='file:///~/AppData/Local/Packages/PythonSoftwareFoundation.Python.3.10_qbz5n2kfra8p0/LocalCache/local-packages/Python310/site-packages/tensorflow/python/eager/function.py?line=1855'>1856</a>\u001b[0m     args,\n\u001b[0;32m   <a href='file:///~/AppData/Local/Packages/PythonSoftwareFoundation.Python.3.10_qbz5n2kfra8p0/LocalCache/local-packages/Python310/site-packages/tensorflow/python/eager/function.py?line=1856'>1857</a>\u001b[0m     possible_gradient_type,\n\u001b[0;32m   <a href='file:///~/AppData/Local/Packages/PythonSoftwareFoundation.Python.3.10_qbz5n2kfra8p0/LocalCache/local-packages/Python310/site-packages/tensorflow/python/eager/function.py?line=1857'>1858</a>\u001b[0m     executing_eagerly)\n\u001b[0;32m   <a href='file:///~/AppData/Local/Packages/PythonSoftwareFoundation.Python.3.10_qbz5n2kfra8p0/LocalCache/local-packages/Python310/site-packages/tensorflow/python/eager/function.py?line=1858'>1859</a>\u001b[0m forward_function, args_with_tangents \u001b[39m=\u001b[39m forward_backward\u001b[39m.\u001b[39mforward()\n",
      "File \u001b[1;32m~\\AppData\\Local\\Packages\\PythonSoftwareFoundation.Python.3.10_qbz5n2kfra8p0\\LocalCache\\local-packages\\Python310\\site-packages\\tensorflow\\python\\eager\\function.py:499\u001b[0m, in \u001b[0;36m_EagerDefinedFunction.call\u001b[1;34m(self, ctx, args, cancellation_manager)\u001b[0m\n\u001b[0;32m    <a href='file:///~/AppData/Local/Packages/PythonSoftwareFoundation.Python.3.10_qbz5n2kfra8p0/LocalCache/local-packages/Python310/site-packages/tensorflow/python/eager/function.py?line=496'>497</a>\u001b[0m \u001b[39mwith\u001b[39;00m _InterpolateFunctionError(\u001b[39mself\u001b[39m):\n\u001b[0;32m    <a href='file:///~/AppData/Local/Packages/PythonSoftwareFoundation.Python.3.10_qbz5n2kfra8p0/LocalCache/local-packages/Python310/site-packages/tensorflow/python/eager/function.py?line=497'>498</a>\u001b[0m   \u001b[39mif\u001b[39;00m cancellation_manager \u001b[39mis\u001b[39;00m \u001b[39mNone\u001b[39;00m:\n\u001b[1;32m--> <a href='file:///~/AppData/Local/Packages/PythonSoftwareFoundation.Python.3.10_qbz5n2kfra8p0/LocalCache/local-packages/Python310/site-packages/tensorflow/python/eager/function.py?line=498'>499</a>\u001b[0m     outputs \u001b[39m=\u001b[39m execute\u001b[39m.\u001b[39;49mexecute(\n\u001b[0;32m    <a href='file:///~/AppData/Local/Packages/PythonSoftwareFoundation.Python.3.10_qbz5n2kfra8p0/LocalCache/local-packages/Python310/site-packages/tensorflow/python/eager/function.py?line=499'>500</a>\u001b[0m         \u001b[39mstr\u001b[39;49m(\u001b[39mself\u001b[39;49m\u001b[39m.\u001b[39;49msignature\u001b[39m.\u001b[39;49mname),\n\u001b[0;32m    <a href='file:///~/AppData/Local/Packages/PythonSoftwareFoundation.Python.3.10_qbz5n2kfra8p0/LocalCache/local-packages/Python310/site-packages/tensorflow/python/eager/function.py?line=500'>501</a>\u001b[0m         num_outputs\u001b[39m=\u001b[39;49m\u001b[39mself\u001b[39;49m\u001b[39m.\u001b[39;49m_num_outputs,\n\u001b[0;32m    <a href='file:///~/AppData/Local/Packages/PythonSoftwareFoundation.Python.3.10_qbz5n2kfra8p0/LocalCache/local-packages/Python310/site-packages/tensorflow/python/eager/function.py?line=501'>502</a>\u001b[0m         inputs\u001b[39m=\u001b[39;49margs,\n\u001b[0;32m    <a href='file:///~/AppData/Local/Packages/PythonSoftwareFoundation.Python.3.10_qbz5n2kfra8p0/LocalCache/local-packages/Python310/site-packages/tensorflow/python/eager/function.py?line=502'>503</a>\u001b[0m         attrs\u001b[39m=\u001b[39;49mattrs,\n\u001b[0;32m    <a href='file:///~/AppData/Local/Packages/PythonSoftwareFoundation.Python.3.10_qbz5n2kfra8p0/LocalCache/local-packages/Python310/site-packages/tensorflow/python/eager/function.py?line=503'>504</a>\u001b[0m         ctx\u001b[39m=\u001b[39;49mctx)\n\u001b[0;32m    <a href='file:///~/AppData/Local/Packages/PythonSoftwareFoundation.Python.3.10_qbz5n2kfra8p0/LocalCache/local-packages/Python310/site-packages/tensorflow/python/eager/function.py?line=504'>505</a>\u001b[0m   \u001b[39melse\u001b[39;00m:\n\u001b[0;32m    <a href='file:///~/AppData/Local/Packages/PythonSoftwareFoundation.Python.3.10_qbz5n2kfra8p0/LocalCache/local-packages/Python310/site-packages/tensorflow/python/eager/function.py?line=505'>506</a>\u001b[0m     outputs \u001b[39m=\u001b[39m execute\u001b[39m.\u001b[39mexecute_with_cancellation(\n\u001b[0;32m    <a href='file:///~/AppData/Local/Packages/PythonSoftwareFoundation.Python.3.10_qbz5n2kfra8p0/LocalCache/local-packages/Python310/site-packages/tensorflow/python/eager/function.py?line=506'>507</a>\u001b[0m         \u001b[39mstr\u001b[39m(\u001b[39mself\u001b[39m\u001b[39m.\u001b[39msignature\u001b[39m.\u001b[39mname),\n\u001b[0;32m    <a href='file:///~/AppData/Local/Packages/PythonSoftwareFoundation.Python.3.10_qbz5n2kfra8p0/LocalCache/local-packages/Python310/site-packages/tensorflow/python/eager/function.py?line=507'>508</a>\u001b[0m         num_outputs\u001b[39m=\u001b[39m\u001b[39mself\u001b[39m\u001b[39m.\u001b[39m_num_outputs,\n\u001b[1;32m   (...)\u001b[0m\n\u001b[0;32m    <a href='file:///~/AppData/Local/Packages/PythonSoftwareFoundation.Python.3.10_qbz5n2kfra8p0/LocalCache/local-packages/Python310/site-packages/tensorflow/python/eager/function.py?line=510'>511</a>\u001b[0m         ctx\u001b[39m=\u001b[39mctx,\n\u001b[0;32m    <a href='file:///~/AppData/Local/Packages/PythonSoftwareFoundation.Python.3.10_qbz5n2kfra8p0/LocalCache/local-packages/Python310/site-packages/tensorflow/python/eager/function.py?line=511'>512</a>\u001b[0m         cancellation_manager\u001b[39m=\u001b[39mcancellation_manager)\n",
      "File \u001b[1;32m~\\AppData\\Local\\Packages\\PythonSoftwareFoundation.Python.3.10_qbz5n2kfra8p0\\LocalCache\\local-packages\\Python310\\site-packages\\tensorflow\\python\\eager\\execute.py:54\u001b[0m, in \u001b[0;36mquick_execute\u001b[1;34m(op_name, num_outputs, inputs, attrs, ctx, name)\u001b[0m\n\u001b[0;32m     <a href='file:///~/AppData/Local/Packages/PythonSoftwareFoundation.Python.3.10_qbz5n2kfra8p0/LocalCache/local-packages/Python310/site-packages/tensorflow/python/eager/execute.py?line=51'>52</a>\u001b[0m \u001b[39mtry\u001b[39;00m:\n\u001b[0;32m     <a href='file:///~/AppData/Local/Packages/PythonSoftwareFoundation.Python.3.10_qbz5n2kfra8p0/LocalCache/local-packages/Python310/site-packages/tensorflow/python/eager/execute.py?line=52'>53</a>\u001b[0m   ctx\u001b[39m.\u001b[39mensure_initialized()\n\u001b[1;32m---> <a href='file:///~/AppData/Local/Packages/PythonSoftwareFoundation.Python.3.10_qbz5n2kfra8p0/LocalCache/local-packages/Python310/site-packages/tensorflow/python/eager/execute.py?line=53'>54</a>\u001b[0m   tensors \u001b[39m=\u001b[39m pywrap_tfe\u001b[39m.\u001b[39;49mTFE_Py_Execute(ctx\u001b[39m.\u001b[39;49m_handle, device_name, op_name,\n\u001b[0;32m     <a href='file:///~/AppData/Local/Packages/PythonSoftwareFoundation.Python.3.10_qbz5n2kfra8p0/LocalCache/local-packages/Python310/site-packages/tensorflow/python/eager/execute.py?line=54'>55</a>\u001b[0m                                       inputs, attrs, num_outputs)\n\u001b[0;32m     <a href='file:///~/AppData/Local/Packages/PythonSoftwareFoundation.Python.3.10_qbz5n2kfra8p0/LocalCache/local-packages/Python310/site-packages/tensorflow/python/eager/execute.py?line=55'>56</a>\u001b[0m \u001b[39mexcept\u001b[39;00m core\u001b[39m.\u001b[39m_NotOkStatusException \u001b[39mas\u001b[39;00m e:\n\u001b[0;32m     <a href='file:///~/AppData/Local/Packages/PythonSoftwareFoundation.Python.3.10_qbz5n2kfra8p0/LocalCache/local-packages/Python310/site-packages/tensorflow/python/eager/execute.py?line=56'>57</a>\u001b[0m   \u001b[39mif\u001b[39;00m name \u001b[39mis\u001b[39;00m \u001b[39mnot\u001b[39;00m \u001b[39mNone\u001b[39;00m:\n",
      "\u001b[1;31mKeyboardInterrupt\u001b[0m: "
     ]
    }
   ],
   "source": [
    "model.fit(X_train, y_train, epochs=1500, callbacks=[tb_callback])"
   ]
  },
  {
   "cell_type": "code",
   "execution_count": null,
   "id": "4dd98f19",
   "metadata": {},
   "outputs": [],
   "source": [
    "model.summary()"
   ]
  },
  {
   "cell_type": "markdown",
   "id": "fe8a364b",
   "metadata": {},
   "source": [
    "# Make Prediction"
   ]
  },
  {
   "cell_type": "code",
   "execution_count": null,
   "id": "9570aa53",
   "metadata": {},
   "outputs": [],
   "source": [
    "#load signs, x_test, y_test\n",
    "testDatasPath=os.path.join(\"Test_Datas\")\n",
    "signsPath=os.path.join(\"Signs\")\n",
    "x_test=np.load(os.path.join(testDatasPath,'x_test.npy'))\n",
    "y_test=np.load(os.path.join(testDatasPath,'y_test.npy'))\n",
    "signs=np.load(os.path.join(signsPath,'signs.npy'))"
   ]
  },
  {
   "cell_type": "code",
   "execution_count": null,
   "id": "40a4654d",
   "metadata": {},
   "outputs": [],
   "source": [
    "res = model.predict(x_test)"
   ]
  },
  {
   "cell_type": "code",
   "execution_count": 19,
   "id": "6d488230",
   "metadata": {},
   "outputs": [
    {
     "data": {
      "text/plain": [
       "array(['Accident', 'Ambulance', 'Clap', 'Fight', 'Help', 'Hospital',\n",
       "       'Hungry', 'Ill', 'Medicine', 'Washroom'], dtype='<U9')"
      ]
     },
     "execution_count": 19,
     "metadata": {},
     "output_type": "execute_result"
    }
   ],
   "source": [
    "signs"
   ]
  },
  {
   "cell_type": "code",
   "execution_count": 20,
   "id": "385d05e9",
   "metadata": {},
   "outputs": [
    {
     "data": {
      "text/plain": [
       "'Accident'"
      ]
     },
     "execution_count": 20,
     "metadata": {},
     "output_type": "execute_result"
    }
   ],
   "source": [
    "signs[np.argmax(res[5])]"
   ]
  },
  {
   "cell_type": "code",
   "execution_count": 21,
   "id": "4a806dcd",
   "metadata": {},
   "outputs": [
    {
     "data": {
      "text/plain": [
       "'Fight'"
      ]
     },
     "execution_count": 21,
     "metadata": {},
     "output_type": "execute_result"
    }
   ],
   "source": [
    "signs[np.argmax(y_test[5])]"
   ]
  },
  {
   "cell_type": "code",
   "execution_count": null,
   "id": "1b4dc6bd",
   "metadata": {},
   "outputs": [],
   "source": [
    "res.shape"
   ]
  },
  {
   "cell_type": "code",
   "execution_count": null,
   "id": "fe1b0ada",
   "metadata": {},
   "outputs": [],
   "source": [
    "y_test"
   ]
  },
  {
   "cell_type": "code",
   "execution_count": null,
   "id": "81e3f184",
   "metadata": {},
   "outputs": [],
   "source": [
    "res"
   ]
  },
  {
   "cell_type": "code",
   "execution_count": null,
   "id": "c3059ce5",
   "metadata": {},
   "outputs": [],
   "source": [
    "np.argmax(res[0])"
   ]
  },
  {
   "cell_type": "code",
   "execution_count": null,
   "id": "b5530448",
   "metadata": {},
   "outputs": [],
   "source": [
    "np.argmax(y_test[0])"
   ]
  },
  {
   "cell_type": "markdown",
   "id": "4f142721",
   "metadata": {},
   "source": [
    "# Save Model"
   ]
  },
  {
   "cell_type": "code",
   "execution_count": 21,
   "id": "7f87293d",
   "metadata": {},
   "outputs": [],
   "source": [
    "model.save('SLR.h5')"
   ]
  },
  {
   "cell_type": "markdown",
   "id": "72c19c07",
   "metadata": {},
   "source": [
    "# Load Model"
   ]
  },
  {
   "cell_type": "code",
   "execution_count": null,
   "id": "081ced2d",
   "metadata": {},
   "outputs": [],
   "source": [
    "model=createModel()"
   ]
  },
  {
   "cell_type": "code",
   "execution_count": null,
   "id": "57687f5d",
   "metadata": {},
   "outputs": [],
   "source": [
    "model.load_weights('SLR.h5')"
   ]
  },
  {
   "cell_type": "markdown",
   "id": "feea6fa2",
   "metadata": {},
   "source": [
    "# Evaluation using confusion matrix"
   ]
  },
  {
   "cell_type": "code",
   "execution_count": null,
   "id": "cf12737f",
   "metadata": {},
   "outputs": [],
   "source": [
    "from sklearn.metrics import multilabel_confusion_matrix,confusion_matrix, accuracy_score"
   ]
  },
  {
   "cell_type": "code",
   "execution_count": null,
   "id": "a30a9240",
   "metadata": {},
   "outputs": [],
   "source": [
    "true_labels=[]\n",
    "for label in y_test:\n",
    "    index=np.argmax(label)\n",
    "    true_labels.append(signs[index])"
   ]
  },
  {
   "cell_type": "code",
   "execution_count": null,
   "id": "c2ca039d",
   "metadata": {},
   "outputs": [],
   "source": [
    "true_labels"
   ]
  },
  {
   "cell_type": "code",
   "execution_count": null,
   "id": "3d4a1667",
   "metadata": {},
   "outputs": [],
   "source": [
    "y_predicted = model.predict(x_test)"
   ]
  },
  {
   "cell_type": "code",
   "execution_count": null,
   "id": "b972116b",
   "metadata": {},
   "outputs": [],
   "source": [
    "predicted_labels=[]\n",
    "for label in y_predicted:\n",
    "    index=np.argmax(label)\n",
    "    predicted_labels.append(signs[index])"
   ]
  },
  {
   "cell_type": "code",
   "execution_count": null,
   "id": "ba98dd02",
   "metadata": {},
   "outputs": [],
   "source": [
    "predicted_labels"
   ]
  },
  {
   "cell_type": "code",
   "execution_count": null,
   "id": "aa6203e1",
   "metadata": {},
   "outputs": [],
   "source": [
    "y_true = np.argmax(y_test, axis=1).tolist()"
   ]
  },
  {
   "cell_type": "code",
   "execution_count": null,
   "id": "e69ca117",
   "metadata": {},
   "outputs": [],
   "source": [
    "y_predicted=np.argmax(y_predicted,axis=1).tolist()"
   ]
  },
  {
   "cell_type": "code",
   "execution_count": null,
   "id": "2d865b5b",
   "metadata": {},
   "outputs": [],
   "source": [
    "y_true"
   ]
  },
  {
   "cell_type": "code",
   "execution_count": null,
   "id": "f229c77c",
   "metadata": {},
   "outputs": [],
   "source": [
    "y_test"
   ]
  },
  {
   "cell_type": "code",
   "execution_count": null,
   "id": "789e96b4",
   "metadata": {},
   "outputs": [],
   "source": [
    "y_test.shape"
   ]
  },
  {
   "cell_type": "code",
   "execution_count": null,
   "id": "3d769ea3",
   "metadata": {},
   "outputs": [],
   "source": [
    "y_predicted"
   ]
  },
  {
   "cell_type": "code",
   "execution_count": null,
   "id": "5a1fc4f4",
   "metadata": {},
   "outputs": [],
   "source": [
    "signs"
   ]
  },
  {
   "cell_type": "code",
   "execution_count": null,
   "id": "39dd44bc",
   "metadata": {},
   "outputs": [],
   "source": [
    "multilabel_confusion_matrix(true_labels, predicted_labels,labels=signs)"
   ]
  },
  {
   "cell_type": "code",
   "execution_count": null,
   "id": "ec74c3c6",
   "metadata": {},
   "outputs": [],
   "source": [
    "confusion_matrix(y_true, y_predicted)"
   ]
  },
  {
   "cell_type": "code",
   "execution_count": null,
   "id": "d125b1d4",
   "metadata": {},
   "outputs": [],
   "source": [
    "accuracy_score(y_true,y_predicted)"
   ]
  },
  {
   "cell_type": "code",
   "execution_count": null,
   "id": "e0b399c0",
   "metadata": {},
   "outputs": [],
   "source": [
    "y_test.tolist()"
   ]
  },
  {
   "cell_type": "code",
   "execution_count": null,
   "id": "a67867c9",
   "metadata": {
    "scrolled": true
   },
   "outputs": [],
   "source": [
    "list(zip(true_labels, predicted_labels))"
   ]
  },
  {
   "cell_type": "code",
   "execution_count": null,
   "id": "859f7993",
   "metadata": {},
   "outputs": [],
   "source": [
    "import cv2\n",
    "import mediapipe as mp\n",
    "import numpy as np\n",
    "import os\n",
    "\n",
    "mpHolistic=mp.solutions.holistic\n",
    "mpDraw=mp.solutions.drawing_utils\n",
    "vid=cv2.VideoCapture(0)\n",
    "\n",
    "#path for flatten datas\n",
    "dataPath = os.path.join('Sign_Data')\n",
    "\n",
    "key=1\n",
    "\n",
    "\n",
    "#path for images\n",
    "imgPath= os.path.join('Sign_Image')\n",
    "\n",
    "signs=np.array([\"Hello\",\"Thank You\", \"Hungry\", \"Food\", \"Hospital\", \"Washroom\"])\n",
    "\n",
    "#30 video of each sign\n",
    "numSequences=60\n",
    "\n",
    "\n",
    "#length of each video\n",
    "sequenceLength=30\n",
    "\n",
    "#draw landmarks in image\n",
    "def drawLandmarks():\n",
    "    mpDraw.draw_landmarks(img,results.face_landmarks,mpHolistic.FACEMESH_CONTOURS,mpDraw.DrawingSpec(color=(80, 110, 10), thickness=1, circle_radius=1),mpDraw.DrawingSpec(color=(80, 256, 121), thickness=2, circle_radius=2))\n",
    "    mpDraw.draw_landmarks(img,results.pose_landmarks,mpHolistic.POSE_CONNECTIONS,mpDraw.DrawingSpec(color=(80, 22, 10), thickness=1, circle_radius=1),mpDraw.DrawingSpec(color=(80, 44, 121), thickness=2, circle_radius=2))\n",
    "    mpDraw.draw_landmarks(img,results.left_hand_landmarks,mpHolistic.HAND_CONNECTIONS,mpDraw.DrawingSpec(color=(121, 22, 90), thickness=1, circle_radius=1),mpDraw.DrawingSpec(color=(255, 100, 112), thickness=2, circle_radius=2))\n",
    "    mpDraw.draw_landmarks(img,results.right_hand_landmarks,mpHolistic.HAND_CONNECTIONS,mpDraw.DrawingSpec(color=(250, 80, 10), thickness=1, circle_radius=1),mpDraw.DrawingSpec(color=(200, 50, 250), thickness=2, circle_radius=2))\n",
    "\n",
    "# extract keypoints of the features in image\n",
    "def extractKeypoints():\n",
    "    face=np.array([[res.x,res.y,res.z] for res in results.face_landmarks.landmark]).flatten()if results.face_landmarks else np.zeros(468*3)\n",
    "    leftHand=np.array([[res.x,res.y,res.z] for res in results.left_hand_landmarks.landmark]).flatten()if results.left_hand_landmarks else np.zeros(21*3)\n",
    "    rightHand=np.array([[res.x,res.y,res.z] for res in results.right_hand_landmarks.landmark]).flatten()if results.right_hand_landmarks else np.zeros(21*3)\n",
    "    pose=np.array([[res.x,res.y,res.z,res.visibility] for res in results.pose_landmarks.landmark]).flatten()if results.pose_landmarks else np.zeros(33*4)\n",
    "    return np.concatenate([face,leftHand,rightHand,pose])\n",
    "\n",
    "# making folders if not exist\n",
    "for sign in signs:\n",
    "    for sequence in range(numSequences):\n",
    "            try:\n",
    "                os.makedirs(os.path.join(dataPath,sign,str(sequence)))\n",
    "                os.makedirs(os.path.join(imgPath,sign,str(sequence)))\n",
    "            except:\n",
    "                pass\n",
    "\n",
    "with mpHolistic.Holistic() as holistic:\n",
    "\n",
    "    #taking label input \n",
    "    while True:\n",
    "        blankImg = np.zeros(shape=[512, 512, 3], dtype=np.uint8)\n",
    "        cv2.putText(blankImg,\"Select label: \", (10,50),cv2.FONT_HERSHEY_SIMPLEX, 0.8, (255, 0, 0), 1, cv2.LINE_AA)\n",
    "        cv2.putText(blankImg,\"0: Hello , 1: Thank You\", (10,100),cv2.FONT_HERSHEY_SIMPLEX, 0.5, (0, 255, 0), 1, cv2.LINE_AA)\n",
    "        cv2.putText(blankImg,\"2: Hungry , 3: Food\", (10,150),cv2.FONT_HERSHEY_SIMPLEX, 0.5, (0, 255, 0), 1, cv2.LINE_AA)\n",
    "        cv2.putText(blankImg,\"4: Hospital , 5: Washroom\", (10,200),cv2.FONT_HERSHEY_SIMPLEX, 0.5, (0, 255, 0), 1, cv2.LINE_AA)\n",
    "        cv2.putText(blankImg,\"'ESC' to escape\", (10,250),cv2.FONT_HERSHEY_SIMPLEX, 0.5, (0, 0, 255), 1, cv2.LINE_AA)\n",
    "        cv2.imshow('Select label',blankImg)\n",
    "        inpt=cv2.waitKey(0)\n",
    "        if inpt == 48 or inpt == 49 or inpt == 50 or inpt == 51 or inpt == 52 or inpt == 53:\n",
    "            choice=signs[inpt-48]\n",
    "            cv2.destroyWindow('Select label')\n",
    "            break\n",
    "        else:\n",
    "            if inpt==27:\n",
    "                break\n",
    "                     \n",
    "    #checking camera is opened or not and taking data    \n",
    "    while vid.isOpened() and inpt!=27 :\n",
    "        for sequence in range(30,60):\n",
    "            for frameNum in range(sequenceLength+1):\n",
    "                #checks for user input to close the windows                \n",
    "                key=cv2.waitKey(1)                  \n",
    "                success,img=vid.read()\n",
    "                \n",
    "                #checking if data is accessed or not from camera\n",
    "                if not success:\n",
    "                    break  \n",
    "                img=cv2.cvtColor(img,cv2.COLOR_BGR2RGB)\n",
    "                # img.flags.writeable=False\n",
    "                results=holistic.process(img) \n",
    "                # img.flags.writeable=True     \n",
    "                img=cv2.cvtColor(img,cv2.COLOR_RGB2BGR)\n",
    "                \n",
    "                #draws landmarks\n",
    "                drawLandmarks()\n",
    "                \n",
    "                #show feed for collecting datas and delays for 2 sec\n",
    "                if frameNum == 0: \n",
    "                    cv2.putText(img, \"Press 'ESC' to escape\", (10,20),cv2.FONT_HERSHEY_SIMPLEX, 0.5, (0, 0, 255), 1, cv2.LINE_AA) \n",
    "                    cv2.putText(img, 'starts in 2 sec', (10,60), \n",
    "                               cv2.FONT_HERSHEY_SIMPLEX, 0.6, (255,0, 0), 1, cv2.LINE_AA)\n",
    "                    cv2.imshow('Collecting Datas', img)\n",
    "                    key= cv2.waitKey(2000)\n",
    "                    # cv2.waitKey(2000)\n",
    "                \n",
    "                #starts collecting datas    \n",
    "                else: \n",
    "                    cv2.putText(img, f\"Collecting Data for '{choice}' Video Number {sequence}\", (15,20),cv2.FONT_HERSHEY_SIMPLEX, 0.5, (0, 0, 255), 1, cv2.LINE_AA) \n",
    "                    cv2.imshow('Collecting Datas', img)\n",
    "                    keypoints=extractKeypoints()  \n",
    "                    \n",
    "                    #saving flatten array to datapath\n",
    "                    np.save(os.path.join(dataPath,choice,str(sequence),str(frameNum-1)),keypoints)\n",
    "                    \n",
    "                    #saving image to image path\n",
    "                    jpgPath=os.path.join(imgPath,choice,str(sequence),str(frameNum-1))\n",
    "                    cv2.imwrite(f\"{jpgPath}.jpg\",img)\n",
    "                    key=2 #giving default value for key to avoid esc while taking data\n",
    "\n",
    "\n",
    "                if key == 27 : #press esc to close the window\n",
    "                    break     \n",
    "            if key == 27 : #press esc to close the window\n",
    "                break        \n",
    "        if key == 27 : #press esc to close the window\n",
    "            break             \n",
    "            \n",
    "#releasing the port            \n",
    "vid.release() \n",
    "\n",
    "#destroying all opened windows using opencv\n",
    "cv2.destroyAllWindows()            "
   ]
  },
  {
   "cell_type": "code",
   "execution_count": null,
   "id": "09bbbac0",
   "metadata": {},
   "outputs": [],
   "source": []
  }
 ],
 "metadata": {
  "kernelspec": {
   "display_name": "Python 3 (ipykernel)",
   "language": "python",
   "name": "python3"
  },
  "language_info": {
   "codemirror_mode": {
    "name": "ipython",
    "version": 3
   },
   "file_extension": ".py",
   "mimetype": "text/x-python",
   "name": "python",
   "nbconvert_exporter": "python",
   "pygments_lexer": "ipython3",
   "version": "3.10.2"
  }
 },
 "nbformat": 4,
 "nbformat_minor": 5
}
